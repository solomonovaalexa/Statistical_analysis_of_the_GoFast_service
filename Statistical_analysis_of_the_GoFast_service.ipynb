{
 "cells": [
  {
   "cell_type": "markdown",
   "id": "75e94cf8",
   "metadata": {},
   "source": [
    "## Наименование проекта"
   ]
  },
  {
   "cell_type": "markdown",
   "id": "33b68644",
   "metadata": {},
   "source": [
    "Статистический анализ данных сервиса аренды самокатов GoFast"
   ]
  },
  {
   "cell_type": "markdown",
   "id": "67409aa5",
   "metadata": {},
   "source": [
    "## Описание проекта"
   ]
  },
  {
   "cell_type": "markdown",
   "id": "f51a1efa",
   "metadata": {},
   "source": [
    "Нам передали данные о некоторых пользователях сериса GoFast из нескольких городов, а также об их поездках. \n",
    "\n",
    "Цель проекта - проанализировать данные и проверить некоторые гипотезы, которые могут помочь бизнесу вырасти.\n",
    "\n",
    "Чтобы совершать поездки по городу, пользователи сервиса GoFast пользуются мобильным приложением. Сервисом можно пользоваться:\n",
    "1) без подписки\n",
    "- абонентская плата отсутствует;\n",
    "- стоимость одной минуты поездки — 8 рублей;\n",
    "- стоимость старта (начала поездки) — 50 рублей;\n",
    "\n",
    "2) с подпиской Ultra\n",
    "- абонентская плата — 199 рублей в месяц;\n",
    "- стоимость одной минуты поездки — 6 рублей;\n",
    "- стоимость старта — бесплатно."
   ]
  },
  {
   "cell_type": "markdown",
   "id": "b9eaaef5",
   "metadata": {},
   "source": [
    "## Гипотезы"
   ]
  },
  {
   "cell_type": "markdown",
   "id": "af38e766",
   "metadata": {},
   "source": [
    "1) Тратят ли пользователи с подпиской больше времени на поездки?\n",
    "\n",
    "2) Расстояние одной поездки в 3130 метров — оптимальное с точки зрения износа самоката?\n",
    "\n",
    "3) Будет ли помесячная выручка от пользователей с подпиской по месяцам выше, чем выручка от пользователей без подписки?"
   ]
  },
  {
   "cell_type": "markdown",
   "id": "1c3830ff",
   "metadata": {},
   "source": [
    "## Загрузка данных"
   ]
  },
  {
   "cell_type": "code",
   "execution_count": 1,
   "id": "72576667",
   "metadata": {},
   "outputs": [],
   "source": [
    "import pandas as pd\n",
    "import matplotlib.pyplot as plt\n",
    "import numpy as np\n",
    "from scipy import stats as st\n",
    "from math import factorial"
   ]
  },
  {
   "cell_type": "code",
   "execution_count": 2,
   "id": "eff9f206",
   "metadata": {},
   "outputs": [],
   "source": [
    "users = pd.read_csv('/datasets/users_go.csv')\n",
    "riders = pd.read_csv('/datasets/rides_go.csv', parse_dates=['date'], dayfirst=True)\n",
    "subscriptions = pd.read_csv('/datasets/subscriptions_go.csv')"
   ]
  },
  {
   "cell_type": "code",
   "execution_count": 3,
   "id": "a0f5ef83",
   "metadata": {},
   "outputs": [
    {
     "data": {
      "text/html": [
       "<div>\n",
       "<style scoped>\n",
       "    .dataframe tbody tr th:only-of-type {\n",
       "        vertical-align: middle;\n",
       "    }\n",
       "\n",
       "    .dataframe tbody tr th {\n",
       "        vertical-align: top;\n",
       "    }\n",
       "\n",
       "    .dataframe thead th {\n",
       "        text-align: right;\n",
       "    }\n",
       "</style>\n",
       "<table border=\"1\" class=\"dataframe\">\n",
       "  <thead>\n",
       "    <tr style=\"text-align: right;\">\n",
       "      <th></th>\n",
       "      <th>user_id</th>\n",
       "      <th>name</th>\n",
       "      <th>age</th>\n",
       "      <th>city</th>\n",
       "      <th>subscription_type</th>\n",
       "    </tr>\n",
       "  </thead>\n",
       "  <tbody>\n",
       "    <tr>\n",
       "      <th>0</th>\n",
       "      <td>1</td>\n",
       "      <td>Кира</td>\n",
       "      <td>22</td>\n",
       "      <td>Тюмень</td>\n",
       "      <td>ultra</td>\n",
       "    </tr>\n",
       "    <tr>\n",
       "      <th>1</th>\n",
       "      <td>2</td>\n",
       "      <td>Станислав</td>\n",
       "      <td>31</td>\n",
       "      <td>Омск</td>\n",
       "      <td>ultra</td>\n",
       "    </tr>\n",
       "    <tr>\n",
       "      <th>2</th>\n",
       "      <td>3</td>\n",
       "      <td>Алексей</td>\n",
       "      <td>20</td>\n",
       "      <td>Москва</td>\n",
       "      <td>ultra</td>\n",
       "    </tr>\n",
       "    <tr>\n",
       "      <th>3</th>\n",
       "      <td>4</td>\n",
       "      <td>Константин</td>\n",
       "      <td>26</td>\n",
       "      <td>Ростов-на-Дону</td>\n",
       "      <td>ultra</td>\n",
       "    </tr>\n",
       "    <tr>\n",
       "      <th>4</th>\n",
       "      <td>5</td>\n",
       "      <td>Адель</td>\n",
       "      <td>28</td>\n",
       "      <td>Омск</td>\n",
       "      <td>ultra</td>\n",
       "    </tr>\n",
       "  </tbody>\n",
       "</table>\n",
       "</div>"
      ],
      "text/plain": [
       "   user_id        name  age            city subscription_type\n",
       "0        1        Кира   22          Тюмень             ultra\n",
       "1        2   Станислав   31            Омск             ultra\n",
       "2        3     Алексей   20          Москва             ultra\n",
       "3        4  Константин   26  Ростов-на-Дону             ultra\n",
       "4        5       Адель   28            Омск             ultra"
      ]
     },
     "execution_count": 3,
     "metadata": {},
     "output_type": "execute_result"
    }
   ],
   "source": [
    "users.head()"
   ]
  },
  {
   "cell_type": "code",
   "execution_count": 4,
   "id": "6a86519f",
   "metadata": {},
   "outputs": [
    {
     "name": "stdout",
     "output_type": "stream",
     "text": [
      "<class 'pandas.core.frame.DataFrame'>\n",
      "RangeIndex: 1565 entries, 0 to 1564\n",
      "Data columns (total 5 columns):\n",
      " #   Column             Non-Null Count  Dtype \n",
      "---  ------             --------------  ----- \n",
      " 0   user_id            1565 non-null   int64 \n",
      " 1   name               1565 non-null   object\n",
      " 2   age                1565 non-null   int64 \n",
      " 3   city               1565 non-null   object\n",
      " 4   subscription_type  1565 non-null   object\n",
      "dtypes: int64(2), object(3)\n",
      "memory usage: 61.3+ KB\n"
     ]
    }
   ],
   "source": [
    "users.info()"
   ]
  },
  {
   "cell_type": "code",
   "execution_count": 5,
   "id": "25322130",
   "metadata": {},
   "outputs": [
    {
     "data": {
      "text/html": [
       "<div>\n",
       "<style scoped>\n",
       "    .dataframe tbody tr th:only-of-type {\n",
       "        vertical-align: middle;\n",
       "    }\n",
       "\n",
       "    .dataframe tbody tr th {\n",
       "        vertical-align: top;\n",
       "    }\n",
       "\n",
       "    .dataframe thead th {\n",
       "        text-align: right;\n",
       "    }\n",
       "</style>\n",
       "<table border=\"1\" class=\"dataframe\">\n",
       "  <thead>\n",
       "    <tr style=\"text-align: right;\">\n",
       "      <th></th>\n",
       "      <th>user_id</th>\n",
       "      <th>distance</th>\n",
       "      <th>duration</th>\n",
       "      <th>date</th>\n",
       "    </tr>\n",
       "  </thead>\n",
       "  <tbody>\n",
       "    <tr>\n",
       "      <th>0</th>\n",
       "      <td>1</td>\n",
       "      <td>4409.919140</td>\n",
       "      <td>25.599769</td>\n",
       "      <td>2021-01-01</td>\n",
       "    </tr>\n",
       "    <tr>\n",
       "      <th>1</th>\n",
       "      <td>1</td>\n",
       "      <td>2617.592153</td>\n",
       "      <td>15.816871</td>\n",
       "      <td>2021-01-18</td>\n",
       "    </tr>\n",
       "    <tr>\n",
       "      <th>2</th>\n",
       "      <td>1</td>\n",
       "      <td>754.159807</td>\n",
       "      <td>6.232113</td>\n",
       "      <td>2021-04-20</td>\n",
       "    </tr>\n",
       "    <tr>\n",
       "      <th>3</th>\n",
       "      <td>1</td>\n",
       "      <td>2694.783254</td>\n",
       "      <td>18.511000</td>\n",
       "      <td>2021-08-11</td>\n",
       "    </tr>\n",
       "    <tr>\n",
       "      <th>4</th>\n",
       "      <td>1</td>\n",
       "      <td>4028.687306</td>\n",
       "      <td>26.265803</td>\n",
       "      <td>2021-08-28</td>\n",
       "    </tr>\n",
       "  </tbody>\n",
       "</table>\n",
       "</div>"
      ],
      "text/plain": [
       "   user_id     distance   duration       date\n",
       "0        1  4409.919140  25.599769 2021-01-01\n",
       "1        1  2617.592153  15.816871 2021-01-18\n",
       "2        1   754.159807   6.232113 2021-04-20\n",
       "3        1  2694.783254  18.511000 2021-08-11\n",
       "4        1  4028.687306  26.265803 2021-08-28"
      ]
     },
     "execution_count": 5,
     "metadata": {},
     "output_type": "execute_result"
    }
   ],
   "source": [
    "riders.head()"
   ]
  },
  {
   "cell_type": "code",
   "execution_count": 6,
   "id": "ef0e07f7",
   "metadata": {},
   "outputs": [
    {
     "name": "stdout",
     "output_type": "stream",
     "text": [
      "<class 'pandas.core.frame.DataFrame'>\n",
      "RangeIndex: 18068 entries, 0 to 18067\n",
      "Data columns (total 4 columns):\n",
      " #   Column    Non-Null Count  Dtype         \n",
      "---  ------    --------------  -----         \n",
      " 0   user_id   18068 non-null  int64         \n",
      " 1   distance  18068 non-null  float64       \n",
      " 2   duration  18068 non-null  float64       \n",
      " 3   date      18068 non-null  datetime64[ns]\n",
      "dtypes: datetime64[ns](1), float64(2), int64(1)\n",
      "memory usage: 564.8 KB\n"
     ]
    }
   ],
   "source": [
    "riders.info()"
   ]
  },
  {
   "cell_type": "code",
   "execution_count": 7,
   "id": "c89ac29c",
   "metadata": {},
   "outputs": [
    {
     "data": {
      "text/html": [
       "<div>\n",
       "<style scoped>\n",
       "    .dataframe tbody tr th:only-of-type {\n",
       "        vertical-align: middle;\n",
       "    }\n",
       "\n",
       "    .dataframe tbody tr th {\n",
       "        vertical-align: top;\n",
       "    }\n",
       "\n",
       "    .dataframe thead th {\n",
       "        text-align: right;\n",
       "    }\n",
       "</style>\n",
       "<table border=\"1\" class=\"dataframe\">\n",
       "  <thead>\n",
       "    <tr style=\"text-align: right;\">\n",
       "      <th></th>\n",
       "      <th>subscription_type</th>\n",
       "      <th>minute_price</th>\n",
       "      <th>start_ride_price</th>\n",
       "      <th>subscription_fee</th>\n",
       "    </tr>\n",
       "  </thead>\n",
       "  <tbody>\n",
       "    <tr>\n",
       "      <th>0</th>\n",
       "      <td>free</td>\n",
       "      <td>8</td>\n",
       "      <td>50</td>\n",
       "      <td>0</td>\n",
       "    </tr>\n",
       "    <tr>\n",
       "      <th>1</th>\n",
       "      <td>ultra</td>\n",
       "      <td>6</td>\n",
       "      <td>0</td>\n",
       "      <td>199</td>\n",
       "    </tr>\n",
       "  </tbody>\n",
       "</table>\n",
       "</div>"
      ],
      "text/plain": [
       "  subscription_type  minute_price  start_ride_price  subscription_fee\n",
       "0              free             8                50                 0\n",
       "1             ultra             6                 0               199"
      ]
     },
     "execution_count": 7,
     "metadata": {},
     "output_type": "execute_result"
    }
   ],
   "source": [
    "subscriptions.head()"
   ]
  },
  {
   "cell_type": "code",
   "execution_count": 8,
   "id": "d5b76e62",
   "metadata": {},
   "outputs": [
    {
     "name": "stdout",
     "output_type": "stream",
     "text": [
      "<class 'pandas.core.frame.DataFrame'>\n",
      "RangeIndex: 2 entries, 0 to 1\n",
      "Data columns (total 4 columns):\n",
      " #   Column             Non-Null Count  Dtype \n",
      "---  ------             --------------  ----- \n",
      " 0   subscription_type  2 non-null      object\n",
      " 1   minute_price       2 non-null      int64 \n",
      " 2   start_ride_price   2 non-null      int64 \n",
      " 3   subscription_fee   2 non-null      int64 \n",
      "dtypes: int64(3), object(1)\n",
      "memory usage: 192.0+ bytes\n"
     ]
    }
   ],
   "source": [
    "subscriptions.info()"
   ]
  },
  {
   "cell_type": "markdown",
   "id": "e95ebca7",
   "metadata": {},
   "source": [
    "## Предобработка данных"
   ]
  },
  {
   "cell_type": "code",
   "execution_count": 10,
   "id": "a2e5b390",
   "metadata": {
    "scrolled": true
   },
   "outputs": [
    {
     "data": {
      "text/plain": [
       "0         1\n",
       "1         1\n",
       "2         4\n",
       "3         8\n",
       "4         8\n",
       "         ..\n",
       "18063    11\n",
       "18064    11\n",
       "18065    11\n",
       "18066    11\n",
       "18067    12\n",
       "Name: month, Length: 18068, dtype: int64"
      ]
     },
     "execution_count": 10,
     "metadata": {},
     "output_type": "execute_result"
    }
   ],
   "source": [
    "#создадим новый столбец с месяцами\n",
    "riders['month'] = pd.DatetimeIndex(riders['date']).month\n",
    "riders['month']"
   ]
  },
  {
   "cell_type": "code",
   "execution_count": 11,
   "id": "3e12a8a8",
   "metadata": {
    "scrolled": true
   },
   "outputs": [
    {
     "data": {
      "text/plain": [
       "user_id              0\n",
       "name                 0\n",
       "age                  0\n",
       "city                 0\n",
       "subscription_type    0\n",
       "dtype: int64"
      ]
     },
     "execution_count": 11,
     "metadata": {},
     "output_type": "execute_result"
    }
   ],
   "source": [
    "#выведем кол-во пропусков в таблицах\n",
    "users.isna().sum()"
   ]
  },
  {
   "cell_type": "code",
   "execution_count": 12,
   "id": "f51b0254",
   "metadata": {},
   "outputs": [
    {
     "data": {
      "text/plain": [
       "user_id     0\n",
       "distance    0\n",
       "duration    0\n",
       "date        0\n",
       "month       0\n",
       "dtype: int64"
      ]
     },
     "execution_count": 12,
     "metadata": {},
     "output_type": "execute_result"
    }
   ],
   "source": [
    "riders.isna().sum()"
   ]
  },
  {
   "cell_type": "code",
   "execution_count": 13,
   "id": "3768239a",
   "metadata": {},
   "outputs": [
    {
     "data": {
      "text/plain": [
       "subscription_type    0\n",
       "minute_price         0\n",
       "start_ride_price     0\n",
       "subscription_fee     0\n",
       "dtype: int64"
      ]
     },
     "execution_count": 13,
     "metadata": {},
     "output_type": "execute_result"
    }
   ],
   "source": [
    "subscriptions.isna().sum()"
   ]
  },
  {
   "cell_type": "code",
   "execution_count": 14,
   "id": "86e85d25",
   "metadata": {
    "scrolled": true
   },
   "outputs": [
    {
     "data": {
      "text/plain": [
       "31"
      ]
     },
     "execution_count": 14,
     "metadata": {},
     "output_type": "execute_result"
    }
   ],
   "source": [
    "#выведем кол-во дубликатов в таблицах\n",
    "users.duplicated().sum()"
   ]
  },
  {
   "cell_type": "code",
   "execution_count": 15,
   "id": "50f727c0",
   "metadata": {
    "scrolled": true
   },
   "outputs": [
    {
     "data": {
      "text/html": [
       "<div>\n",
       "<style scoped>\n",
       "    .dataframe tbody tr th:only-of-type {\n",
       "        vertical-align: middle;\n",
       "    }\n",
       "\n",
       "    .dataframe tbody tr th {\n",
       "        vertical-align: top;\n",
       "    }\n",
       "\n",
       "    .dataframe thead th {\n",
       "        text-align: right;\n",
       "    }\n",
       "</style>\n",
       "<table border=\"1\" class=\"dataframe\">\n",
       "  <thead>\n",
       "    <tr style=\"text-align: right;\">\n",
       "      <th></th>\n",
       "      <th>index</th>\n",
       "      <th>user_id</th>\n",
       "      <th>name</th>\n",
       "      <th>age</th>\n",
       "      <th>city</th>\n",
       "      <th>subscription_type</th>\n",
       "    </tr>\n",
       "  </thead>\n",
       "  <tbody>\n",
       "    <tr>\n",
       "      <th>0</th>\n",
       "      <td>0</td>\n",
       "      <td>1</td>\n",
       "      <td>Кира</td>\n",
       "      <td>22</td>\n",
       "      <td>Тюмень</td>\n",
       "      <td>ultra</td>\n",
       "    </tr>\n",
       "    <tr>\n",
       "      <th>1</th>\n",
       "      <td>1</td>\n",
       "      <td>2</td>\n",
       "      <td>Станислав</td>\n",
       "      <td>31</td>\n",
       "      <td>Омск</td>\n",
       "      <td>ultra</td>\n",
       "    </tr>\n",
       "    <tr>\n",
       "      <th>2</th>\n",
       "      <td>2</td>\n",
       "      <td>3</td>\n",
       "      <td>Алексей</td>\n",
       "      <td>20</td>\n",
       "      <td>Москва</td>\n",
       "      <td>ultra</td>\n",
       "    </tr>\n",
       "    <tr>\n",
       "      <th>3</th>\n",
       "      <td>3</td>\n",
       "      <td>4</td>\n",
       "      <td>Константин</td>\n",
       "      <td>26</td>\n",
       "      <td>Ростов-на-Дону</td>\n",
       "      <td>ultra</td>\n",
       "    </tr>\n",
       "    <tr>\n",
       "      <th>4</th>\n",
       "      <td>4</td>\n",
       "      <td>5</td>\n",
       "      <td>Адель</td>\n",
       "      <td>28</td>\n",
       "      <td>Омск</td>\n",
       "      <td>ultra</td>\n",
       "    </tr>\n",
       "    <tr>\n",
       "      <th>...</th>\n",
       "      <td>...</td>\n",
       "      <td>...</td>\n",
       "      <td>...</td>\n",
       "      <td>...</td>\n",
       "      <td>...</td>\n",
       "      <td>...</td>\n",
       "    </tr>\n",
       "    <tr>\n",
       "      <th>1529</th>\n",
       "      <td>1529</td>\n",
       "      <td>1530</td>\n",
       "      <td>Ростислав</td>\n",
       "      <td>29</td>\n",
       "      <td>Сочи</td>\n",
       "      <td>free</td>\n",
       "    </tr>\n",
       "    <tr>\n",
       "      <th>1530</th>\n",
       "      <td>1530</td>\n",
       "      <td>1531</td>\n",
       "      <td>Никита</td>\n",
       "      <td>25</td>\n",
       "      <td>Пятигорск</td>\n",
       "      <td>free</td>\n",
       "    </tr>\n",
       "    <tr>\n",
       "      <th>1531</th>\n",
       "      <td>1531</td>\n",
       "      <td>1532</td>\n",
       "      <td>Алексей</td>\n",
       "      <td>26</td>\n",
       "      <td>Тюмень</td>\n",
       "      <td>free</td>\n",
       "    </tr>\n",
       "    <tr>\n",
       "      <th>1532</th>\n",
       "      <td>1532</td>\n",
       "      <td>1533</td>\n",
       "      <td>Степан</td>\n",
       "      <td>22</td>\n",
       "      <td>Краснодар</td>\n",
       "      <td>free</td>\n",
       "    </tr>\n",
       "    <tr>\n",
       "      <th>1533</th>\n",
       "      <td>1533</td>\n",
       "      <td>1534</td>\n",
       "      <td>Альберт</td>\n",
       "      <td>25</td>\n",
       "      <td>Краснодар</td>\n",
       "      <td>free</td>\n",
       "    </tr>\n",
       "  </tbody>\n",
       "</table>\n",
       "<p>1534 rows × 6 columns</p>\n",
       "</div>"
      ],
      "text/plain": [
       "      index  user_id        name  age            city subscription_type\n",
       "0         0        1        Кира   22          Тюмень             ultra\n",
       "1         1        2   Станислав   31            Омск             ultra\n",
       "2         2        3     Алексей   20          Москва             ultra\n",
       "3         3        4  Константин   26  Ростов-на-Дону             ultra\n",
       "4         4        5       Адель   28            Омск             ultra\n",
       "...     ...      ...         ...  ...             ...               ...\n",
       "1529   1529     1530   Ростислав   29            Сочи              free\n",
       "1530   1530     1531      Никита   25       Пятигорск              free\n",
       "1531   1531     1532     Алексей   26          Тюмень              free\n",
       "1532   1532     1533      Степан   22       Краснодар              free\n",
       "1533   1533     1534     Альберт   25       Краснодар              free\n",
       "\n",
       "[1534 rows x 6 columns]"
      ]
     },
     "execution_count": 15,
     "metadata": {},
     "output_type": "execute_result"
    }
   ],
   "source": [
    "#удалим строки-дубликаты и вернем индексацию\n",
    "users = users.drop_duplicates().reset_index()\n",
    "users"
   ]
  },
  {
   "cell_type": "code",
   "execution_count": 16,
   "id": "4293945d",
   "metadata": {},
   "outputs": [
    {
     "data": {
      "text/plain": [
       "0"
      ]
     },
     "execution_count": 16,
     "metadata": {},
     "output_type": "execute_result"
    }
   ],
   "source": [
    "riders.duplicated().sum()"
   ]
  },
  {
   "cell_type": "code",
   "execution_count": 17,
   "id": "b6341c7e",
   "metadata": {},
   "outputs": [
    {
     "data": {
      "text/plain": [
       "0"
      ]
     },
     "execution_count": 17,
     "metadata": {},
     "output_type": "execute_result"
    }
   ],
   "source": [
    "subscriptions.duplicated().sum()"
   ]
  },
  {
   "cell_type": "markdown",
   "id": "508ccccb",
   "metadata": {},
   "source": [
    "**Вывод:**\n",
    "\n",
    "В таблице 'riders' создали столбец 'month', отображающий в какой месяц каждый пользователь соврешал поездки.\n",
    "\n",
    "Пропусков в таблицах не обнаружилось.\n",
    "    \n",
    "Зато в таблице 'users' нашлась 31 строка-дубликат, которые мы удалили."
   ]
  },
  {
   "cell_type": "markdown",
   "id": "212593c7",
   "metadata": {},
   "source": [
    "## Исследовательский анализ данных"
   ]
  },
  {
   "cell_type": "markdown",
   "id": "db5e6d3d",
   "metadata": {},
   "source": [
    "**Частота встречаемости городов**"
   ]
  },
  {
   "cell_type": "code",
   "execution_count": 18,
   "id": "e3a4274c",
   "metadata": {
    "scrolled": true
   },
   "outputs": [
    {
     "data": {
      "text/plain": [
       "Text(0.5, 1.0, 'Встречаемость городов')"
      ]
     },
     "execution_count": 18,
     "metadata": {},
     "output_type": "execute_result"
    },
    {
     "data": {
      "image/png": "[encoded data removed]",
      "text/plain": [
       "<Figure size 432x288 with 1 Axes>"
      ]
     },
     "metadata": {},
     "output_type": "display_data"
    }
   ],
   "source": [
    "users['city'].value_counts().plot(kind='pie',autopct='%.2f')\n",
    "plt.title('Встречаемость городов')"
   ]
  },
  {
   "cell_type": "markdown",
   "id": "4ca3e52a",
   "metadata": {},
   "source": [
    "На первый взгляд можно сказать, что города в таблице 'users' встречаются почти с одинаковой частотой. То есть пользователей из разных городов примерно одинаковое кол-во. Анализируя доли в процентах, видим, что все-таки чаще остальных в таблице встречается город Пятигорск (14.44%) (значит, тут чаще ездят на самокатах), реже - Москва (10.99%)."
   ]
  },
  {
   "cell_type": "markdown",
   "id": "9d228db6",
   "metadata": {},
   "source": [
    "**Соотношение пользователей с подпиской и без подписки**"
   ]
  },
  {
   "cell_type": "code",
   "execution_count": 19,
   "id": "108dda9c",
   "metadata": {},
   "outputs": [
    {
     "data": {
      "text/plain": [
       "Text(0.5, 1.0, 'Соотношение пользователей с подпиской и без')"
      ]
     },
     "execution_count": 19,
     "metadata": {},
     "output_type": "execute_result"
    },
    {
     "data": {
      "image/png": "[encoded data removed]",
      "text/plain": [
       "<Figure size 432x288 with 1 Axes>"
      ]
     },
     "metadata": {},
     "output_type": "display_data"
    }
   ],
   "source": [
    "users['subscription_type'].value_counts().plot(kind='pie',autopct='%.2f')\n",
    "plt.title('Соотношение пользователей с подпиской и без')"
   ]
  },
  {
   "cell_type": "markdown",
   "id": "5670640b",
   "metadata": {},
   "source": [
    "Кол-во пользователей без подписки немного больше (54.06%), чем пользователей с подпиской 'ultra' (45.94%). Разница - почти 10%."
   ]
  },
  {
   "cell_type": "markdown",
   "id": "b5d5f9e6",
   "metadata": {},
   "source": [
    "**Возраст пользователей**"
   ]
  },
  {
   "cell_type": "code",
   "execution_count": 20,
   "id": "daed0d7d",
   "metadata": {},
   "outputs": [
    {
     "data": {
      "text/plain": [
       "Text(0.5, 1.0, 'Возраст пользователей')"
      ]
     },
     "execution_count": 20,
     "metadata": {},
     "output_type": "execute_result"
    },
    {
     "data": {
      "image/png": "[encoded data removed]",
      "text/plain": [
       "<Figure size 432x288 with 1 Axes>"
      ]
     },
     "metadata": {
      "needs_background": "light"
     },
     "output_type": "display_data"
    }
   ],
   "source": [
    "users['age'].hist(bins=20,range=(0,60))\n",
    "plt.xlabel('возраст')\n",
    "plt.ylabel('частота')\n",
    "plt.title('Возраст пользователей')"
   ]
  },
  {
   "cell_type": "markdown",
   "id": "fabb21ce",
   "metadata": {},
   "source": [
    "По графику видим, что пользователи 20-30 лет чаще остальных пользуются самокатами. Двадцатипятилетние пользователи - чаще всех. Пользователи меньше 12 лет совсем не пользуются самокатами (возможно из-за возрастного ограничения). Наименьшее кол-во пользователей - 36 лет и старше. "
   ]
  },
  {
   "cell_type": "markdown",
   "id": "43004e5e",
   "metadata": {},
   "source": [
    "**Расстояние, которое пользователь преодолел за одну поездку**"
   ]
  },
  {
   "cell_type": "code",
   "execution_count": 21,
   "id": "b71a71a2",
   "metadata": {},
   "outputs": [
    {
     "data": {
      "text/plain": [
       "Text(0.5, 1.0, 'Расстояние за 1 поездку')"
      ]
     },
     "execution_count": 21,
     "metadata": {},
     "output_type": "execute_result"
    },
    {
     "data": {
      "image/png": "[encoded data removed]",
      "text/plain": [
       "<Figure size 432x288 with 1 Axes>"
      ]
     },
     "metadata": {
      "needs_background": "light"
     },
     "output_type": "display_data"
    }
   ],
   "source": [
    "riders['distance'].hist(bins=15)\n",
    "plt.xlabel('расстояние в метрах')\n",
    "plt.ylabel('частота')\n",
    "plt.title('Расстояние за 1 поездку')"
   ]
  },
  {
   "cell_type": "markdown",
   "id": "c7f19c08",
   "metadata": {},
   "source": [
    "Самая частая дистанция поездок на самокатах - 3 км. В целом пользователи берут самокаты для поездок на 2,5-4,5 км. График показывает небольшую долю поездок в 0 км. (возможно пользователи арендовали самокат и сразу передумывали). Более 6 км на самокатах почти никто не ездил."
   ]
  },
  {
   "cell_type": "markdown",
   "id": "70fc1fe7",
   "metadata": {},
   "source": [
    "**Продолжительность поездок**"
   ]
  },
  {
   "cell_type": "code",
   "execution_count": 22,
   "id": "4e89f0c3",
   "metadata": {},
   "outputs": [
    {
     "data": {
      "text/plain": [
       "Text(0.5, 1.0, 'Продолжительность 1 поездки')"
      ]
     },
     "execution_count": 22,
     "metadata": {},
     "output_type": "execute_result"
    },
    {
     "data": {
      "image/png": "[encoded data removed]",
      "text/plain": [
       "<Figure size 432x288 with 1 Axes>"
      ]
     },
     "metadata": {
      "needs_background": "light"
     },
     "output_type": "display_data"
    }
   ],
   "source": [
    "riders['duration'].hist(bins=15)\n",
    "plt.xlabel('продолжительность в минутах')\n",
    "plt.ylabel('частота')\n",
    "plt.title('Продолжительность 1 поездки')"
   ]
  },
  {
   "cell_type": "markdown",
   "id": "058a6e67",
   "metadata": {},
   "source": [
    "Средняя продолжительность поездок на самокатах составляет 15-20 минут. Меньше 1 минуты и больше 35 минут поездок практически не совершают."
   ]
  },
  {
   "cell_type": "markdown",
   "id": "3418acf4",
   "metadata": {},
   "source": [
    "**Вывод:**\n",
    "    \n",
    "По графикам мы выявили, что:\n",
    "\n",
    "- больше всего пользователей проживают в городе Пятигорск (14.44%);\n",
    "\n",
    "- кол-во пользователей с подпиской (45.94%) меньше чем пользователей без подписки (54,06%);\n",
    "\n",
    "- средний возраст пользователей составляет 25 лет;\n",
    "\n",
    "- за 1 поездку пользователь преодолевает в среднем 3 км.;\n",
    "\n",
    "- среднее время 1 поездки составляет 15-20 мин."
   ]
  },
  {
   "cell_type": "markdown",
   "id": "4ef51331",
   "metadata": {},
   "source": [
    "## Объединение данных"
   ]
  },
  {
   "cell_type": "code",
   "execution_count": 23,
   "id": "6bf288b5",
   "metadata": {
    "scrolled": true
   },
   "outputs": [
    {
     "data": {
      "text/html": [
       "<div>\n",
       "<style scoped>\n",
       "    .dataframe tbody tr th:only-of-type {\n",
       "        vertical-align: middle;\n",
       "    }\n",
       "\n",
       "    .dataframe tbody tr th {\n",
       "        vertical-align: top;\n",
       "    }\n",
       "\n",
       "    .dataframe thead th {\n",
       "        text-align: right;\n",
       "    }\n",
       "</style>\n",
       "<table border=\"1\" class=\"dataframe\">\n",
       "  <thead>\n",
       "    <tr style=\"text-align: right;\">\n",
       "      <th></th>\n",
       "      <th>index</th>\n",
       "      <th>user_id</th>\n",
       "      <th>name</th>\n",
       "      <th>age</th>\n",
       "      <th>city</th>\n",
       "      <th>subscription_type</th>\n",
       "      <th>distance</th>\n",
       "      <th>duration</th>\n",
       "      <th>date</th>\n",
       "      <th>month</th>\n",
       "      <th>minute_price</th>\n",
       "      <th>start_ride_price</th>\n",
       "      <th>subscription_fee</th>\n",
       "    </tr>\n",
       "  </thead>\n",
       "  <tbody>\n",
       "    <tr>\n",
       "      <th>0</th>\n",
       "      <td>0</td>\n",
       "      <td>1</td>\n",
       "      <td>Кира</td>\n",
       "      <td>22</td>\n",
       "      <td>Тюмень</td>\n",
       "      <td>ultra</td>\n",
       "      <td>4409.919140</td>\n",
       "      <td>26.0</td>\n",
       "      <td>2021-01-01</td>\n",
       "      <td>1</td>\n",
       "      <td>6</td>\n",
       "      <td>0</td>\n",
       "      <td>199</td>\n",
       "    </tr>\n",
       "    <tr>\n",
       "      <th>1</th>\n",
       "      <td>0</td>\n",
       "      <td>1</td>\n",
       "      <td>Кира</td>\n",
       "      <td>22</td>\n",
       "      <td>Тюмень</td>\n",
       "      <td>ultra</td>\n",
       "      <td>2617.592153</td>\n",
       "      <td>16.0</td>\n",
       "      <td>2021-01-18</td>\n",
       "      <td>1</td>\n",
       "      <td>6</td>\n",
       "      <td>0</td>\n",
       "      <td>199</td>\n",
       "    </tr>\n",
       "    <tr>\n",
       "      <th>2</th>\n",
       "      <td>0</td>\n",
       "      <td>1</td>\n",
       "      <td>Кира</td>\n",
       "      <td>22</td>\n",
       "      <td>Тюмень</td>\n",
       "      <td>ultra</td>\n",
       "      <td>754.159807</td>\n",
       "      <td>7.0</td>\n",
       "      <td>2021-04-20</td>\n",
       "      <td>4</td>\n",
       "      <td>6</td>\n",
       "      <td>0</td>\n",
       "      <td>199</td>\n",
       "    </tr>\n",
       "    <tr>\n",
       "      <th>3</th>\n",
       "      <td>0</td>\n",
       "      <td>1</td>\n",
       "      <td>Кира</td>\n",
       "      <td>22</td>\n",
       "      <td>Тюмень</td>\n",
       "      <td>ultra</td>\n",
       "      <td>2694.783254</td>\n",
       "      <td>19.0</td>\n",
       "      <td>2021-08-11</td>\n",
       "      <td>8</td>\n",
       "      <td>6</td>\n",
       "      <td>0</td>\n",
       "      <td>199</td>\n",
       "    </tr>\n",
       "    <tr>\n",
       "      <th>4</th>\n",
       "      <td>0</td>\n",
       "      <td>1</td>\n",
       "      <td>Кира</td>\n",
       "      <td>22</td>\n",
       "      <td>Тюмень</td>\n",
       "      <td>ultra</td>\n",
       "      <td>4028.687306</td>\n",
       "      <td>27.0</td>\n",
       "      <td>2021-08-28</td>\n",
       "      <td>8</td>\n",
       "      <td>6</td>\n",
       "      <td>0</td>\n",
       "      <td>199</td>\n",
       "    </tr>\n",
       "    <tr>\n",
       "      <th>...</th>\n",
       "      <td>...</td>\n",
       "      <td>...</td>\n",
       "      <td>...</td>\n",
       "      <td>...</td>\n",
       "      <td>...</td>\n",
       "      <td>...</td>\n",
       "      <td>...</td>\n",
       "      <td>...</td>\n",
       "      <td>...</td>\n",
       "      <td>...</td>\n",
       "      <td>...</td>\n",
       "      <td>...</td>\n",
       "      <td>...</td>\n",
       "    </tr>\n",
       "    <tr>\n",
       "      <th>18063</th>\n",
       "      <td>1533</td>\n",
       "      <td>1534</td>\n",
       "      <td>Альберт</td>\n",
       "      <td>25</td>\n",
       "      <td>Краснодар</td>\n",
       "      <td>free</td>\n",
       "      <td>3781.098080</td>\n",
       "      <td>20.0</td>\n",
       "      <td>2021-11-04</td>\n",
       "      <td>11</td>\n",
       "      <td>8</td>\n",
       "      <td>50</td>\n",
       "      <td>0</td>\n",
       "    </tr>\n",
       "    <tr>\n",
       "      <th>18064</th>\n",
       "      <td>1533</td>\n",
       "      <td>1534</td>\n",
       "      <td>Альберт</td>\n",
       "      <td>25</td>\n",
       "      <td>Краснодар</td>\n",
       "      <td>free</td>\n",
       "      <td>2840.423057</td>\n",
       "      <td>22.0</td>\n",
       "      <td>2021-11-16</td>\n",
       "      <td>11</td>\n",
       "      <td>8</td>\n",
       "      <td>50</td>\n",
       "      <td>0</td>\n",
       "    </tr>\n",
       "    <tr>\n",
       "      <th>18065</th>\n",
       "      <td>1533</td>\n",
       "      <td>1534</td>\n",
       "      <td>Альберт</td>\n",
       "      <td>25</td>\n",
       "      <td>Краснодар</td>\n",
       "      <td>free</td>\n",
       "      <td>3826.185507</td>\n",
       "      <td>19.0</td>\n",
       "      <td>2021-11-18</td>\n",
       "      <td>11</td>\n",
       "      <td>8</td>\n",
       "      <td>50</td>\n",
       "      <td>0</td>\n",
       "    </tr>\n",
       "    <tr>\n",
       "      <th>18066</th>\n",
       "      <td>1533</td>\n",
       "      <td>1534</td>\n",
       "      <td>Альберт</td>\n",
       "      <td>25</td>\n",
       "      <td>Краснодар</td>\n",
       "      <td>free</td>\n",
       "      <td>2902.308661</td>\n",
       "      <td>17.0</td>\n",
       "      <td>2021-11-27</td>\n",
       "      <td>11</td>\n",
       "      <td>8</td>\n",
       "      <td>50</td>\n",
       "      <td>0</td>\n",
       "    </tr>\n",
       "    <tr>\n",
       "      <th>18067</th>\n",
       "      <td>1533</td>\n",
       "      <td>1534</td>\n",
       "      <td>Альберт</td>\n",
       "      <td>25</td>\n",
       "      <td>Краснодар</td>\n",
       "      <td>free</td>\n",
       "      <td>2371.711192</td>\n",
       "      <td>16.0</td>\n",
       "      <td>2021-12-29</td>\n",
       "      <td>12</td>\n",
       "      <td>8</td>\n",
       "      <td>50</td>\n",
       "      <td>0</td>\n",
       "    </tr>\n",
       "  </tbody>\n",
       "</table>\n",
       "<p>18068 rows × 13 columns</p>\n",
       "</div>"
      ],
      "text/plain": [
       "       index  user_id     name  age       city subscription_type     distance  \\\n",
       "0          0        1     Кира   22     Тюмень             ultra  4409.919140   \n",
       "1          0        1     Кира   22     Тюмень             ultra  2617.592153   \n",
       "2          0        1     Кира   22     Тюмень             ultra   754.159807   \n",
       "3          0        1     Кира   22     Тюмень             ultra  2694.783254   \n",
       "4          0        1     Кира   22     Тюмень             ultra  4028.687306   \n",
       "...      ...      ...      ...  ...        ...               ...          ...   \n",
       "18063   1533     1534  Альберт   25  Краснодар              free  3781.098080   \n",
       "18064   1533     1534  Альберт   25  Краснодар              free  2840.423057   \n",
       "18065   1533     1534  Альберт   25  Краснодар              free  3826.185507   \n",
       "18066   1533     1534  Альберт   25  Краснодар              free  2902.308661   \n",
       "18067   1533     1534  Альберт   25  Краснодар              free  2371.711192   \n",
       "\n",
       "       duration       date  month  minute_price  start_ride_price  \\\n",
       "0          26.0 2021-01-01      1             6                 0   \n",
       "1          16.0 2021-01-18      1             6                 0   \n",
       "2           7.0 2021-04-20      4             6                 0   \n",
       "3          19.0 2021-08-11      8             6                 0   \n",
       "4          27.0 2021-08-28      8             6                 0   \n",
       "...         ...        ...    ...           ...               ...   \n",
       "18063      20.0 2021-11-04     11             8                50   \n",
       "18064      22.0 2021-11-16     11             8                50   \n",
       "18065      19.0 2021-11-18     11             8                50   \n",
       "18066      17.0 2021-11-27     11             8                50   \n",
       "18067      16.0 2021-12-29     12             8                50   \n",
       "\n",
       "       subscription_fee  \n",
       "0                   199  \n",
       "1                   199  \n",
       "2                   199  \n",
       "3                   199  \n",
       "4                   199  \n",
       "...                 ...  \n",
       "18063                 0  \n",
       "18064                 0  \n",
       "18065                 0  \n",
       "18066                 0  \n",
       "18067                 0  \n",
       "\n",
       "[18068 rows x 13 columns]"
      ]
     },
     "execution_count": 23,
     "metadata": {},
     "output_type": "execute_result"
    }
   ],
   "source": [
    "#объединим 3 таблицы в одну (users + riders + subscriptions)\n",
    "total = users.merge(riders, on='user_id', how='inner')\n",
    "total_merged = total.merge(subscriptions, on='subscription_type', how='left')\n",
    "total_merged['duration'] = np.ceil(total_merged['duration'])\n",
    "total_merged"
   ]
  },
  {
   "cell_type": "code",
   "execution_count": 24,
   "id": "41422b9b",
   "metadata": {
    "scrolled": true
   },
   "outputs": [
    {
     "data": {
      "text/html": [
       "<div>\n",
       "<style scoped>\n",
       "    .dataframe tbody tr th:only-of-type {\n",
       "        vertical-align: middle;\n",
       "    }\n",
       "\n",
       "    .dataframe tbody tr th {\n",
       "        vertical-align: top;\n",
       "    }\n",
       "\n",
       "    .dataframe thead th {\n",
       "        text-align: right;\n",
       "    }\n",
       "</style>\n",
       "<table border=\"1\" class=\"dataframe\">\n",
       "  <thead>\n",
       "    <tr style=\"text-align: right;\">\n",
       "      <th></th>\n",
       "      <th>index</th>\n",
       "      <th>user_id</th>\n",
       "      <th>name</th>\n",
       "      <th>age</th>\n",
       "      <th>city</th>\n",
       "      <th>subscription_type</th>\n",
       "      <th>distance</th>\n",
       "      <th>duration</th>\n",
       "      <th>date</th>\n",
       "      <th>month</th>\n",
       "      <th>minute_price</th>\n",
       "      <th>start_ride_price</th>\n",
       "      <th>subscription_fee</th>\n",
       "    </tr>\n",
       "  </thead>\n",
       "  <tbody>\n",
       "    <tr>\n",
       "      <th>6500</th>\n",
       "      <td>699</td>\n",
       "      <td>700</td>\n",
       "      <td>Айдар</td>\n",
       "      <td>22</td>\n",
       "      <td>Омск</td>\n",
       "      <td>free</td>\n",
       "      <td>2515.690719</td>\n",
       "      <td>15.0</td>\n",
       "      <td>2021-01-02</td>\n",
       "      <td>1</td>\n",
       "      <td>8</td>\n",
       "      <td>50</td>\n",
       "      <td>0</td>\n",
       "    </tr>\n",
       "    <tr>\n",
       "      <th>6501</th>\n",
       "      <td>699</td>\n",
       "      <td>700</td>\n",
       "      <td>Айдар</td>\n",
       "      <td>22</td>\n",
       "      <td>Омск</td>\n",
       "      <td>free</td>\n",
       "      <td>846.932642</td>\n",
       "      <td>17.0</td>\n",
       "      <td>2021-02-01</td>\n",
       "      <td>2</td>\n",
       "      <td>8</td>\n",
       "      <td>50</td>\n",
       "      <td>0</td>\n",
       "    </tr>\n",
       "    <tr>\n",
       "      <th>6502</th>\n",
       "      <td>699</td>\n",
       "      <td>700</td>\n",
       "      <td>Айдар</td>\n",
       "      <td>22</td>\n",
       "      <td>Омск</td>\n",
       "      <td>free</td>\n",
       "      <td>4004.434142</td>\n",
       "      <td>21.0</td>\n",
       "      <td>2021-02-04</td>\n",
       "      <td>2</td>\n",
       "      <td>8</td>\n",
       "      <td>50</td>\n",
       "      <td>0</td>\n",
       "    </tr>\n",
       "    <tr>\n",
       "      <th>6503</th>\n",
       "      <td>699</td>\n",
       "      <td>700</td>\n",
       "      <td>Айдар</td>\n",
       "      <td>22</td>\n",
       "      <td>Омск</td>\n",
       "      <td>free</td>\n",
       "      <td>1205.911290</td>\n",
       "      <td>10.0</td>\n",
       "      <td>2021-02-10</td>\n",
       "      <td>2</td>\n",
       "      <td>8</td>\n",
       "      <td>50</td>\n",
       "      <td>0</td>\n",
       "    </tr>\n",
       "    <tr>\n",
       "      <th>6504</th>\n",
       "      <td>699</td>\n",
       "      <td>700</td>\n",
       "      <td>Айдар</td>\n",
       "      <td>22</td>\n",
       "      <td>Омск</td>\n",
       "      <td>free</td>\n",
       "      <td>3047.379435</td>\n",
       "      <td>18.0</td>\n",
       "      <td>2021-02-14</td>\n",
       "      <td>2</td>\n",
       "      <td>8</td>\n",
       "      <td>50</td>\n",
       "      <td>0</td>\n",
       "    </tr>\n",
       "  </tbody>\n",
       "</table>\n",
       "</div>"
      ],
      "text/plain": [
       "      index  user_id   name  age  city subscription_type     distance  \\\n",
       "6500    699      700  Айдар   22  Омск              free  2515.690719   \n",
       "6501    699      700  Айдар   22  Омск              free   846.932642   \n",
       "6502    699      700  Айдар   22  Омск              free  4004.434142   \n",
       "6503    699      700  Айдар   22  Омск              free  1205.911290   \n",
       "6504    699      700  Айдар   22  Омск              free  3047.379435   \n",
       "\n",
       "      duration       date  month  minute_price  start_ride_price  \\\n",
       "6500      15.0 2021-01-02      1             8                50   \n",
       "6501      17.0 2021-02-01      2             8                50   \n",
       "6502      21.0 2021-02-04      2             8                50   \n",
       "6503      10.0 2021-02-10      2             8                50   \n",
       "6504      18.0 2021-02-14      2             8                50   \n",
       "\n",
       "      subscription_fee  \n",
       "6500                 0  \n",
       "6501                 0  \n",
       "6502                 0  \n",
       "6503                 0  \n",
       "6504                 0  "
      ]
     },
     "execution_count": 24,
     "metadata": {},
     "output_type": "execute_result"
    }
   ],
   "source": [
    "#создадим новые датафреймы о пользователях с подпиской (ultra) и без (free)\n",
    "free = total_merged[total_merged['subscription_type']=='free']\n",
    "free.head()"
   ]
  },
  {
   "cell_type": "code",
   "execution_count": 25,
   "id": "7c17f5f0",
   "metadata": {
    "scrolled": true
   },
   "outputs": [
    {
     "data": {
      "text/plain": [
       "Text(0.5, 1.0, 'Расстояние за 1 поездку пользователей без подписки')"
      ]
     },
     "execution_count": 25,
     "metadata": {},
     "output_type": "execute_result"
    },
    {
     "data": {
      "image/png": "[encoded data removed]",
      "text/plain": [
       "<Figure size 432x288 with 1 Axes>"
      ]
     },
     "metadata": {
      "needs_background": "light"
     },
     "output_type": "display_data"
    }
   ],
   "source": [
    "free['distance'].hist(bins=15)\n",
    "plt.xlabel('расстояние в метрах')\n",
    "plt.ylabel('частота')\n",
    "plt.title('Расстояние за 1 поездку пользователей без подписки')"
   ]
  },
  {
   "cell_type": "markdown",
   "id": "2908620c",
   "metadata": {},
   "source": [
    "Пользователи без подписки обычно ездят на расстояния 2-4,2 км. Чаще всего - на 2,8 км. У этой категории отчетливо просматриваются очень короткие поездки на 0-1 км. Дальше 6 км пользователи без подписки почти не ездят."
   ]
  },
  {
   "cell_type": "code",
   "execution_count": 26,
   "id": "4a2ba6d2",
   "metadata": {
    "scrolled": true
   },
   "outputs": [
    {
     "data": {
      "text/plain": [
       "Text(0.5, 1.0, 'Продолжительность 1 поездки пользователей без подписки')"
      ]
     },
     "execution_count": 26,
     "metadata": {},
     "output_type": "execute_result"
    },
    {
     "data": {
      "image/png": "[encoded data removed]",
      "text/plain": [
       "<Figure size 432x288 with 1 Axes>"
      ]
     },
     "metadata": {
      "needs_background": "light"
     },
     "output_type": "display_data"
    }
   ],
   "source": [
    "free['duration'].hist(bins=15)\n",
    "plt.xlabel('продолжительность в минутах')\n",
    "plt.ylabel('частота')\n",
    "plt.title('Продолжительность 1 поездки пользователей без подписки')"
   ]
  },
  {
   "cell_type": "markdown",
   "id": "94ac0936",
   "metadata": {},
   "source": [
    "Пользователи без подписки обычно ездят на самокатах 14-21 минут. Чаще всего - 17 минут. Дольше чем 35 минут поездок пользователями почти не осуществляется."
   ]
  },
  {
   "cell_type": "code",
   "execution_count": 27,
   "id": "a927345b",
   "metadata": {
    "scrolled": true
   },
   "outputs": [
    {
     "data": {
      "text/html": [
       "<div>\n",
       "<style scoped>\n",
       "    .dataframe tbody tr th:only-of-type {\n",
       "        vertical-align: middle;\n",
       "    }\n",
       "\n",
       "    .dataframe tbody tr th {\n",
       "        vertical-align: top;\n",
       "    }\n",
       "\n",
       "    .dataframe thead th {\n",
       "        text-align: right;\n",
       "    }\n",
       "</style>\n",
       "<table border=\"1\" class=\"dataframe\">\n",
       "  <thead>\n",
       "    <tr style=\"text-align: right;\">\n",
       "      <th></th>\n",
       "      <th>index</th>\n",
       "      <th>user_id</th>\n",
       "      <th>name</th>\n",
       "      <th>age</th>\n",
       "      <th>city</th>\n",
       "      <th>subscription_type</th>\n",
       "      <th>distance</th>\n",
       "      <th>duration</th>\n",
       "      <th>date</th>\n",
       "      <th>month</th>\n",
       "      <th>minute_price</th>\n",
       "      <th>start_ride_price</th>\n",
       "      <th>subscription_fee</th>\n",
       "    </tr>\n",
       "  </thead>\n",
       "  <tbody>\n",
       "    <tr>\n",
       "      <th>0</th>\n",
       "      <td>0</td>\n",
       "      <td>1</td>\n",
       "      <td>Кира</td>\n",
       "      <td>22</td>\n",
       "      <td>Тюмень</td>\n",
       "      <td>ultra</td>\n",
       "      <td>4409.919140</td>\n",
       "      <td>26.0</td>\n",
       "      <td>2021-01-01</td>\n",
       "      <td>1</td>\n",
       "      <td>6</td>\n",
       "      <td>0</td>\n",
       "      <td>199</td>\n",
       "    </tr>\n",
       "    <tr>\n",
       "      <th>1</th>\n",
       "      <td>0</td>\n",
       "      <td>1</td>\n",
       "      <td>Кира</td>\n",
       "      <td>22</td>\n",
       "      <td>Тюмень</td>\n",
       "      <td>ultra</td>\n",
       "      <td>2617.592153</td>\n",
       "      <td>16.0</td>\n",
       "      <td>2021-01-18</td>\n",
       "      <td>1</td>\n",
       "      <td>6</td>\n",
       "      <td>0</td>\n",
       "      <td>199</td>\n",
       "    </tr>\n",
       "    <tr>\n",
       "      <th>2</th>\n",
       "      <td>0</td>\n",
       "      <td>1</td>\n",
       "      <td>Кира</td>\n",
       "      <td>22</td>\n",
       "      <td>Тюмень</td>\n",
       "      <td>ultra</td>\n",
       "      <td>754.159807</td>\n",
       "      <td>7.0</td>\n",
       "      <td>2021-04-20</td>\n",
       "      <td>4</td>\n",
       "      <td>6</td>\n",
       "      <td>0</td>\n",
       "      <td>199</td>\n",
       "    </tr>\n",
       "    <tr>\n",
       "      <th>3</th>\n",
       "      <td>0</td>\n",
       "      <td>1</td>\n",
       "      <td>Кира</td>\n",
       "      <td>22</td>\n",
       "      <td>Тюмень</td>\n",
       "      <td>ultra</td>\n",
       "      <td>2694.783254</td>\n",
       "      <td>19.0</td>\n",
       "      <td>2021-08-11</td>\n",
       "      <td>8</td>\n",
       "      <td>6</td>\n",
       "      <td>0</td>\n",
       "      <td>199</td>\n",
       "    </tr>\n",
       "    <tr>\n",
       "      <th>4</th>\n",
       "      <td>0</td>\n",
       "      <td>1</td>\n",
       "      <td>Кира</td>\n",
       "      <td>22</td>\n",
       "      <td>Тюмень</td>\n",
       "      <td>ultra</td>\n",
       "      <td>4028.687306</td>\n",
       "      <td>27.0</td>\n",
       "      <td>2021-08-28</td>\n",
       "      <td>8</td>\n",
       "      <td>6</td>\n",
       "      <td>0</td>\n",
       "      <td>199</td>\n",
       "    </tr>\n",
       "  </tbody>\n",
       "</table>\n",
       "</div>"
      ],
      "text/plain": [
       "   index  user_id  name  age    city subscription_type     distance  duration  \\\n",
       "0      0        1  Кира   22  Тюмень             ultra  4409.919140      26.0   \n",
       "1      0        1  Кира   22  Тюмень             ultra  2617.592153      16.0   \n",
       "2      0        1  Кира   22  Тюмень             ultra   754.159807       7.0   \n",
       "3      0        1  Кира   22  Тюмень             ultra  2694.783254      19.0   \n",
       "4      0        1  Кира   22  Тюмень             ultra  4028.687306      27.0   \n",
       "\n",
       "        date  month  minute_price  start_ride_price  subscription_fee  \n",
       "0 2021-01-01      1             6                 0               199  \n",
       "1 2021-01-18      1             6                 0               199  \n",
       "2 2021-04-20      4             6                 0               199  \n",
       "3 2021-08-11      8             6                 0               199  \n",
       "4 2021-08-28      8             6                 0               199  "
      ]
     },
     "execution_count": 27,
     "metadata": {},
     "output_type": "execute_result"
    }
   ],
   "source": [
    "ultra = total_merged[total_merged['subscription_type']=='ultra']\n",
    "ultra.head()"
   ]
  },
  {
   "cell_type": "code",
   "execution_count": 28,
   "id": "ff4ff817",
   "metadata": {
    "scrolled": true
   },
   "outputs": [
    {
     "data": {
      "text/plain": [
       "Text(0.5, 1.0, 'Расстояние за 1 поездку пользователей с подпиской')"
      ]
     },
     "execution_count": 28,
     "metadata": {},
     "output_type": "execute_result"
    },
    {
     "data": {
      "image/png": "[encoded data removed]",
      "text/plain": [
       "<Figure size 432x288 with 1 Axes>"
      ]
     },
     "metadata": {
      "needs_background": "light"
     },
     "output_type": "display_data"
    }
   ],
   "source": [
    "ultra['distance'].hist(bins=15)\n",
    "plt.xlabel('расстояние в метрах')\n",
    "plt.ylabel('частота')\n",
    "plt.title('Расстояние за 1 поездку пользователей с подпиской')"
   ]
  },
  {
   "cell_type": "markdown",
   "id": "be887db9",
   "metadata": {},
   "source": [
    "Пользователи с подпиской обычно ездят на расстояния 2.5-3,5 км. Чаще всего - на 3 км. У этой категории совсем нет поездок на 0-0,2 км. Дальше 6 км пользователи без подписки почти не ездят."
   ]
  },
  {
   "cell_type": "code",
   "execution_count": 29,
   "id": "0d215526",
   "metadata": {},
   "outputs": [
    {
     "data": {
      "text/plain": [
       "Text(0.5, 1.0, 'Продолжительность 1 поездки пользователей с подпиской')"
      ]
     },
     "execution_count": 29,
     "metadata": {},
     "output_type": "execute_result"
    },
    {
     "data": {
      "image/png": "[encoded data removed]",
      "text/plain": [
       "<Figure size 432x288 with 1 Axes>"
      ]
     },
     "metadata": {
      "needs_background": "light"
     },
     "output_type": "display_data"
    }
   ],
   "source": [
    "ultra['duration'].hist(bins=15)\n",
    "plt.xlabel('продолжительность в минутах')\n",
    "plt.ylabel('частота')\n",
    "plt.title('Продолжительность 1 поездки пользователей с подпиской')"
   ]
  },
  {
   "cell_type": "markdown",
   "id": "0dd8f57a",
   "metadata": {},
   "source": [
    "Пользователи с подпиской в среднем тратят на езду на самокате 14-21 минут. Чаще всего - 17 минут. Дольше чем 41 минуту пользователи почти не ездят на самоткатах."
   ]
  },
  {
   "cell_type": "markdown",
   "id": "c816150e",
   "metadata": {},
   "source": [
    "**Вывод:**\n",
    "\n",
    "На данном этапе мы объединили 3 таблицы в одну (users + riders + subscriptions) по общему столбцу 'user_id'. Далее создали еще 2 датафрейма, где разделили данные о пользователях с подпиской (ultra) и без (free).\n",
    "\n",
    "Построив графики, мы увидели, что пользователи с подпиской ездят на чуть бóльшие расстояния чем пользователи без подписки и продолжительность поездок обоих категорий пользователей одинаковая."
   ]
  },
  {
   "cell_type": "markdown",
   "id": "402d620f",
   "metadata": {},
   "source": [
    "## Подсчёт выручки"
   ]
  },
  {
   "cell_type": "code",
   "execution_count": 30,
   "id": "53049e0a",
   "metadata": {
    "scrolled": true
   },
   "outputs": [
    {
     "data": {
      "text/html": [
       "<div>\n",
       "<style scoped>\n",
       "    .dataframe tbody tr th:only-of-type {\n",
       "        vertical-align: middle;\n",
       "    }\n",
       "\n",
       "    .dataframe tbody tr th {\n",
       "        vertical-align: top;\n",
       "    }\n",
       "\n",
       "    .dataframe thead th {\n",
       "        text-align: right;\n",
       "    }\n",
       "</style>\n",
       "<table border=\"1\" class=\"dataframe\">\n",
       "  <thead>\n",
       "    <tr style=\"text-align: right;\">\n",
       "      <th></th>\n",
       "      <th>user_id</th>\n",
       "      <th>month</th>\n",
       "      <th>distance</th>\n",
       "      <th>count</th>\n",
       "      <th>duration</th>\n",
       "      <th>minute_price</th>\n",
       "      <th>start_ride_price</th>\n",
       "      <th>subscription_fee</th>\n",
       "      <th>subscription_type</th>\n",
       "    </tr>\n",
       "  </thead>\n",
       "  <tbody>\n",
       "    <tr>\n",
       "      <th>0</th>\n",
       "      <td>1</td>\n",
       "      <td>1</td>\n",
       "      <td>7027.511294</td>\n",
       "      <td>2</td>\n",
       "      <td>42.0</td>\n",
       "      <td>6</td>\n",
       "      <td>0</td>\n",
       "      <td>199</td>\n",
       "      <td>ultra</td>\n",
       "    </tr>\n",
       "    <tr>\n",
       "      <th>1</th>\n",
       "      <td>1</td>\n",
       "      <td>4</td>\n",
       "      <td>754.159807</td>\n",
       "      <td>1</td>\n",
       "      <td>7.0</td>\n",
       "      <td>6</td>\n",
       "      <td>0</td>\n",
       "      <td>199</td>\n",
       "      <td>ultra</td>\n",
       "    </tr>\n",
       "    <tr>\n",
       "      <th>2</th>\n",
       "      <td>1</td>\n",
       "      <td>8</td>\n",
       "      <td>6723.470560</td>\n",
       "      <td>2</td>\n",
       "      <td>46.0</td>\n",
       "      <td>6</td>\n",
       "      <td>0</td>\n",
       "      <td>199</td>\n",
       "      <td>ultra</td>\n",
       "    </tr>\n",
       "    <tr>\n",
       "      <th>3</th>\n",
       "      <td>1</td>\n",
       "      <td>10</td>\n",
       "      <td>5809.911100</td>\n",
       "      <td>2</td>\n",
       "      <td>32.0</td>\n",
       "      <td>6</td>\n",
       "      <td>0</td>\n",
       "      <td>199</td>\n",
       "      <td>ultra</td>\n",
       "    </tr>\n",
       "    <tr>\n",
       "      <th>4</th>\n",
       "      <td>1</td>\n",
       "      <td>11</td>\n",
       "      <td>7003.499363</td>\n",
       "      <td>3</td>\n",
       "      <td>56.0</td>\n",
       "      <td>6</td>\n",
       "      <td>0</td>\n",
       "      <td>199</td>\n",
       "      <td>ultra</td>\n",
       "    </tr>\n",
       "  </tbody>\n",
       "</table>\n",
       "</div>"
      ],
      "text/plain": [
       "   user_id  month     distance  count  duration  minute_price  \\\n",
       "0        1      1  7027.511294      2      42.0             6   \n",
       "1        1      4   754.159807      1       7.0             6   \n",
       "2        1      8  6723.470560      2      46.0             6   \n",
       "3        1     10  5809.911100      2      32.0             6   \n",
       "4        1     11  7003.499363      3      56.0             6   \n",
       "\n",
       "   start_ride_price  subscription_fee subscription_type  \n",
       "0                 0               199             ultra  \n",
       "1                 0               199             ultra  \n",
       "2                 0               199             ultra  \n",
       "3                 0               199             ultra  \n",
       "4                 0               199             ultra  "
      ]
     },
     "execution_count": 30,
     "metadata": {},
     "output_type": "execute_result"
    }
   ],
   "source": [
    "#создадим свобную таблицу и округлим значения в столбце 'duration'\n",
    "pivot = total_merged.pivot_table(index=['user_id','month'],values=['distance','duration','subscription_type','start_ride_price','subscription_fee','minute_price'],aggfunc={'distance':'sum','duration':{'sum','count'},'subscription_type':'first','start_ride_price':'first','subscription_fee':'first','minute_price':'first'}).reset_index()\n",
    "pivot.columns = ['user_id','month','distance','count','duration','minute_price','start_ride_price','subscription_fee','subscription_type']\n",
    "pivot.head()"
   ]
  },
  {
   "cell_type": "code",
   "execution_count": 33,
   "id": "65c897a6",
   "metadata": {
    "scrolled": false
   },
   "outputs": [
    {
     "data": {
      "text/html": [
       "<div>\n",
       "<style scoped>\n",
       "    .dataframe tbody tr th:only-of-type {\n",
       "        vertical-align: middle;\n",
       "    }\n",
       "\n",
       "    .dataframe tbody tr th {\n",
       "        vertical-align: top;\n",
       "    }\n",
       "\n",
       "    .dataframe thead th {\n",
       "        text-align: right;\n",
       "    }\n",
       "</style>\n",
       "<table border=\"1\" class=\"dataframe\">\n",
       "  <thead>\n",
       "    <tr style=\"text-align: right;\">\n",
       "      <th></th>\n",
       "      <th>user_id</th>\n",
       "      <th>month</th>\n",
       "      <th>distance</th>\n",
       "      <th>count</th>\n",
       "      <th>duration</th>\n",
       "      <th>minute_price</th>\n",
       "      <th>start_ride_price</th>\n",
       "      <th>subscription_fee</th>\n",
       "      <th>subscription_type</th>\n",
       "      <th>revenue</th>\n",
       "    </tr>\n",
       "  </thead>\n",
       "  <tbody>\n",
       "    <tr>\n",
       "      <th>0</th>\n",
       "      <td>1</td>\n",
       "      <td>1</td>\n",
       "      <td>7027.511294</td>\n",
       "      <td>2</td>\n",
       "      <td>42.0</td>\n",
       "      <td>6</td>\n",
       "      <td>0</td>\n",
       "      <td>199</td>\n",
       "      <td>ultra</td>\n",
       "      <td>451.0</td>\n",
       "    </tr>\n",
       "    <tr>\n",
       "      <th>1</th>\n",
       "      <td>1</td>\n",
       "      <td>4</td>\n",
       "      <td>754.159807</td>\n",
       "      <td>1</td>\n",
       "      <td>7.0</td>\n",
       "      <td>6</td>\n",
       "      <td>0</td>\n",
       "      <td>199</td>\n",
       "      <td>ultra</td>\n",
       "      <td>241.0</td>\n",
       "    </tr>\n",
       "    <tr>\n",
       "      <th>2</th>\n",
       "      <td>1</td>\n",
       "      <td>8</td>\n",
       "      <td>6723.470560</td>\n",
       "      <td>2</td>\n",
       "      <td>46.0</td>\n",
       "      <td>6</td>\n",
       "      <td>0</td>\n",
       "      <td>199</td>\n",
       "      <td>ultra</td>\n",
       "      <td>475.0</td>\n",
       "    </tr>\n",
       "    <tr>\n",
       "      <th>3</th>\n",
       "      <td>1</td>\n",
       "      <td>10</td>\n",
       "      <td>5809.911100</td>\n",
       "      <td>2</td>\n",
       "      <td>32.0</td>\n",
       "      <td>6</td>\n",
       "      <td>0</td>\n",
       "      <td>199</td>\n",
       "      <td>ultra</td>\n",
       "      <td>391.0</td>\n",
       "    </tr>\n",
       "    <tr>\n",
       "      <th>4</th>\n",
       "      <td>1</td>\n",
       "      <td>11</td>\n",
       "      <td>7003.499363</td>\n",
       "      <td>3</td>\n",
       "      <td>56.0</td>\n",
       "      <td>6</td>\n",
       "      <td>0</td>\n",
       "      <td>199</td>\n",
       "      <td>ultra</td>\n",
       "      <td>535.0</td>\n",
       "    </tr>\n",
       "    <tr>\n",
       "      <th>...</th>\n",
       "      <td>...</td>\n",
       "      <td>...</td>\n",
       "      <td>...</td>\n",
       "      <td>...</td>\n",
       "      <td>...</td>\n",
       "      <td>...</td>\n",
       "      <td>...</td>\n",
       "      <td>...</td>\n",
       "      <td>...</td>\n",
       "      <td>...</td>\n",
       "    </tr>\n",
       "    <tr>\n",
       "      <th>11326</th>\n",
       "      <td>1534</td>\n",
       "      <td>6</td>\n",
       "      <td>3409.468534</td>\n",
       "      <td>2</td>\n",
       "      <td>26.0</td>\n",
       "      <td>8</td>\n",
       "      <td>50</td>\n",
       "      <td>0</td>\n",
       "      <td>free</td>\n",
       "      <td>308.0</td>\n",
       "    </tr>\n",
       "    <tr>\n",
       "      <th>11327</th>\n",
       "      <td>1534</td>\n",
       "      <td>8</td>\n",
       "      <td>7622.453034</td>\n",
       "      <td>2</td>\n",
       "      <td>48.0</td>\n",
       "      <td>8</td>\n",
       "      <td>50</td>\n",
       "      <td>0</td>\n",
       "      <td>free</td>\n",
       "      <td>484.0</td>\n",
       "    </tr>\n",
       "    <tr>\n",
       "      <th>11328</th>\n",
       "      <td>1534</td>\n",
       "      <td>9</td>\n",
       "      <td>4928.173852</td>\n",
       "      <td>1</td>\n",
       "      <td>23.0</td>\n",
       "      <td>8</td>\n",
       "      <td>50</td>\n",
       "      <td>0</td>\n",
       "      <td>free</td>\n",
       "      <td>234.0</td>\n",
       "    </tr>\n",
       "    <tr>\n",
       "      <th>11329</th>\n",
       "      <td>1534</td>\n",
       "      <td>11</td>\n",
       "      <td>13350.015305</td>\n",
       "      <td>4</td>\n",
       "      <td>78.0</td>\n",
       "      <td>8</td>\n",
       "      <td>50</td>\n",
       "      <td>0</td>\n",
       "      <td>free</td>\n",
       "      <td>824.0</td>\n",
       "    </tr>\n",
       "    <tr>\n",
       "      <th>11330</th>\n",
       "      <td>1534</td>\n",
       "      <td>12</td>\n",
       "      <td>2371.711192</td>\n",
       "      <td>1</td>\n",
       "      <td>16.0</td>\n",
       "      <td>8</td>\n",
       "      <td>50</td>\n",
       "      <td>0</td>\n",
       "      <td>free</td>\n",
       "      <td>178.0</td>\n",
       "    </tr>\n",
       "  </tbody>\n",
       "</table>\n",
       "<p>11331 rows × 10 columns</p>\n",
       "</div>"
      ],
      "text/plain": [
       "       user_id  month      distance  count  duration  minute_price  \\\n",
       "0            1      1   7027.511294      2      42.0             6   \n",
       "1            1      4    754.159807      1       7.0             6   \n",
       "2            1      8   6723.470560      2      46.0             6   \n",
       "3            1     10   5809.911100      2      32.0             6   \n",
       "4            1     11   7003.499363      3      56.0             6   \n",
       "...        ...    ...           ...    ...       ...           ...   \n",
       "11326     1534      6   3409.468534      2      26.0             8   \n",
       "11327     1534      8   7622.453034      2      48.0             8   \n",
       "11328     1534      9   4928.173852      1      23.0             8   \n",
       "11329     1534     11  13350.015305      4      78.0             8   \n",
       "11330     1534     12   2371.711192      1      16.0             8   \n",
       "\n",
       "       start_ride_price  subscription_fee subscription_type  revenue  \n",
       "0                     0               199             ultra    451.0  \n",
       "1                     0               199             ultra    241.0  \n",
       "2                     0               199             ultra    475.0  \n",
       "3                     0               199             ultra    391.0  \n",
       "4                     0               199             ultra    535.0  \n",
       "...                 ...               ...               ...      ...  \n",
       "11326                50                 0              free    308.0  \n",
       "11327                50                 0              free    484.0  \n",
       "11328                50                 0              free    234.0  \n",
       "11329                50                 0              free    824.0  \n",
       "11330                50                 0              free    178.0  \n",
       "\n",
       "[11331 rows x 10 columns]"
      ]
     },
     "execution_count": 33,
     "metadata": {},
     "output_type": "execute_result"
    }
   ],
   "source": [
    "#создадим столбец с выручкой\n",
    "pivot['revenue'] = pivot['start_ride_price'] * pivot['count'] + pivot['minute_price'] * pivot['duration'] + pivot['subscription_fee']\n",
    "pivot"
   ]
  },
  {
   "cell_type": "markdown",
   "id": "b4259726",
   "metadata": {},
   "source": [
    "**Вывод:**\n",
    "\n",
    "На основе общей таблицы мы создали сводную таблицу, где вывели продолжительность, расстояние, кол-во поездок и данные о типах подписки каждого пользователя в те месяцы, в которые были соврешены поездки на самокатах.\n",
    "    \n",
    "Далее мы почитали помесячную выручку каждого пользователя и добавили столбец 'revenue' в сводную таблицу."
   ]
  },
  {
   "cell_type": "markdown",
   "id": "41545ac0",
   "metadata": {},
   "source": [
    "## Проверка гипотез"
   ]
  },
  {
   "cell_type": "markdown",
   "id": "4df076a1",
   "metadata": {},
   "source": [
    "**Гипотеза 1: пользователи с подпиской тратят больше времени на поездки**"
   ]
  },
  {
   "cell_type": "markdown",
   "id": "381936ac",
   "metadata": {},
   "source": [
    "Сформулируем гипотезы:\n",
    "- Н(0) - время на поездки у пользователей с подпиской равно времени на поездки у пользователей без подписки;\n",
    "- Н(1) - пользователи с подпиской тратят больше времени на поездки."
   ]
  },
  {
   "cell_type": "code",
   "execution_count": 35,
   "id": "54f06ca6",
   "metadata": {},
   "outputs": [
    {
     "data": {
      "text/plain": [
       "0       26.0\n",
       "1       16.0\n",
       "2        7.0\n",
       "3       19.0\n",
       "4       27.0\n",
       "        ... \n",
       "6495    25.0\n",
       "6496    16.0\n",
       "6497    15.0\n",
       "6498    16.0\n",
       "6499    26.0\n",
       "Name: duration, Length: 6500, dtype: float64"
      ]
     },
     "execution_count": 35,
     "metadata": {},
     "output_type": "execute_result"
    }
   ],
   "source": [
    "#создадим 2 выборки: длительность поездок у пользователей с подпиской и без\n",
    "ultra_duration = ultra['duration']\n",
    "ultra_duration"
   ]
  },
  {
   "cell_type": "code",
   "execution_count": 36,
   "id": "23ea867b",
   "metadata": {},
   "outputs": [
    {
     "data": {
      "text/plain": [
       "6500     15.0\n",
       "6501     17.0\n",
       "6502     21.0\n",
       "6503     10.0\n",
       "6504     18.0\n",
       "         ... \n",
       "18063    20.0\n",
       "18064    22.0\n",
       "18065    19.0\n",
       "18066    17.0\n",
       "18067    16.0\n",
       "Name: duration, Length: 11568, dtype: float64"
      ]
     },
     "execution_count": 36,
     "metadata": {},
     "output_type": "execute_result"
    }
   ],
   "source": [
    "free_duration = free['duration']\n",
    "free_duration"
   ]
  },
  {
   "cell_type": "code",
   "execution_count": 37,
   "id": "0f8e3f02",
   "metadata": {},
   "outputs": [
    {
     "name": "stdout",
     "output_type": "stream",
     "text": [
      "среднее выборки ultra: 19.037692307692307\n",
      "среднее выборки free: 17.890992392807746\n",
      "p-значение: 1.1814679253701353e-36\n",
      "Отвергаем нулевую гипотезу\n"
     ]
    }
   ],
   "source": [
    "#проведем двухвыборочный t-тест для независимых выборок\n",
    "\n",
    "print('среднее выборки ultra:', np.mean(ultra_duration))\n",
    "print('среднее выборки free:', np.mean(free_duration))\n",
    "\n",
    "alpha = 0.05\n",
    "results = st.ttest_ind(ultra_duration,free_duration,alternative='greater',equal_var=False)\n",
    "print('p-значение:', results.pvalue)\n",
    "\n",
    "if results.pvalue < alpha:\n",
    "    print('Отвергаем нулевую гипотезу')\n",
    "else:\n",
    "    print('Не получилось отвергнуть нулевую гипотезу')"
   ]
  },
  {
   "cell_type": "markdown",
   "id": "5dab1dee",
   "metadata": {},
   "source": [
    "Т.к. р-value оказалось меньше уровня статистической значимости (alpha), то можно сделать вывод, что наблюдаемое значение слишком далеко от предполагаемого в нулевой гипотезе. Среднее время на поездки у пользователей с подпиской больше времени на поездки чем у пользователей без подписки на 1 минуту 14 секунд. Поэтому нулевая гипотеза отвергается в пользу альтернативной: пользователи с подпиской тратят больше времени на поездки."
   ]
  },
  {
   "cell_type": "markdown",
   "id": "3e689122",
   "metadata": {},
   "source": [
    "**Гипотеза 2: среднее расстояние, которое проезжают пользователи с подпиской за одну поездку, не превышает 3130 метров**"
   ]
  },
  {
   "cell_type": "markdown",
   "id": "924cf972",
   "metadata": {},
   "source": [
    "Сформулируем гипотезы:\n",
    "- Н(0) - среднее расстояние поездки равно 3130 м\n",
    "- Н(1) - среднее расстояние поездки больше 3130 м"
   ]
  },
  {
   "cell_type": "code",
   "execution_count": 38,
   "id": "2b4fa55c",
   "metadata": {},
   "outputs": [
    {
     "data": {
      "text/plain": [
       "0       4409.919140\n",
       "1       2617.592153\n",
       "2        754.159807\n",
       "3       2694.783254\n",
       "4       4028.687306\n",
       "           ...     \n",
       "6495    3973.046497\n",
       "6496    3288.702563\n",
       "6497    3076.159348\n",
       "6498    4707.845501\n",
       "6499    3202.890770\n",
       "Name: distance, Length: 6500, dtype: float64"
      ]
     },
     "execution_count": 38,
     "metadata": {},
     "output_type": "execute_result"
    }
   ],
   "source": [
    "#создадим выборку: расстояние поездок у пользователей с подпиской\n",
    "ultra_distance = ultra['distance']\n",
    "ultra_distance"
   ]
  },
  {
   "cell_type": "code",
   "execution_count": 39,
   "id": "432af7b1",
   "metadata": {},
   "outputs": [
    {
     "name": "stdout",
     "output_type": "stream",
     "text": [
      "среднее выборки ultra: 3115.4453880370247\n",
      "p-значение: 0.9195368847849785\n",
      "Не получилось отвергнуть нулевую гипотезу\n"
     ]
    }
   ],
   "source": [
    "#проведем одновыборочный t-тест\n",
    "\n",
    "print('среднее выборки ultra:', np.mean(ultra_distance))\n",
    "\n",
    "value = 3130\n",
    "alpha = 0.05\n",
    "results = st.ttest_1samp(ultra_distance,value,alternative='greater')\n",
    "print('p-значение:', results.pvalue)\n",
    "\n",
    "if results.pvalue < alpha:\n",
    "    print('Отвергаем нулевую гипотезу')\n",
    "else:\n",
    "    print('Не получилось отвергнуть нулевую гипотезу')"
   ]
  },
  {
   "cell_type": "markdown",
   "id": "5d532523",
   "metadata": {},
   "source": [
    "Т.к. р-value оказалось больше уровня статистической значимости (alpha), то можно сделать вывод, что наблюдаемое значение достаточно близко к предполагаемому в нулевой гипотезе. Среднее расстояние, которое проезжают пользователи с подпиской, составило 3115 метров. Поэтому нулевая гипотеза не отвергается. "
   ]
  },
  {
   "cell_type": "markdown",
   "id": "d78a7aea",
   "metadata": {},
   "source": [
    "**Гипотеза 3: будет ли помесячная выручка от пользователей с подпиской по месяцам выше, чем выручка от пользователей без подписки.**"
   ]
  },
  {
   "cell_type": "markdown",
   "id": "77896ba6",
   "metadata": {},
   "source": [
    "Сформулируем гипотезы:\n",
    "- Н(0) - выручка пользователей с подпиской равна выручке пользователей без подписки;\n",
    "- Н(1) - выручка пользователей с подпиской больше чем пользователей без подписки."
   ]
  },
  {
   "cell_type": "code",
   "execution_count": 40,
   "id": "d7dd633f",
   "metadata": {
    "scrolled": true
   },
   "outputs": [
    {
     "data": {
      "text/plain": [
       "0       451.0\n",
       "1       241.0\n",
       "2       475.0\n",
       "3       391.0\n",
       "4       535.0\n",
       "        ...  \n",
       "4528    301.0\n",
       "4529    469.0\n",
       "4530    385.0\n",
       "4531    295.0\n",
       "4532    355.0\n",
       "Name: revenue, Length: 4533, dtype: float64"
      ]
     },
     "execution_count": 40,
     "metadata": {},
     "output_type": "execute_result"
    }
   ],
   "source": [
    "#создадим 2 выборки: выручка у пользователей с подпиской и без\n",
    "ultra_revenue = pivot[pivot['subscription_type']=='ultra']\n",
    "ultra_revenue = ultra_revenue['revenue']\n",
    "ultra_revenue"
   ]
  },
  {
   "cell_type": "code",
   "execution_count": 41,
   "id": "06510d3f",
   "metadata": {},
   "outputs": [
    {
     "data": {
      "text/plain": [
       "4533     170.0\n",
       "4534     962.0\n",
       "4535     202.0\n",
       "4536     178.0\n",
       "4537     332.0\n",
       "         ...  \n",
       "11326    308.0\n",
       "11327    484.0\n",
       "11328    234.0\n",
       "11329    824.0\n",
       "11330    178.0\n",
       "Name: revenue, Length: 6798, dtype: float64"
      ]
     },
     "execution_count": 41,
     "metadata": {},
     "output_type": "execute_result"
    }
   ],
   "source": [
    "free_revenue = pivot[pivot['subscription_type']=='free']\n",
    "free_revenue = free_revenue['revenue']\n",
    "free_revenue"
   ]
  },
  {
   "cell_type": "code",
   "execution_count": 42,
   "id": "fd3bf1bc",
   "metadata": {},
   "outputs": [
    {
     "name": "stdout",
     "output_type": "stream",
     "text": [
      "среднее выборки ultra: 362.7921906022502\n",
      "среднее выборки free: 328.6413651073845\n",
      "p-значение: 1.8850394384715216e-31\n",
      "Отвергаем нулевую гипотезу\n"
     ]
    }
   ],
   "source": [
    "#проведем двухвыборочный t-тест для независимых выборок\n",
    "\n",
    "print('среднее выборки ultra:', np.mean(ultra_revenue))\n",
    "print('среднее выборки free:', np.mean(free_revenue))\n",
    "\n",
    "alpha = 0.05\n",
    "results = st.ttest_ind(ultra_revenue,free_revenue,alternative='greater')\n",
    "print('p-значение:', results.pvalue)\n",
    "\n",
    "if results.pvalue < alpha:\n",
    "    print('Отвергаем нулевую гипотезу')\n",
    "else:\n",
    "    print('Не получилось отвергнуть нулевую гипотезу')"
   ]
  },
  {
   "cell_type": "markdown",
   "id": "ab6d7f90",
   "metadata": {},
   "source": [
    "Т.к. р-value оказалось меньше уровня статистической значимости (alpha), то можно сделать вывод, что наблюдаемое значение слишком далеко от предполагаемого в нулевой гипотезе. Средняя помесячная выручка от пользователей с подпиской по месяцам больше выручки от пользователей без подписки на 34 руб. Поэтому нулевая гипотеза отвергается в пользу альтернативной: выручка пользователей с подпиской больше чем пользователей без подписки."
   ]
  },
  {
   "cell_type": "markdown",
   "id": "0b0e069f",
   "metadata": {},
   "source": [
    "## Общий вывод"
   ]
  },
  {
   "cell_type": "markdown",
   "id": "b45819e4",
   "metadata": {},
   "source": [
    "Цель проекта - проанализировать данные о поездках на самокатах пользователей из нескольких городов и проверить некоторые гипотезы, которые могут помочь бизнесу вырасти.\n",
    "________________\n",
    "\n",
    "На этапе предобработки данных были выявлены около 30 строк-дубликатов в таблице 'users', которые в последствии были удалены.\n",
    "Столбец 'date' в таблице 'riders' был приведен к типу даты pandas, чтобы далее создать новые стоблец 'month' со значениями месяцев использования самокатов пользователями.\n",
    "Пропущенные значения в таблицах не обнаружилось.\n",
    "________________\n",
    "\n",
    "На этапе исследовательского анализа данных мы построили 5 различных графиков о пользователях и поездках.\n",
    "\n",
    "Мы узнали что:\n",
    "- больше всего пользователей проживают в городе Пятигорск (14.44%);\n",
    "- кол-во пользователей с подпиской (45.94%) меньше чем пользователей без подписки (54,06%);\n",
    "- средний возраст пользователей составляет 25 лет;\n",
    "- за 1 поездку пользователь преодолевает в среднем 3 кс.;\n",
    "- среднее время 1 поездки составляет 15-20 мин.\n",
    "________________\n",
    "\n",
    "Далее мы объединили все три таблицы ('riders', 'users', 'subscriptions') чтобы визуализировать информацию о расстоянии и времени поездок для пользователей обеих категорий.\n",
    "\n",
    "Выявили, что пользователи с подпиской ездят на чуть бóльшие расстояния чем пользователи без подписки (3 км. против 2.6 км.) и продолжительность поездок обоих категорий пользователей одинаковая (около 15-20 минут).\n",
    "\n",
    "В общей таблице мы рассчитали столбец 'revenue', который отображал выручку по каждому пользователю за месяцы его использования самокатами.\n",
    "________________\n",
    "\n",
    "Итогом нашего анализа выступила проверка гипотез для увеличения количества пользователей с подпиской.\n",
    "В процессе исследования мы выявили, что:\n",
    "- пользователи с подпиской тратят больше времени на поездки чем пользователи без подписки;\n",
    "- среднее расстояние, которое проезжают пользователи с подпиской за одну поездку, не превышает 3130 метр;\n",
    "- помесячная выручка от пользователей с подпиской по месяцам выше, чем выручка от пользователей без подписки."
   ]
  }
 ],
 "metadata": {
  "ExecuteTimeLog": [
   {
    "duration": 409,
    "start_time": "2024-03-30T15:55:12.146Z"
   },
   {
    "duration": 214,
    "start_time": "2024-03-30T15:58:33.763Z"
   },
   {
    "duration": 15,
    "start_time": "2024-03-30T15:59:33.496Z"
   },
   {
    "duration": 8,
    "start_time": "2024-03-30T15:59:49.289Z"
   },
   {
    "duration": 9,
    "start_time": "2024-03-30T15:59:52.815Z"
   },
   {
    "duration": 7,
    "start_time": "2024-03-30T15:59:56.899Z"
   },
   {
    "duration": 8,
    "start_time": "2024-03-30T16:09:42.522Z"
   },
   {
    "duration": 15,
    "start_time": "2024-03-30T16:09:51.149Z"
   },
   {
    "duration": 6,
    "start_time": "2024-03-30T16:10:01.443Z"
   },
   {
    "duration": 4,
    "start_time": "2024-03-30T16:11:46.467Z"
   },
   {
    "duration": 5,
    "start_time": "2024-03-30T16:12:08.745Z"
   },
   {
    "duration": 5,
    "start_time": "2024-03-30T16:18:18.023Z"
   },
   {
    "duration": 4,
    "start_time": "2024-03-30T16:18:18.327Z"
   },
   {
    "duration": 5,
    "start_time": "2024-03-30T16:18:19.847Z"
   },
   {
    "duration": 5,
    "start_time": "2024-03-30T16:18:48.723Z"
   },
   {
    "duration": 4,
    "start_time": "2024-03-30T16:18:49.928Z"
   },
   {
    "duration": 4,
    "start_time": "2024-03-30T16:18:51.126Z"
   },
   {
    "duration": 63,
    "start_time": "2024-03-30T16:20:08.280Z"
   },
   {
    "duration": 4,
    "start_time": "2024-03-30T16:20:24.037Z"
   },
   {
    "duration": 4,
    "start_time": "2024-03-30T16:20:27.229Z"
   },
   {
    "duration": 4,
    "start_time": "2024-03-30T16:24:46.844Z"
   },
   {
    "duration": 4,
    "start_time": "2024-03-30T16:24:47.801Z"
   },
   {
    "duration": 4,
    "start_time": "2024-03-30T16:24:48.743Z"
   },
   {
    "duration": 44,
    "start_time": "2024-03-30T16:25:12.009Z"
   },
   {
    "duration": 385,
    "start_time": "2024-03-30T16:42:04.976Z"
   },
   {
    "duration": 77,
    "start_time": "2024-03-30T16:42:05.364Z"
   },
   {
    "duration": 15,
    "start_time": "2024-03-30T16:42:05.445Z"
   },
   {
    "duration": 8,
    "start_time": "2024-03-30T16:42:05.461Z"
   },
   {
    "duration": 8,
    "start_time": "2024-03-30T16:42:05.470Z"
   },
   {
    "duration": 12,
    "start_time": "2024-03-30T16:42:05.479Z"
   },
   {
    "duration": 5,
    "start_time": "2024-03-30T16:42:05.492Z"
   },
   {
    "duration": 4,
    "start_time": "2024-03-30T16:42:05.499Z"
   },
   {
    "duration": 15,
    "start_time": "2024-03-30T16:42:05.504Z"
   },
   {
    "duration": 6,
    "start_time": "2024-03-30T16:43:47.865Z"
   },
   {
    "duration": 7,
    "start_time": "2024-03-30T16:44:24.381Z"
   },
   {
    "duration": 7,
    "start_time": "2024-03-30T16:44:55.864Z"
   },
   {
    "duration": 6,
    "start_time": "2024-03-30T16:47:02.518Z"
   },
   {
    "duration": 8,
    "start_time": "2024-03-30T16:47:06.821Z"
   },
   {
    "duration": 5,
    "start_time": "2024-03-30T16:47:07.840Z"
   },
   {
    "duration": 7,
    "start_time": "2024-03-30T16:48:37.806Z"
   },
   {
    "duration": 10,
    "start_time": "2024-03-30T16:49:08.983Z"
   },
   {
    "duration": 62,
    "start_time": "2024-03-30T16:50:26.959Z"
   },
   {
    "duration": 17,
    "start_time": "2024-03-30T16:50:34.451Z"
   },
   {
    "duration": 400,
    "start_time": "2024-03-30T16:52:36.382Z"
   },
   {
    "duration": 69,
    "start_time": "2024-03-30T16:52:36.784Z"
   },
   {
    "duration": 14,
    "start_time": "2024-03-30T16:52:36.854Z"
   },
   {
    "duration": 22,
    "start_time": "2024-03-30T16:52:36.869Z"
   },
   {
    "duration": 9,
    "start_time": "2024-03-30T16:52:36.893Z"
   },
   {
    "duration": 7,
    "start_time": "2024-03-30T16:52:36.904Z"
   },
   {
    "duration": 4,
    "start_time": "2024-03-30T16:52:36.913Z"
   },
   {
    "duration": 5,
    "start_time": "2024-03-30T16:52:36.919Z"
   },
   {
    "duration": 6,
    "start_time": "2024-03-30T16:52:36.925Z"
   },
   {
    "duration": 34,
    "start_time": "2024-03-30T16:52:36.932Z"
   },
   {
    "duration": 7,
    "start_time": "2024-03-30T16:52:36.968Z"
   },
   {
    "duration": 6,
    "start_time": "2024-03-30T16:52:36.976Z"
   },
   {
    "duration": 15,
    "start_time": "2024-03-30T16:52:36.983Z"
   },
   {
    "duration": 8,
    "start_time": "2024-03-30T16:52:37.000Z"
   },
   {
    "duration": 5,
    "start_time": "2024-03-30T16:52:37.009Z"
   },
   {
    "duration": 4,
    "start_time": "2024-03-30T16:56:25.582Z"
   },
   {
    "duration": 390,
    "start_time": "2024-03-30T16:57:21.204Z"
   },
   {
    "duration": 115,
    "start_time": "2024-03-30T16:57:52.392Z"
   },
   {
    "duration": 68,
    "start_time": "2024-03-30T17:50:08.537Z"
   },
   {
    "duration": 182,
    "start_time": "2024-03-30T17:50:17.985Z"
   },
   {
    "duration": 8,
    "start_time": "2024-03-30T17:53:10.980Z"
   },
   {
    "duration": 116,
    "start_time": "2024-03-30T17:56:26.852Z"
   },
   {
    "duration": 69,
    "start_time": "2024-03-30T18:03:19.521Z"
   },
   {
    "duration": 255,
    "start_time": "2024-03-30T18:07:26.500Z"
   },
   {
    "duration": 128,
    "start_time": "2024-03-30T18:07:46.199Z"
   },
   {
    "duration": 138,
    "start_time": "2024-03-30T18:09:07.877Z"
   },
   {
    "duration": 377,
    "start_time": "2024-03-30T18:11:29.097Z"
   },
   {
    "duration": 223,
    "start_time": "2024-03-30T18:11:29.475Z"
   },
   {
    "duration": 70,
    "start_time": "2024-03-30T18:11:29.699Z"
   },
   {
    "duration": 12,
    "start_time": "2024-03-30T18:11:29.771Z"
   },
   {
    "duration": 8,
    "start_time": "2024-03-30T18:11:29.785Z"
   },
   {
    "duration": 8,
    "start_time": "2024-03-30T18:11:29.795Z"
   },
   {
    "duration": 9,
    "start_time": "2024-03-30T18:11:29.804Z"
   },
   {
    "duration": 12,
    "start_time": "2024-03-30T18:11:29.814Z"
   },
   {
    "duration": 7,
    "start_time": "2024-03-30T18:11:29.827Z"
   },
   {
    "duration": 31,
    "start_time": "2024-03-30T18:11:29.835Z"
   },
   {
    "duration": 7,
    "start_time": "2024-03-30T18:11:29.868Z"
   },
   {
    "duration": 9,
    "start_time": "2024-03-30T18:11:29.876Z"
   },
   {
    "duration": 7,
    "start_time": "2024-03-30T18:11:29.887Z"
   },
   {
    "duration": 13,
    "start_time": "2024-03-30T18:11:29.897Z"
   },
   {
    "duration": 7,
    "start_time": "2024-03-30T18:11:29.912Z"
   },
   {
    "duration": 8,
    "start_time": "2024-03-30T18:11:29.920Z"
   },
   {
    "duration": 159,
    "start_time": "2024-03-30T18:11:29.930Z"
   },
   {
    "duration": 80,
    "start_time": "2024-03-30T18:11:30.090Z"
   },
   {
    "duration": 156,
    "start_time": "2024-03-30T18:11:30.171Z"
   },
   {
    "duration": 146,
    "start_time": "2024-03-30T18:12:36.322Z"
   },
   {
    "duration": 1116,
    "start_time": "2024-03-30T18:20:09.636Z"
   },
   {
    "duration": 192,
    "start_time": "2024-03-30T18:20:17.399Z"
   },
   {
    "duration": 150,
    "start_time": "2024-03-30T18:20:35.983Z"
   },
   {
    "duration": 137,
    "start_time": "2024-03-30T18:23:15.070Z"
   },
   {
    "duration": 157,
    "start_time": "2024-03-30T18:26:34.342Z"
   },
   {
    "duration": 141,
    "start_time": "2024-03-30T18:27:41.188Z"
   },
   {
    "duration": 151,
    "start_time": "2024-03-30T18:27:49.667Z"
   },
   {
    "duration": 147,
    "start_time": "2024-03-30T18:36:49.852Z"
   },
   {
    "duration": 148,
    "start_time": "2024-03-30T18:37:08.319Z"
   },
   {
    "duration": 8,
    "start_time": "2024-03-30T18:42:22.802Z"
   },
   {
    "duration": 11,
    "start_time": "2024-03-30T18:42:32.359Z"
   },
   {
    "duration": 19,
    "start_time": "2024-03-30T18:42:58.372Z"
   },
   {
    "duration": 11,
    "start_time": "2024-03-30T18:45:32.457Z"
   },
   {
    "duration": 11,
    "start_time": "2024-03-30T18:46:11.181Z"
   },
   {
    "duration": 10,
    "start_time": "2024-03-30T18:46:31.337Z"
   },
   {
    "duration": 17,
    "start_time": "2024-03-30T18:46:56.788Z"
   },
   {
    "duration": 17,
    "start_time": "2024-03-30T18:47:22.079Z"
   },
   {
    "duration": 19,
    "start_time": "2024-03-30T18:51:29.099Z"
   },
   {
    "duration": 14,
    "start_time": "2024-03-30T18:52:44.701Z"
   },
   {
    "duration": 15,
    "start_time": "2024-03-30T18:53:33.312Z"
   },
   {
    "duration": 23,
    "start_time": "2024-03-30T18:53:47.314Z"
   },
   {
    "duration": 27,
    "start_time": "2024-03-30T19:02:51.145Z"
   },
   {
    "duration": 32,
    "start_time": "2024-03-30T19:03:04.585Z"
   },
   {
    "duration": 28,
    "start_time": "2024-03-30T19:04:02.261Z"
   },
   {
    "duration": 57,
    "start_time": "2024-03-30T19:11:51.357Z"
   },
   {
    "duration": 18,
    "start_time": "2024-03-30T19:12:04.570Z"
   },
   {
    "duration": 17,
    "start_time": "2024-03-30T19:12:36.475Z"
   },
   {
    "duration": 16,
    "start_time": "2024-03-30T19:14:22.816Z"
   },
   {
    "duration": 20,
    "start_time": "2024-03-30T19:14:31.637Z"
   },
   {
    "duration": 17,
    "start_time": "2024-03-30T19:14:46.289Z"
   },
   {
    "duration": 166,
    "start_time": "2024-03-30T19:16:02.214Z"
   },
   {
    "duration": 165,
    "start_time": "2024-03-30T19:16:38.993Z"
   },
   {
    "duration": 141,
    "start_time": "2024-03-30T19:16:56.314Z"
   },
   {
    "duration": 221,
    "start_time": "2024-03-30T19:17:16.325Z"
   },
   {
    "duration": 147,
    "start_time": "2024-03-30T19:23:18.368Z"
   },
   {
    "duration": 149,
    "start_time": "2024-03-30T19:23:22.905Z"
   },
   {
    "duration": 14,
    "start_time": "2024-03-30T19:47:35.377Z"
   },
   {
    "duration": 998,
    "start_time": "2024-03-30T19:48:47.391Z"
   },
   {
    "duration": 12,
    "start_time": "2024-03-30T19:49:13.664Z"
   },
   {
    "duration": 12,
    "start_time": "2024-03-30T19:49:29.498Z"
   },
   {
    "duration": 13,
    "start_time": "2024-03-30T19:49:38.553Z"
   },
   {
    "duration": 1002,
    "start_time": "2024-03-30T19:50:39.169Z"
   },
   {
    "duration": 1036,
    "start_time": "2024-03-30T19:51:05.752Z"
   },
   {
    "duration": 938,
    "start_time": "2024-03-30T19:51:42.611Z"
   },
   {
    "duration": 41,
    "start_time": "2024-03-30T19:58:07.061Z"
   },
   {
    "duration": 20,
    "start_time": "2024-03-30T19:59:02.849Z"
   },
   {
    "duration": 14,
    "start_time": "2024-03-30T19:59:12.427Z"
   },
   {
    "duration": 40,
    "start_time": "2024-03-30T19:59:24.452Z"
   },
   {
    "duration": 17,
    "start_time": "2024-03-30T20:07:03.933Z"
   },
   {
    "duration": 8,
    "start_time": "2024-03-30T20:07:27.853Z"
   },
   {
    "duration": 12,
    "start_time": "2024-03-30T20:09:58.148Z"
   },
   {
    "duration": 11,
    "start_time": "2024-03-30T20:10:33.033Z"
   },
   {
    "duration": 10,
    "start_time": "2024-03-30T20:11:32.253Z"
   },
   {
    "duration": 10,
    "start_time": "2024-03-30T20:11:43.070Z"
   },
   {
    "duration": 11,
    "start_time": "2024-03-30T20:11:49.393Z"
   },
   {
    "duration": 11,
    "start_time": "2024-03-30T20:11:56.737Z"
   },
   {
    "duration": 10,
    "start_time": "2024-03-30T20:12:03.551Z"
   },
   {
    "duration": 418,
    "start_time": "2024-03-30T20:27:01.952Z"
   },
   {
    "duration": 220,
    "start_time": "2024-03-30T20:27:02.372Z"
   },
   {
    "duration": 71,
    "start_time": "2024-03-30T20:27:02.593Z"
   },
   {
    "duration": 12,
    "start_time": "2024-03-30T20:27:02.666Z"
   },
   {
    "duration": 10,
    "start_time": "2024-03-30T20:27:02.680Z"
   },
   {
    "duration": 17,
    "start_time": "2024-03-30T20:27:02.692Z"
   },
   {
    "duration": 11,
    "start_time": "2024-03-30T20:27:02.711Z"
   },
   {
    "duration": 6,
    "start_time": "2024-03-30T20:27:02.723Z"
   },
   {
    "duration": 35,
    "start_time": "2024-03-30T20:27:02.731Z"
   },
   {
    "duration": 12,
    "start_time": "2024-03-30T20:27:02.768Z"
   },
   {
    "duration": 5,
    "start_time": "2024-03-30T20:27:02.782Z"
   },
   {
    "duration": 9,
    "start_time": "2024-03-30T20:27:02.788Z"
   },
   {
    "duration": 19,
    "start_time": "2024-03-30T20:27:02.798Z"
   },
   {
    "duration": 6,
    "start_time": "2024-03-30T20:27:02.821Z"
   },
   {
    "duration": 7,
    "start_time": "2024-03-30T20:27:02.828Z"
   },
   {
    "duration": 8,
    "start_time": "2024-03-30T20:27:02.836Z"
   },
   {
    "duration": 15,
    "start_time": "2024-03-30T20:27:02.865Z"
   },
   {
    "duration": 8,
    "start_time": "2024-03-30T20:27:02.882Z"
   },
   {
    "duration": 15,
    "start_time": "2024-03-30T20:27:02.892Z"
   },
   {
    "duration": 153,
    "start_time": "2024-03-30T20:27:02.908Z"
   },
   {
    "duration": 72,
    "start_time": "2024-03-30T20:27:03.062Z"
   },
   {
    "duration": 168,
    "start_time": "2024-03-30T20:27:03.135Z"
   },
   {
    "duration": 163,
    "start_time": "2024-03-30T20:27:03.304Z"
   },
   {
    "duration": 210,
    "start_time": "2024-03-30T20:27:03.468Z"
   },
   {
    "duration": 28,
    "start_time": "2024-03-30T20:27:03.679Z"
   },
   {
    "duration": 19,
    "start_time": "2024-03-30T20:27:03.709Z"
   },
   {
    "duration": 172,
    "start_time": "2024-03-30T20:27:03.729Z"
   },
   {
    "duration": 153,
    "start_time": "2024-03-30T20:27:03.902Z"
   },
   {
    "duration": 24,
    "start_time": "2024-03-30T20:27:04.056Z"
   },
   {
    "duration": 155,
    "start_time": "2024-03-30T20:27:04.082Z"
   },
   {
    "duration": 151,
    "start_time": "2024-03-30T20:27:04.238Z"
   },
   {
    "duration": 21,
    "start_time": "2024-03-30T20:31:31.464Z"
   },
   {
    "duration": 77,
    "start_time": "2024-03-30T20:35:42.379Z"
   },
   {
    "duration": 399,
    "start_time": "2024-03-30T20:35:51.874Z"
   },
   {
    "duration": 218,
    "start_time": "2024-03-30T20:35:52.275Z"
   },
   {
    "duration": 2,
    "start_time": "2024-03-30T20:35:52.495Z"
   },
   {
    "duration": 71,
    "start_time": "2024-03-30T20:35:52.499Z"
   },
   {
    "duration": 11,
    "start_time": "2024-03-30T20:35:52.572Z"
   },
   {
    "duration": 10,
    "start_time": "2024-03-30T20:35:52.584Z"
   },
   {
    "duration": 7,
    "start_time": "2024-03-30T20:35:52.596Z"
   },
   {
    "duration": 9,
    "start_time": "2024-03-30T20:35:52.605Z"
   },
   {
    "duration": 6,
    "start_time": "2024-03-30T20:35:52.616Z"
   },
   {
    "duration": 15,
    "start_time": "2024-03-30T20:35:52.623Z"
   },
   {
    "duration": 31,
    "start_time": "2024-03-30T20:35:52.639Z"
   },
   {
    "duration": 6,
    "start_time": "2024-03-30T20:35:52.672Z"
   },
   {
    "duration": 5,
    "start_time": "2024-03-30T20:35:52.680Z"
   },
   {
    "duration": 6,
    "start_time": "2024-03-30T20:35:52.689Z"
   },
   {
    "duration": 6,
    "start_time": "2024-03-30T20:35:52.696Z"
   },
   {
    "duration": 5,
    "start_time": "2024-03-30T20:35:52.703Z"
   },
   {
    "duration": 9,
    "start_time": "2024-03-30T20:35:52.709Z"
   },
   {
    "duration": 46,
    "start_time": "2024-03-30T20:35:52.720Z"
   },
   {
    "duration": 8,
    "start_time": "2024-03-30T20:35:52.768Z"
   },
   {
    "duration": 4,
    "start_time": "2024-03-30T20:35:52.778Z"
   },
   {
    "duration": 146,
    "start_time": "2024-03-30T20:35:52.783Z"
   },
   {
    "duration": 79,
    "start_time": "2024-03-30T20:35:52.930Z"
   },
   {
    "duration": 165,
    "start_time": "2024-03-30T20:35:53.011Z"
   },
   {
    "duration": 173,
    "start_time": "2024-03-30T20:35:53.177Z"
   },
   {
    "duration": 197,
    "start_time": "2024-03-30T20:35:53.351Z"
   },
   {
    "duration": 36,
    "start_time": "2024-03-30T20:35:53.550Z"
   },
   {
    "duration": 19,
    "start_time": "2024-03-30T20:35:53.588Z"
   },
   {
    "duration": 185,
    "start_time": "2024-03-30T20:35:53.609Z"
   },
   {
    "duration": 162,
    "start_time": "2024-03-30T20:35:53.795Z"
   },
   {
    "duration": 19,
    "start_time": "2024-03-30T20:35:53.959Z"
   },
   {
    "duration": 151,
    "start_time": "2024-03-30T20:35:53.980Z"
   },
   {
    "duration": 147,
    "start_time": "2024-03-30T20:35:54.133Z"
   },
   {
    "duration": 21,
    "start_time": "2024-03-30T20:35:54.281Z"
   },
   {
    "duration": 47,
    "start_time": "2024-04-02T17:59:58.975Z"
   },
   {
    "duration": 379,
    "start_time": "2024-04-02T18:00:07.640Z"
   },
   {
    "duration": 390,
    "start_time": "2024-04-02T18:00:08.020Z"
   },
   {
    "duration": 3,
    "start_time": "2024-04-02T18:00:08.412Z"
   },
   {
    "duration": 239,
    "start_time": "2024-04-02T18:00:08.416Z"
   },
   {
    "duration": 13,
    "start_time": "2024-04-02T18:00:08.657Z"
   },
   {
    "duration": 11,
    "start_time": "2024-04-02T18:00:08.671Z"
   },
   {
    "duration": 8,
    "start_time": "2024-04-02T18:00:08.684Z"
   },
   {
    "duration": 13,
    "start_time": "2024-04-02T18:00:08.693Z"
   },
   {
    "duration": 6,
    "start_time": "2024-04-02T18:00:08.707Z"
   },
   {
    "duration": 9,
    "start_time": "2024-04-02T18:00:08.715Z"
   },
   {
    "duration": 7,
    "start_time": "2024-04-02T18:00:08.725Z"
   },
   {
    "duration": 7,
    "start_time": "2024-04-02T18:00:08.733Z"
   },
   {
    "duration": 4,
    "start_time": "2024-04-02T18:00:08.741Z"
   },
   {
    "duration": 5,
    "start_time": "2024-04-02T18:00:08.747Z"
   },
   {
    "duration": 6,
    "start_time": "2024-04-02T18:00:08.754Z"
   },
   {
    "duration": 4,
    "start_time": "2024-04-02T18:00:08.762Z"
   },
   {
    "duration": 5,
    "start_time": "2024-04-02T18:00:08.768Z"
   },
   {
    "duration": 47,
    "start_time": "2024-04-02T18:00:08.774Z"
   },
   {
    "duration": 8,
    "start_time": "2024-04-02T18:00:08.822Z"
   },
   {
    "duration": 4,
    "start_time": "2024-04-02T18:00:08.831Z"
   },
   {
    "duration": 153,
    "start_time": "2024-04-02T18:00:08.837Z"
   },
   {
    "duration": 73,
    "start_time": "2024-04-02T18:00:08.992Z"
   },
   {
    "duration": 169,
    "start_time": "2024-04-02T18:00:09.066Z"
   },
   {
    "duration": 162,
    "start_time": "2024-04-02T18:00:09.237Z"
   },
   {
    "duration": 204,
    "start_time": "2024-04-02T18:00:09.400Z"
   },
   {
    "duration": 26,
    "start_time": "2024-04-02T18:00:09.614Z"
   },
   {
    "duration": 18,
    "start_time": "2024-04-02T18:00:09.642Z"
   },
   {
    "duration": 168,
    "start_time": "2024-04-02T18:00:09.662Z"
   },
   {
    "duration": 179,
    "start_time": "2024-04-02T18:00:09.832Z"
   },
   {
    "duration": 17,
    "start_time": "2024-04-02T18:00:10.014Z"
   },
   {
    "duration": 163,
    "start_time": "2024-04-02T18:00:10.032Z"
   },
   {
    "duration": 152,
    "start_time": "2024-04-02T18:00:10.196Z"
   },
   {
    "duration": 21,
    "start_time": "2024-04-02T18:00:10.350Z"
   },
   {
    "duration": 36,
    "start_time": "2024-04-02T18:02:04.657Z"
   },
   {
    "duration": 31,
    "start_time": "2024-04-02T18:07:24.269Z"
   },
   {
    "duration": 59,
    "start_time": "2024-04-02T18:09:11.063Z"
   },
   {
    "duration": 58,
    "start_time": "2024-04-02T18:14:55.179Z"
   },
   {
    "duration": 1220,
    "start_time": "2024-04-02T18:20:34.739Z"
   },
   {
    "duration": 61,
    "start_time": "2024-04-02T18:20:53.675Z"
   },
   {
    "duration": 981,
    "start_time": "2024-04-02T18:21:12.345Z"
   },
   {
    "duration": 1207,
    "start_time": "2024-04-02T19:00:44.473Z"
   },
   {
    "duration": 496,
    "start_time": "2024-04-03T16:41:32.889Z"
   },
   {
    "duration": 389,
    "start_time": "2024-04-03T16:41:33.386Z"
   },
   {
    "duration": 5,
    "start_time": "2024-04-03T16:41:33.777Z"
   },
   {
    "duration": 218,
    "start_time": "2024-04-03T16:41:33.785Z"
   },
   {
    "duration": 16,
    "start_time": "2024-04-03T16:41:34.005Z"
   },
   {
    "duration": 13,
    "start_time": "2024-04-03T16:41:34.023Z"
   },
   {
    "duration": 9,
    "start_time": "2024-04-03T16:41:34.038Z"
   },
   {
    "duration": 15,
    "start_time": "2024-04-03T16:41:34.049Z"
   },
   {
    "duration": 17,
    "start_time": "2024-04-03T16:41:34.066Z"
   },
   {
    "duration": 13,
    "start_time": "2024-04-03T16:41:34.087Z"
   },
   {
    "duration": 19,
    "start_time": "2024-04-03T16:41:34.102Z"
   },
   {
    "duration": 14,
    "start_time": "2024-04-03T16:41:34.123Z"
   },
   {
    "duration": 6,
    "start_time": "2024-04-03T16:41:34.139Z"
   },
   {
    "duration": 17,
    "start_time": "2024-04-03T16:41:34.146Z"
   },
   {
    "duration": 9,
    "start_time": "2024-04-03T16:41:34.184Z"
   },
   {
    "duration": 8,
    "start_time": "2024-04-03T16:41:34.195Z"
   },
   {
    "duration": 10,
    "start_time": "2024-04-03T16:41:34.206Z"
   },
   {
    "duration": 22,
    "start_time": "2024-04-03T16:41:34.219Z"
   },
   {
    "duration": 43,
    "start_time": "2024-04-03T16:41:34.243Z"
   },
   {
    "duration": 7,
    "start_time": "2024-04-03T16:41:34.288Z"
   },
   {
    "duration": 162,
    "start_time": "2024-04-03T16:41:34.297Z"
   },
   {
    "duration": 89,
    "start_time": "2024-04-03T16:41:34.461Z"
   },
   {
    "duration": 187,
    "start_time": "2024-04-03T16:41:34.552Z"
   },
   {
    "duration": 177,
    "start_time": "2024-04-03T16:41:34.741Z"
   },
   {
    "duration": 218,
    "start_time": "2024-04-03T16:41:34.920Z"
   },
   {
    "duration": 43,
    "start_time": "2024-04-03T16:41:35.139Z"
   },
   {
    "duration": 23,
    "start_time": "2024-04-03T16:41:35.184Z"
   },
   {
    "duration": 197,
    "start_time": "2024-04-03T16:41:35.211Z"
   },
   {
    "duration": 180,
    "start_time": "2024-04-03T16:41:35.409Z"
   },
   {
    "duration": 17,
    "start_time": "2024-04-03T16:41:35.591Z"
   },
   {
    "duration": 193,
    "start_time": "2024-04-03T16:41:35.609Z"
   },
   {
    "duration": 171,
    "start_time": "2024-04-03T16:41:35.803Z"
   },
   {
    "duration": 52,
    "start_time": "2024-04-03T16:41:35.976Z"
   },
   {
    "duration": 94,
    "start_time": "2024-04-03T16:41:36.030Z"
   },
   {
    "duration": 1041,
    "start_time": "2024-04-03T16:41:36.126Z"
   },
   {
    "duration": 0,
    "start_time": "2024-04-03T16:41:37.169Z"
   },
   {
    "duration": 36,
    "start_time": "2024-04-03T17:49:40.960Z"
   },
   {
    "duration": 10,
    "start_time": "2024-04-03T17:50:21.782Z"
   },
   {
    "duration": 370,
    "start_time": "2024-04-03T17:55:32.417Z"
   },
   {
    "duration": 230,
    "start_time": "2024-04-03T17:55:32.789Z"
   },
   {
    "duration": 3,
    "start_time": "2024-04-03T17:55:33.020Z"
   },
   {
    "duration": 71,
    "start_time": "2024-04-03T17:55:33.025Z"
   },
   {
    "duration": 14,
    "start_time": "2024-04-03T17:55:33.098Z"
   },
   {
    "duration": 16,
    "start_time": "2024-04-03T17:55:33.114Z"
   },
   {
    "duration": 10,
    "start_time": "2024-04-03T17:55:33.132Z"
   },
   {
    "duration": 13,
    "start_time": "2024-04-03T17:55:33.144Z"
   },
   {
    "duration": 26,
    "start_time": "2024-04-03T17:55:33.158Z"
   },
   {
    "duration": 11,
    "start_time": "2024-04-03T17:55:33.187Z"
   },
   {
    "duration": 7,
    "start_time": "2024-04-03T17:55:33.200Z"
   },
   {
    "duration": 5,
    "start_time": "2024-04-03T17:55:33.208Z"
   },
   {
    "duration": 15,
    "start_time": "2024-04-03T17:55:33.214Z"
   },
   {
    "duration": 12,
    "start_time": "2024-04-03T17:55:33.230Z"
   },
   {
    "duration": 19,
    "start_time": "2024-04-03T17:55:33.244Z"
   },
   {
    "duration": 18,
    "start_time": "2024-04-03T17:55:33.265Z"
   },
   {
    "duration": 7,
    "start_time": "2024-04-03T17:55:33.285Z"
   },
   {
    "duration": 14,
    "start_time": "2024-04-03T17:55:33.293Z"
   },
   {
    "duration": 18,
    "start_time": "2024-04-03T17:55:33.308Z"
   },
   {
    "duration": 5,
    "start_time": "2024-04-03T17:55:33.328Z"
   },
   {
    "duration": 171,
    "start_time": "2024-04-03T17:55:33.335Z"
   },
   {
    "duration": 77,
    "start_time": "2024-04-03T17:55:33.507Z"
   },
   {
    "duration": 176,
    "start_time": "2024-04-03T17:55:33.586Z"
   },
   {
    "duration": 192,
    "start_time": "2024-04-03T17:55:33.764Z"
   },
   {
    "duration": 201,
    "start_time": "2024-04-03T17:55:33.958Z"
   },
   {
    "duration": 36,
    "start_time": "2024-04-03T17:55:34.161Z"
   },
   {
    "duration": 33,
    "start_time": "2024-04-03T17:55:34.199Z"
   },
   {
    "duration": 168,
    "start_time": "2024-04-03T17:55:34.236Z"
   },
   {
    "duration": 175,
    "start_time": "2024-04-03T17:55:34.406Z"
   },
   {
    "duration": 18,
    "start_time": "2024-04-03T17:55:34.583Z"
   },
   {
    "duration": 164,
    "start_time": "2024-04-03T17:55:34.602Z"
   },
   {
    "duration": 159,
    "start_time": "2024-04-03T17:55:34.767Z"
   },
   {
    "duration": 32,
    "start_time": "2024-04-03T17:55:34.927Z"
   },
   {
    "duration": 77,
    "start_time": "2024-04-03T17:55:34.961Z"
   },
   {
    "duration": 8,
    "start_time": "2024-04-03T17:55:35.039Z"
   },
   {
    "duration": 73,
    "start_time": "2024-04-03T18:00:00.255Z"
   },
   {
    "duration": 15,
    "start_time": "2024-04-03T18:01:42.403Z"
   },
   {
    "duration": 53,
    "start_time": "2024-04-03T18:02:48.789Z"
   },
   {
    "duration": 51,
    "start_time": "2024-04-03T18:03:33.796Z"
   },
   {
    "duration": 75,
    "start_time": "2024-04-03T18:03:44.302Z"
   },
   {
    "duration": 1245,
    "start_time": "2024-04-03T18:06:03.454Z"
   },
   {
    "duration": 51,
    "start_time": "2024-04-03T18:06:56.736Z"
   },
   {
    "duration": 9,
    "start_time": "2024-04-03T18:07:51.622Z"
   },
   {
    "duration": 1090,
    "start_time": "2024-04-03T18:14:04.648Z"
   },
   {
    "duration": 69,
    "start_time": "2024-04-03T18:14:05.740Z"
   },
   {
    "duration": 12,
    "start_time": "2024-04-03T18:14:05.810Z"
   },
   {
    "duration": 17,
    "start_time": "2024-04-03T18:14:05.824Z"
   },
   {
    "duration": 15,
    "start_time": "2024-04-03T18:14:05.844Z"
   },
   {
    "duration": 21,
    "start_time": "2024-04-03T18:14:05.861Z"
   },
   {
    "duration": 8,
    "start_time": "2024-04-03T18:14:05.883Z"
   },
   {
    "duration": 20,
    "start_time": "2024-04-03T18:14:05.893Z"
   },
   {
    "duration": 25,
    "start_time": "2024-04-03T18:14:05.914Z"
   },
   {
    "duration": 13,
    "start_time": "2024-04-03T18:14:05.940Z"
   },
   {
    "duration": 6,
    "start_time": "2024-04-03T18:14:05.954Z"
   },
   {
    "duration": 7,
    "start_time": "2024-04-03T18:14:05.961Z"
   },
   {
    "duration": 26,
    "start_time": "2024-04-03T18:14:05.969Z"
   },
   {
    "duration": 15,
    "start_time": "2024-04-03T18:14:05.999Z"
   },
   {
    "duration": 9,
    "start_time": "2024-04-03T18:14:06.016Z"
   },
   {
    "duration": 21,
    "start_time": "2024-04-03T18:14:06.027Z"
   },
   {
    "duration": 16,
    "start_time": "2024-04-03T18:14:06.049Z"
   },
   {
    "duration": 16,
    "start_time": "2024-04-03T18:14:06.066Z"
   },
   {
    "duration": 149,
    "start_time": "2024-04-03T18:14:06.084Z"
   },
   {
    "duration": 85,
    "start_time": "2024-04-03T18:14:06.235Z"
   },
   {
    "duration": 172,
    "start_time": "2024-04-03T18:14:06.322Z"
   },
   {
    "duration": 179,
    "start_time": "2024-04-03T18:14:06.496Z"
   },
   {
    "duration": 163,
    "start_time": "2024-04-03T18:14:06.676Z"
   },
   {
    "duration": 29,
    "start_time": "2024-04-03T18:14:06.840Z"
   },
   {
    "duration": 30,
    "start_time": "2024-04-03T18:14:06.870Z"
   },
   {
    "duration": 169,
    "start_time": "2024-04-03T18:14:06.901Z"
   },
   {
    "duration": 167,
    "start_time": "2024-04-03T18:14:07.072Z"
   },
   {
    "duration": 17,
    "start_time": "2024-04-03T18:14:07.241Z"
   },
   {
    "duration": 168,
    "start_time": "2024-04-03T18:14:07.260Z"
   },
   {
    "duration": 163,
    "start_time": "2024-04-03T18:14:07.429Z"
   },
   {
    "duration": 120,
    "start_time": "2024-04-03T18:14:07.594Z"
   },
   {
    "duration": 70,
    "start_time": "2024-04-03T18:14:07.717Z"
   },
   {
    "duration": 10,
    "start_time": "2024-04-03T18:14:07.789Z"
   },
   {
    "duration": 1082,
    "start_time": "2024-04-03T18:18:48.500Z"
   },
   {
    "duration": 32,
    "start_time": "2024-04-03T18:19:11.784Z"
   },
   {
    "duration": 40,
    "start_time": "2024-04-03T18:20:58.151Z"
   },
   {
    "duration": 19,
    "start_time": "2024-04-03T18:23:37.706Z"
   },
   {
    "duration": 22,
    "start_time": "2024-04-03T18:24:10.912Z"
   },
   {
    "duration": 31,
    "start_time": "2024-04-03T18:28:17.856Z"
   },
   {
    "duration": 16,
    "start_time": "2024-04-03T18:28:20.468Z"
   },
   {
    "duration": 16,
    "start_time": "2024-04-03T18:29:02.738Z"
   },
   {
    "duration": 14,
    "start_time": "2024-04-03T18:29:04.463Z"
   },
   {
    "duration": 7,
    "start_time": "2024-04-03T18:34:25.124Z"
   },
   {
    "duration": 7,
    "start_time": "2024-04-03T18:35:11.478Z"
   },
   {
    "duration": 6,
    "start_time": "2024-04-03T18:35:24.524Z"
   },
   {
    "duration": 5,
    "start_time": "2024-04-03T18:39:37.398Z"
   },
   {
    "duration": 59,
    "start_time": "2024-04-03T18:41:23.794Z"
   },
   {
    "duration": 7,
    "start_time": "2024-04-03T18:41:40.077Z"
   },
   {
    "duration": 6,
    "start_time": "2024-04-03T18:42:24.132Z"
   },
   {
    "duration": 8,
    "start_time": "2024-04-03T18:44:15.567Z"
   },
   {
    "duration": 8,
    "start_time": "2024-04-03T18:45:42.869Z"
   },
   {
    "duration": 8,
    "start_time": "2024-04-03T18:48:19.052Z"
   },
   {
    "duration": 21,
    "start_time": "2024-04-03T18:49:35.733Z"
   },
   {
    "duration": 18,
    "start_time": "2024-04-03T18:50:10.540Z"
   },
   {
    "duration": 961,
    "start_time": "2024-04-03T18:54:51.461Z"
   },
   {
    "duration": 5,
    "start_time": "2024-04-03T18:55:55.153Z"
   },
   {
    "duration": 5,
    "start_time": "2024-04-03T18:56:13.199Z"
   },
   {
    "duration": 5,
    "start_time": "2024-04-03T18:56:26.324Z"
   },
   {
    "duration": 7,
    "start_time": "2024-04-03T18:56:31.597Z"
   },
   {
    "duration": 6,
    "start_time": "2024-04-03T19:04:51.781Z"
   },
   {
    "duration": 6,
    "start_time": "2024-04-03T19:05:40.193Z"
   },
   {
    "duration": 10,
    "start_time": "2024-04-03T19:06:17.608Z"
   },
   {
    "duration": 6,
    "start_time": "2024-04-03T19:06:29.392Z"
   },
   {
    "duration": 6,
    "start_time": "2024-04-03T19:06:54.944Z"
   },
   {
    "duration": 6,
    "start_time": "2024-04-03T19:07:01.676Z"
   },
   {
    "duration": 5,
    "start_time": "2024-04-03T19:09:53.963Z"
   },
   {
    "duration": 21,
    "start_time": "2024-04-03T19:12:09.733Z"
   },
   {
    "duration": 685,
    "start_time": "2024-04-03T19:13:24.032Z"
   },
   {
    "duration": 1108,
    "start_time": "2024-04-03T19:14:36.964Z"
   },
   {
    "duration": 68,
    "start_time": "2024-04-03T19:14:38.074Z"
   },
   {
    "duration": 15,
    "start_time": "2024-04-03T19:14:38.144Z"
   },
   {
    "duration": 14,
    "start_time": "2024-04-03T19:14:38.161Z"
   },
   {
    "duration": 18,
    "start_time": "2024-04-03T19:14:38.177Z"
   },
   {
    "duration": 14,
    "start_time": "2024-04-03T19:14:38.196Z"
   },
   {
    "duration": 7,
    "start_time": "2024-04-03T19:14:38.212Z"
   },
   {
    "duration": 10,
    "start_time": "2024-04-03T19:14:38.221Z"
   },
   {
    "duration": 8,
    "start_time": "2024-04-03T19:14:38.233Z"
   },
   {
    "duration": 6,
    "start_time": "2024-04-03T19:14:38.244Z"
   },
   {
    "duration": 34,
    "start_time": "2024-04-03T19:14:38.251Z"
   },
   {
    "duration": 6,
    "start_time": "2024-04-03T19:14:38.287Z"
   },
   {
    "duration": 6,
    "start_time": "2024-04-03T19:14:38.294Z"
   },
   {
    "duration": 5,
    "start_time": "2024-04-03T19:14:38.302Z"
   },
   {
    "duration": 6,
    "start_time": "2024-04-03T19:14:38.308Z"
   },
   {
    "duration": 18,
    "start_time": "2024-04-03T19:14:38.316Z"
   },
   {
    "duration": 8,
    "start_time": "2024-04-03T19:14:38.336Z"
   },
   {
    "duration": 6,
    "start_time": "2024-04-03T19:14:38.382Z"
   },
   {
    "duration": 144,
    "start_time": "2024-04-03T19:14:38.389Z"
   },
   {
    "duration": 87,
    "start_time": "2024-04-03T19:14:38.534Z"
   },
   {
    "duration": 161,
    "start_time": "2024-04-03T19:14:38.622Z"
   },
   {
    "duration": 177,
    "start_time": "2024-04-03T19:14:38.785Z"
   },
   {
    "duration": 160,
    "start_time": "2024-04-03T19:14:38.963Z"
   },
   {
    "duration": 26,
    "start_time": "2024-04-03T19:14:39.124Z"
   },
   {
    "duration": 34,
    "start_time": "2024-04-03T19:14:39.152Z"
   },
   {
    "duration": 166,
    "start_time": "2024-04-03T19:14:39.187Z"
   },
   {
    "duration": 173,
    "start_time": "2024-04-03T19:14:39.354Z"
   },
   {
    "duration": 17,
    "start_time": "2024-04-03T19:14:39.530Z"
   },
   {
    "duration": 180,
    "start_time": "2024-04-03T19:14:39.549Z"
   },
   {
    "duration": 173,
    "start_time": "2024-04-03T19:14:39.731Z"
   },
   {
    "duration": 118,
    "start_time": "2024-04-03T19:14:39.906Z"
   },
   {
    "duration": 71,
    "start_time": "2024-04-03T19:14:40.027Z"
   },
   {
    "duration": 9,
    "start_time": "2024-04-03T19:14:40.100Z"
   },
   {
    "duration": 5,
    "start_time": "2024-04-03T19:14:40.111Z"
   },
   {
    "duration": 8,
    "start_time": "2024-04-03T19:14:40.118Z"
   },
   {
    "duration": 9,
    "start_time": "2024-04-03T19:14:40.128Z"
   },
   {
    "duration": 12,
    "start_time": "2024-04-03T19:14:40.138Z"
   },
   {
    "duration": 33,
    "start_time": "2024-04-03T19:14:40.152Z"
   },
   {
    "duration": 43,
    "start_time": "2024-04-03T19:14:40.187Z"
   },
   {
    "duration": 17,
    "start_time": "2024-04-03T19:14:40.232Z"
   },
   {
    "duration": 24,
    "start_time": "2024-04-03T19:15:32.288Z"
   },
   {
    "duration": 21,
    "start_time": "2024-04-03T19:16:26.236Z"
   },
   {
    "duration": 17,
    "start_time": "2024-04-03T19:16:27.352Z"
   },
   {
    "duration": 46,
    "start_time": "2024-04-03T19:17:38.757Z"
   },
   {
    "duration": 25,
    "start_time": "2024-04-03T19:18:13.857Z"
   },
   {
    "duration": 22,
    "start_time": "2024-04-03T19:18:30.887Z"
   },
   {
    "duration": 21,
    "start_time": "2024-04-03T19:18:31.806Z"
   },
   {
    "duration": 7,
    "start_time": "2024-04-03T19:19:58.136Z"
   },
   {
    "duration": 62,
    "start_time": "2024-04-03T19:30:34.086Z"
   },
   {
    "duration": 1039,
    "start_time": "2024-04-03T19:32:16.801Z"
   },
   {
    "duration": 68,
    "start_time": "2024-04-03T19:32:17.841Z"
   },
   {
    "duration": 26,
    "start_time": "2024-04-03T19:32:17.911Z"
   },
   {
    "duration": 11,
    "start_time": "2024-04-03T19:32:17.939Z"
   },
   {
    "duration": 9,
    "start_time": "2024-04-03T19:32:17.951Z"
   },
   {
    "duration": 11,
    "start_time": "2024-04-03T19:32:17.961Z"
   },
   {
    "duration": 11,
    "start_time": "2024-04-03T19:32:17.973Z"
   },
   {
    "duration": 10,
    "start_time": "2024-04-03T19:32:17.985Z"
   },
   {
    "duration": 6,
    "start_time": "2024-04-03T19:32:17.996Z"
   },
   {
    "duration": 5,
    "start_time": "2024-04-03T19:32:18.004Z"
   },
   {
    "duration": 4,
    "start_time": "2024-04-03T19:32:18.010Z"
   },
   {
    "duration": 10,
    "start_time": "2024-04-03T19:32:18.016Z"
   },
   {
    "duration": 13,
    "start_time": "2024-04-03T19:32:18.027Z"
   },
   {
    "duration": 5,
    "start_time": "2024-04-03T19:32:18.041Z"
   },
   {
    "duration": 38,
    "start_time": "2024-04-03T19:32:18.047Z"
   },
   {
    "duration": 14,
    "start_time": "2024-04-03T19:32:18.086Z"
   },
   {
    "duration": 8,
    "start_time": "2024-04-03T19:32:18.101Z"
   },
   {
    "duration": 4,
    "start_time": "2024-04-03T19:32:18.110Z"
   },
   {
    "duration": 154,
    "start_time": "2024-04-03T19:32:18.115Z"
   },
   {
    "duration": 73,
    "start_time": "2024-04-03T19:32:18.270Z"
   },
   {
    "duration": 170,
    "start_time": "2024-04-03T19:32:18.344Z"
   },
   {
    "duration": 163,
    "start_time": "2024-04-03T19:32:18.515Z"
   },
   {
    "duration": 154,
    "start_time": "2024-04-03T19:32:18.681Z"
   },
   {
    "duration": 28,
    "start_time": "2024-04-03T19:32:18.836Z"
   },
   {
    "duration": 32,
    "start_time": "2024-04-03T19:32:18.865Z"
   },
   {
    "duration": 169,
    "start_time": "2024-04-03T19:32:18.899Z"
   },
   {
    "duration": 175,
    "start_time": "2024-04-03T19:32:19.069Z"
   },
   {
    "duration": 18,
    "start_time": "2024-04-03T19:32:19.247Z"
   },
   {
    "duration": 168,
    "start_time": "2024-04-03T19:32:19.267Z"
   },
   {
    "duration": 164,
    "start_time": "2024-04-03T19:32:19.437Z"
   },
   {
    "duration": 100,
    "start_time": "2024-04-03T19:32:19.603Z"
   },
   {
    "duration": 79,
    "start_time": "2024-04-03T19:32:19.704Z"
   },
   {
    "duration": 8,
    "start_time": "2024-04-03T19:32:19.784Z"
   },
   {
    "duration": 8,
    "start_time": "2024-04-03T19:32:19.794Z"
   },
   {
    "duration": 5,
    "start_time": "2024-04-03T19:32:19.803Z"
   },
   {
    "duration": 8,
    "start_time": "2024-04-03T19:32:19.809Z"
   },
   {
    "duration": 6,
    "start_time": "2024-04-03T19:32:19.819Z"
   },
   {
    "duration": 7,
    "start_time": "2024-04-03T19:32:19.827Z"
   },
   {
    "duration": 58,
    "start_time": "2024-04-03T19:32:19.835Z"
   },
   {
    "duration": 17,
    "start_time": "2024-04-03T19:32:19.895Z"
   },
   {
    "duration": 8,
    "start_time": "2024-04-03T19:32:19.914Z"
   },
   {
    "duration": 1091,
    "start_time": "2024-04-03T19:35:56.749Z"
   },
   {
    "duration": 74,
    "start_time": "2024-04-03T19:35:57.843Z"
   },
   {
    "duration": 12,
    "start_time": "2024-04-03T19:35:57.919Z"
   },
   {
    "duration": 13,
    "start_time": "2024-04-03T19:35:57.932Z"
   },
   {
    "duration": 11,
    "start_time": "2024-04-03T19:35:57.948Z"
   },
   {
    "duration": 20,
    "start_time": "2024-04-03T19:35:57.961Z"
   },
   {
    "duration": 6,
    "start_time": "2024-04-03T19:35:57.983Z"
   },
   {
    "duration": 18,
    "start_time": "2024-04-03T19:35:57.991Z"
   },
   {
    "duration": 8,
    "start_time": "2024-04-03T19:35:58.011Z"
   },
   {
    "duration": 4,
    "start_time": "2024-04-03T19:35:58.021Z"
   },
   {
    "duration": 4,
    "start_time": "2024-04-03T19:35:58.027Z"
   },
   {
    "duration": 13,
    "start_time": "2024-04-03T19:35:58.033Z"
   },
   {
    "duration": 6,
    "start_time": "2024-04-03T19:35:58.047Z"
   },
   {
    "duration": 27,
    "start_time": "2024-04-03T19:35:58.056Z"
   },
   {
    "duration": 5,
    "start_time": "2024-04-03T19:35:58.085Z"
   },
   {
    "duration": 14,
    "start_time": "2024-04-03T19:35:58.092Z"
   },
   {
    "duration": 7,
    "start_time": "2024-04-03T19:35:58.108Z"
   },
   {
    "duration": 4,
    "start_time": "2024-04-03T19:35:58.116Z"
   },
   {
    "duration": 171,
    "start_time": "2024-04-03T19:35:58.121Z"
   },
   {
    "duration": 72,
    "start_time": "2024-04-03T19:35:58.293Z"
   },
   {
    "duration": 174,
    "start_time": "2024-04-03T19:35:58.367Z"
   },
   {
    "duration": 162,
    "start_time": "2024-04-03T19:35:58.543Z"
   },
   {
    "duration": 164,
    "start_time": "2024-04-03T19:35:58.706Z"
   },
   {
    "duration": 37,
    "start_time": "2024-04-03T19:35:58.872Z"
   },
   {
    "duration": 19,
    "start_time": "2024-04-03T19:35:58.911Z"
   },
   {
    "duration": 179,
    "start_time": "2024-04-03T19:35:58.931Z"
   },
   {
    "duration": 171,
    "start_time": "2024-04-03T19:35:59.112Z"
   },
   {
    "duration": 16,
    "start_time": "2024-04-03T19:35:59.285Z"
   },
   {
    "duration": 152,
    "start_time": "2024-04-03T19:35:59.303Z"
   },
   {
    "duration": 147,
    "start_time": "2024-04-03T19:35:59.457Z"
   },
   {
    "duration": 97,
    "start_time": "2024-04-03T19:35:59.605Z"
   },
   {
    "duration": 0,
    "start_time": "2024-04-03T19:35:59.703Z"
   },
   {
    "duration": 0,
    "start_time": "2024-04-03T19:35:59.704Z"
   },
   {
    "duration": 0,
    "start_time": "2024-04-03T19:35:59.705Z"
   },
   {
    "duration": 0,
    "start_time": "2024-04-03T19:35:59.707Z"
   },
   {
    "duration": 0,
    "start_time": "2024-04-03T19:35:59.708Z"
   },
   {
    "duration": 0,
    "start_time": "2024-04-03T19:35:59.709Z"
   },
   {
    "duration": 0,
    "start_time": "2024-04-03T19:35:59.710Z"
   },
   {
    "duration": 0,
    "start_time": "2024-04-03T19:35:59.711Z"
   },
   {
    "duration": 0,
    "start_time": "2024-04-03T19:35:59.712Z"
   },
   {
    "duration": 0,
    "start_time": "2024-04-03T19:35:59.713Z"
   },
   {
    "duration": 1039,
    "start_time": "2024-04-03T19:36:27.194Z"
   },
   {
    "duration": 65,
    "start_time": "2024-04-03T19:36:28.236Z"
   },
   {
    "duration": 10,
    "start_time": "2024-04-03T19:36:28.303Z"
   },
   {
    "duration": 10,
    "start_time": "2024-04-03T19:36:28.314Z"
   },
   {
    "duration": 8,
    "start_time": "2024-04-03T19:36:28.326Z"
   },
   {
    "duration": 10,
    "start_time": "2024-04-03T19:36:28.335Z"
   },
   {
    "duration": 6,
    "start_time": "2024-04-03T19:36:28.346Z"
   },
   {
    "duration": 31,
    "start_time": "2024-04-03T19:36:28.354Z"
   },
   {
    "duration": 7,
    "start_time": "2024-04-03T19:36:28.386Z"
   },
   {
    "duration": 4,
    "start_time": "2024-04-03T19:36:28.395Z"
   },
   {
    "duration": 5,
    "start_time": "2024-04-03T19:36:28.400Z"
   },
   {
    "duration": 8,
    "start_time": "2024-04-03T19:36:28.406Z"
   },
   {
    "duration": 6,
    "start_time": "2024-04-03T19:36:28.416Z"
   },
   {
    "duration": 5,
    "start_time": "2024-04-03T19:36:28.425Z"
   },
   {
    "duration": 6,
    "start_time": "2024-04-03T19:36:28.431Z"
   },
   {
    "duration": 50,
    "start_time": "2024-04-03T19:36:28.438Z"
   },
   {
    "duration": 7,
    "start_time": "2024-04-03T19:36:28.489Z"
   },
   {
    "duration": 4,
    "start_time": "2024-04-03T19:36:28.498Z"
   },
   {
    "duration": 154,
    "start_time": "2024-04-03T19:36:28.504Z"
   },
   {
    "duration": 81,
    "start_time": "2024-04-03T19:36:28.659Z"
   },
   {
    "duration": 165,
    "start_time": "2024-04-03T19:36:28.741Z"
   },
   {
    "duration": 159,
    "start_time": "2024-04-03T19:36:28.907Z"
   },
   {
    "duration": 160,
    "start_time": "2024-04-03T19:36:29.068Z"
   },
   {
    "duration": 28,
    "start_time": "2024-04-03T19:36:29.230Z"
   },
   {
    "duration": 37,
    "start_time": "2024-04-03T19:36:29.259Z"
   },
   {
    "duration": 163,
    "start_time": "2024-04-03T19:36:29.297Z"
   },
   {
    "duration": 158,
    "start_time": "2024-04-03T19:36:29.461Z"
   },
   {
    "duration": 16,
    "start_time": "2024-04-03T19:36:29.621Z"
   },
   {
    "duration": 166,
    "start_time": "2024-04-03T19:36:29.638Z"
   },
   {
    "duration": 172,
    "start_time": "2024-04-03T19:36:29.805Z"
   },
   {
    "duration": 110,
    "start_time": "2024-04-03T19:36:29.981Z"
   },
   {
    "duration": 72,
    "start_time": "2024-04-03T19:36:30.093Z"
   },
   {
    "duration": 21,
    "start_time": "2024-04-03T19:36:30.167Z"
   },
   {
    "duration": 70,
    "start_time": "2024-04-03T19:36:30.190Z"
   },
   {
    "duration": 67,
    "start_time": "2024-04-03T19:36:30.262Z"
   },
   {
    "duration": 51,
    "start_time": "2024-04-03T19:36:30.331Z"
   },
   {
    "duration": 66,
    "start_time": "2024-04-03T19:36:30.384Z"
   },
   {
    "duration": 98,
    "start_time": "2024-04-03T19:36:30.451Z"
   },
   {
    "duration": 94,
    "start_time": "2024-04-03T19:36:30.551Z"
   },
   {
    "duration": 41,
    "start_time": "2024-04-03T19:36:30.646Z"
   },
   {
    "duration": 60,
    "start_time": "2024-04-03T19:36:30.691Z"
   },
   {
    "duration": 29,
    "start_time": "2024-04-03T19:39:36.677Z"
   },
   {
    "duration": 27,
    "start_time": "2024-04-03T19:39:47.509Z"
   },
   {
    "duration": 27,
    "start_time": "2024-04-03T19:39:59.558Z"
   },
   {
    "duration": 25,
    "start_time": "2024-04-03T19:41:39.311Z"
   },
   {
    "duration": 382,
    "start_time": "2024-04-03T19:41:56.534Z"
   },
   {
    "duration": 263,
    "start_time": "2024-04-03T19:42:11.666Z"
   },
   {
    "duration": 1155,
    "start_time": "2024-04-03T19:42:18.180Z"
   },
   {
    "duration": 72,
    "start_time": "2024-04-03T19:42:19.337Z"
   },
   {
    "duration": 12,
    "start_time": "2024-04-03T19:42:19.411Z"
   },
   {
    "duration": 10,
    "start_time": "2024-04-03T19:42:19.424Z"
   },
   {
    "duration": 13,
    "start_time": "2024-04-03T19:42:19.436Z"
   },
   {
    "duration": 10,
    "start_time": "2024-04-03T19:42:19.450Z"
   },
   {
    "duration": 7,
    "start_time": "2024-04-03T19:42:19.461Z"
   },
   {
    "duration": 26,
    "start_time": "2024-04-03T19:42:19.469Z"
   },
   {
    "duration": 11,
    "start_time": "2024-04-03T19:42:19.497Z"
   },
   {
    "duration": 4,
    "start_time": "2024-04-03T19:42:19.511Z"
   },
   {
    "duration": 4,
    "start_time": "2024-04-03T19:42:19.517Z"
   },
   {
    "duration": 6,
    "start_time": "2024-04-03T19:42:19.523Z"
   },
   {
    "duration": 6,
    "start_time": "2024-04-03T19:42:19.531Z"
   },
   {
    "duration": 46,
    "start_time": "2024-04-03T19:42:19.538Z"
   },
   {
    "duration": 7,
    "start_time": "2024-04-03T19:42:19.586Z"
   },
   {
    "duration": 21,
    "start_time": "2024-04-03T19:42:19.594Z"
   },
   {
    "duration": 7,
    "start_time": "2024-04-03T19:42:19.616Z"
   },
   {
    "duration": 6,
    "start_time": "2024-04-03T19:42:19.625Z"
   },
   {
    "duration": 163,
    "start_time": "2024-04-03T19:42:19.632Z"
   },
   {
    "duration": 88,
    "start_time": "2024-04-03T19:42:19.797Z"
   },
   {
    "duration": 195,
    "start_time": "2024-04-03T19:42:19.886Z"
   },
   {
    "duration": 177,
    "start_time": "2024-04-03T19:42:20.083Z"
   },
   {
    "duration": 167,
    "start_time": "2024-04-03T19:42:20.261Z"
   },
   {
    "duration": 28,
    "start_time": "2024-04-03T19:42:20.430Z"
   },
   {
    "duration": 34,
    "start_time": "2024-04-03T19:42:20.459Z"
   },
   {
    "duration": 169,
    "start_time": "2024-04-03T19:42:20.494Z"
   },
   {
    "duration": 167,
    "start_time": "2024-04-03T19:42:20.665Z"
   },
   {
    "duration": 17,
    "start_time": "2024-04-03T19:42:20.835Z"
   },
   {
    "duration": 177,
    "start_time": "2024-04-03T19:42:20.853Z"
   },
   {
    "duration": 160,
    "start_time": "2024-04-03T19:42:21.032Z"
   },
   {
    "duration": 441,
    "start_time": "2024-04-03T19:42:21.194Z"
   },
   {
    "duration": 0,
    "start_time": "2024-04-03T19:42:21.636Z"
   },
   {
    "duration": 0,
    "start_time": "2024-04-03T19:42:21.637Z"
   },
   {
    "duration": 0,
    "start_time": "2024-04-03T19:42:21.638Z"
   },
   {
    "duration": 0,
    "start_time": "2024-04-03T19:42:21.639Z"
   },
   {
    "duration": 0,
    "start_time": "2024-04-03T19:42:21.641Z"
   },
   {
    "duration": 0,
    "start_time": "2024-04-03T19:42:21.642Z"
   },
   {
    "duration": 0,
    "start_time": "2024-04-03T19:42:21.643Z"
   },
   {
    "duration": 0,
    "start_time": "2024-04-03T19:42:21.644Z"
   },
   {
    "duration": 0,
    "start_time": "2024-04-03T19:42:21.645Z"
   },
   {
    "duration": 0,
    "start_time": "2024-04-03T19:42:21.646Z"
   },
   {
    "duration": 1040,
    "start_time": "2024-04-03T19:42:47.198Z"
   },
   {
    "duration": 67,
    "start_time": "2024-04-03T19:42:48.240Z"
   },
   {
    "duration": 11,
    "start_time": "2024-04-03T19:42:48.308Z"
   },
   {
    "duration": 10,
    "start_time": "2024-04-03T19:42:48.320Z"
   },
   {
    "duration": 7,
    "start_time": "2024-04-03T19:42:48.332Z"
   },
   {
    "duration": 9,
    "start_time": "2024-04-03T19:42:48.341Z"
   },
   {
    "duration": 5,
    "start_time": "2024-04-03T19:42:48.352Z"
   },
   {
    "duration": 29,
    "start_time": "2024-04-03T19:42:48.358Z"
   },
   {
    "duration": 8,
    "start_time": "2024-04-03T19:42:48.388Z"
   },
   {
    "duration": 4,
    "start_time": "2024-04-03T19:42:48.397Z"
   },
   {
    "duration": 9,
    "start_time": "2024-04-03T19:42:48.402Z"
   },
   {
    "duration": 6,
    "start_time": "2024-04-03T19:42:48.412Z"
   },
   {
    "duration": 6,
    "start_time": "2024-04-03T19:42:48.419Z"
   },
   {
    "duration": 5,
    "start_time": "2024-04-03T19:42:48.427Z"
   },
   {
    "duration": 9,
    "start_time": "2024-04-03T19:42:48.433Z"
   },
   {
    "duration": 48,
    "start_time": "2024-04-03T19:42:48.444Z"
   },
   {
    "duration": 7,
    "start_time": "2024-04-03T19:42:48.494Z"
   },
   {
    "duration": 4,
    "start_time": "2024-04-03T19:42:48.502Z"
   },
   {
    "duration": 146,
    "start_time": "2024-04-03T19:42:48.508Z"
   },
   {
    "duration": 79,
    "start_time": "2024-04-03T19:42:48.656Z"
   },
   {
    "duration": 168,
    "start_time": "2024-04-03T19:42:48.737Z"
   },
   {
    "duration": 166,
    "start_time": "2024-04-03T19:42:48.907Z"
   },
   {
    "duration": 174,
    "start_time": "2024-04-03T19:42:49.075Z"
   },
   {
    "duration": 36,
    "start_time": "2024-04-03T19:42:49.250Z"
   },
   {
    "duration": 19,
    "start_time": "2024-04-03T19:42:49.288Z"
   },
   {
    "duration": 173,
    "start_time": "2024-04-03T19:42:49.309Z"
   },
   {
    "duration": 160,
    "start_time": "2024-04-03T19:42:49.483Z"
   },
   {
    "duration": 17,
    "start_time": "2024-04-03T19:42:49.644Z"
   },
   {
    "duration": 167,
    "start_time": "2024-04-03T19:42:49.662Z"
   },
   {
    "duration": 159,
    "start_time": "2024-04-03T19:42:49.830Z"
   },
   {
    "duration": 105,
    "start_time": "2024-04-03T19:42:49.991Z"
   },
   {
    "duration": 68,
    "start_time": "2024-04-03T19:42:50.097Z"
   },
   {
    "duration": 17,
    "start_time": "2024-04-03T19:42:50.166Z"
   },
   {
    "duration": 5,
    "start_time": "2024-04-03T19:42:50.184Z"
   },
   {
    "duration": 12,
    "start_time": "2024-04-03T19:42:50.190Z"
   },
   {
    "duration": 14,
    "start_time": "2024-04-03T19:42:50.204Z"
   },
   {
    "duration": 6,
    "start_time": "2024-04-03T19:42:50.220Z"
   },
   {
    "duration": 20,
    "start_time": "2024-04-03T19:42:50.227Z"
   },
   {
    "duration": 42,
    "start_time": "2024-04-03T19:42:50.248Z"
   },
   {
    "duration": 16,
    "start_time": "2024-04-03T19:42:50.291Z"
   },
   {
    "duration": 9,
    "start_time": "2024-04-03T19:42:50.310Z"
   },
   {
    "duration": 57,
    "start_time": "2024-04-03T19:52:43.461Z"
   },
   {
    "duration": 55,
    "start_time": "2024-04-03T19:53:35.230Z"
   },
   {
    "duration": 118,
    "start_time": "2024-04-03T19:53:40.453Z"
   },
   {
    "duration": 45,
    "start_time": "2024-04-03T19:54:10.602Z"
   },
   {
    "duration": 66,
    "start_time": "2024-04-03T19:55:16.483Z"
   },
   {
    "duration": 1044,
    "start_time": "2024-04-03T19:55:31.695Z"
   },
   {
    "duration": 68,
    "start_time": "2024-04-03T19:55:32.741Z"
   },
   {
    "duration": 11,
    "start_time": "2024-04-03T19:55:32.810Z"
   },
   {
    "duration": 11,
    "start_time": "2024-04-03T19:55:32.822Z"
   },
   {
    "duration": 9,
    "start_time": "2024-04-03T19:55:32.834Z"
   },
   {
    "duration": 19,
    "start_time": "2024-04-03T19:55:32.844Z"
   },
   {
    "duration": 6,
    "start_time": "2024-04-03T19:55:32.864Z"
   },
   {
    "duration": 9,
    "start_time": "2024-04-03T19:55:32.882Z"
   },
   {
    "duration": 11,
    "start_time": "2024-04-03T19:55:32.893Z"
   },
   {
    "duration": 4,
    "start_time": "2024-04-03T19:55:32.905Z"
   },
   {
    "duration": 4,
    "start_time": "2024-04-03T19:55:32.911Z"
   },
   {
    "duration": 6,
    "start_time": "2024-04-03T19:55:32.916Z"
   },
   {
    "duration": 5,
    "start_time": "2024-04-03T19:55:32.924Z"
   },
   {
    "duration": 4,
    "start_time": "2024-04-03T19:55:32.932Z"
   },
   {
    "duration": 19,
    "start_time": "2024-04-03T19:55:32.937Z"
   },
   {
    "duration": 37,
    "start_time": "2024-04-03T19:55:32.957Z"
   },
   {
    "duration": 7,
    "start_time": "2024-04-03T19:55:32.996Z"
   },
   {
    "duration": 5,
    "start_time": "2024-04-03T19:55:33.004Z"
   },
   {
    "duration": 175,
    "start_time": "2024-04-03T19:55:33.010Z"
   },
   {
    "duration": 71,
    "start_time": "2024-04-03T19:55:33.186Z"
   },
   {
    "duration": 185,
    "start_time": "2024-04-03T19:55:33.260Z"
   },
   {
    "duration": 169,
    "start_time": "2024-04-03T19:55:33.447Z"
   },
   {
    "duration": 180,
    "start_time": "2024-04-03T19:55:33.618Z"
   },
   {
    "duration": 28,
    "start_time": "2024-04-03T19:55:33.799Z"
   },
   {
    "duration": 19,
    "start_time": "2024-04-03T19:55:33.828Z"
   },
   {
    "duration": 181,
    "start_time": "2024-04-03T19:55:33.849Z"
   },
   {
    "duration": 167,
    "start_time": "2024-04-03T19:55:34.032Z"
   },
   {
    "duration": 17,
    "start_time": "2024-04-03T19:55:34.201Z"
   },
   {
    "duration": 163,
    "start_time": "2024-04-03T19:55:34.219Z"
   },
   {
    "duration": 157,
    "start_time": "2024-04-03T19:55:34.383Z"
   },
   {
    "duration": 107,
    "start_time": "2024-04-03T19:55:34.542Z"
   },
   {
    "duration": 87,
    "start_time": "2024-04-03T19:55:34.650Z"
   },
   {
    "duration": 8,
    "start_time": "2024-04-03T19:55:34.738Z"
   },
   {
    "duration": 4,
    "start_time": "2024-04-03T19:55:34.748Z"
   },
   {
    "duration": 28,
    "start_time": "2024-04-03T19:55:34.754Z"
   },
   {
    "duration": 9,
    "start_time": "2024-04-03T19:55:34.783Z"
   },
   {
    "duration": 6,
    "start_time": "2024-04-03T19:55:34.793Z"
   },
   {
    "duration": 11,
    "start_time": "2024-04-03T19:55:34.800Z"
   },
   {
    "duration": 30,
    "start_time": "2024-04-03T19:55:34.812Z"
   },
   {
    "duration": 17,
    "start_time": "2024-04-03T19:55:34.844Z"
   },
   {
    "duration": 9,
    "start_time": "2024-04-03T19:55:34.883Z"
   },
   {
    "duration": 26,
    "start_time": "2024-04-03T19:56:20.872Z"
   },
   {
    "duration": 56,
    "start_time": "2024-04-03T19:56:42.558Z"
   },
   {
    "duration": 54,
    "start_time": "2024-04-03T19:56:55.455Z"
   },
   {
    "duration": 1164,
    "start_time": "2024-04-03T19:57:07.279Z"
   },
   {
    "duration": 91,
    "start_time": "2024-04-03T19:57:08.445Z"
   },
   {
    "duration": 14,
    "start_time": "2024-04-03T19:57:08.538Z"
   },
   {
    "duration": 11,
    "start_time": "2024-04-03T19:57:08.553Z"
   },
   {
    "duration": 21,
    "start_time": "2024-04-03T19:57:08.567Z"
   },
   {
    "duration": 14,
    "start_time": "2024-04-03T19:57:08.589Z"
   },
   {
    "duration": 6,
    "start_time": "2024-04-03T19:57:08.604Z"
   },
   {
    "duration": 10,
    "start_time": "2024-04-03T19:57:08.612Z"
   },
   {
    "duration": 7,
    "start_time": "2024-04-03T19:57:08.624Z"
   },
   {
    "duration": 4,
    "start_time": "2024-04-03T19:57:08.633Z"
   },
   {
    "duration": 5,
    "start_time": "2024-04-03T19:57:08.639Z"
   },
   {
    "duration": 39,
    "start_time": "2024-04-03T19:57:08.645Z"
   },
   {
    "duration": 10,
    "start_time": "2024-04-03T19:57:08.686Z"
   },
   {
    "duration": 11,
    "start_time": "2024-04-03T19:57:08.700Z"
   },
   {
    "duration": 11,
    "start_time": "2024-04-03T19:57:08.713Z"
   },
   {
    "duration": 21,
    "start_time": "2024-04-03T19:57:08.726Z"
   },
   {
    "duration": 8,
    "start_time": "2024-04-03T19:57:08.749Z"
   },
   {
    "duration": 28,
    "start_time": "2024-04-03T19:57:08.759Z"
   },
   {
    "duration": 152,
    "start_time": "2024-04-03T19:57:08.789Z"
   },
   {
    "duration": 90,
    "start_time": "2024-04-03T19:57:08.943Z"
   },
   {
    "duration": 176,
    "start_time": "2024-04-03T19:57:09.034Z"
   },
   {
    "duration": 170,
    "start_time": "2024-04-03T19:57:09.211Z"
   },
   {
    "duration": 171,
    "start_time": "2024-04-03T19:57:09.383Z"
   },
   {
    "duration": 47,
    "start_time": "2024-04-03T19:57:09.556Z"
   },
   {
    "duration": 27,
    "start_time": "2024-04-03T19:57:09.605Z"
   },
   {
    "duration": 190,
    "start_time": "2024-04-03T19:57:09.635Z"
   },
   {
    "duration": 195,
    "start_time": "2024-04-03T19:57:09.827Z"
   },
   {
    "duration": 18,
    "start_time": "2024-04-03T19:57:10.023Z"
   },
   {
    "duration": 167,
    "start_time": "2024-04-03T19:57:10.042Z"
   },
   {
    "duration": 166,
    "start_time": "2024-04-03T19:57:10.211Z"
   },
   {
    "duration": 121,
    "start_time": "2024-04-03T19:57:10.379Z"
   },
   {
    "duration": 72,
    "start_time": "2024-04-03T19:57:10.502Z"
   },
   {
    "duration": 26,
    "start_time": "2024-04-03T19:57:10.581Z"
   },
   {
    "duration": 5,
    "start_time": "2024-04-03T19:57:10.608Z"
   },
   {
    "duration": 8,
    "start_time": "2024-04-03T19:57:10.615Z"
   },
   {
    "duration": 11,
    "start_time": "2024-04-03T19:57:10.625Z"
   },
   {
    "duration": 6,
    "start_time": "2024-04-03T19:57:10.637Z"
   },
   {
    "duration": 12,
    "start_time": "2024-04-03T19:57:10.644Z"
   },
   {
    "duration": 53,
    "start_time": "2024-04-03T19:57:10.658Z"
   },
   {
    "duration": 17,
    "start_time": "2024-04-03T19:57:10.714Z"
   },
   {
    "duration": 7,
    "start_time": "2024-04-03T19:57:10.734Z"
   },
   {
    "duration": 21,
    "start_time": "2024-04-03T19:58:38.695Z"
   },
   {
    "duration": 1102,
    "start_time": "2024-04-03T19:58:47.966Z"
   },
   {
    "duration": 65,
    "start_time": "2024-04-03T19:58:49.070Z"
   },
   {
    "duration": 11,
    "start_time": "2024-04-03T19:58:49.137Z"
   },
   {
    "duration": 10,
    "start_time": "2024-04-03T19:58:49.150Z"
   },
   {
    "duration": 10,
    "start_time": "2024-04-03T19:58:49.161Z"
   },
   {
    "duration": 10,
    "start_time": "2024-04-03T19:58:49.172Z"
   },
   {
    "duration": 6,
    "start_time": "2024-04-03T19:58:49.183Z"
   },
   {
    "duration": 13,
    "start_time": "2024-04-03T19:58:49.191Z"
   },
   {
    "duration": 6,
    "start_time": "2024-04-03T19:58:49.206Z"
   },
   {
    "duration": 5,
    "start_time": "2024-04-03T19:58:49.214Z"
   },
   {
    "duration": 7,
    "start_time": "2024-04-03T19:58:49.220Z"
   },
   {
    "duration": 6,
    "start_time": "2024-04-03T19:58:49.228Z"
   },
   {
    "duration": 7,
    "start_time": "2024-04-03T19:58:49.235Z"
   },
   {
    "duration": 8,
    "start_time": "2024-04-03T19:58:49.243Z"
   },
   {
    "duration": 33,
    "start_time": "2024-04-03T19:58:49.252Z"
   },
   {
    "duration": 15,
    "start_time": "2024-04-03T19:58:49.286Z"
   },
   {
    "duration": 8,
    "start_time": "2024-04-03T19:58:49.302Z"
   },
   {
    "duration": 4,
    "start_time": "2024-04-03T19:58:49.311Z"
   },
   {
    "duration": 159,
    "start_time": "2024-04-03T19:58:49.316Z"
   },
   {
    "duration": 74,
    "start_time": "2024-04-03T19:58:49.482Z"
   },
   {
    "duration": 183,
    "start_time": "2024-04-03T19:58:49.558Z"
   },
   {
    "duration": 185,
    "start_time": "2024-04-03T19:58:49.743Z"
   },
   {
    "duration": 167,
    "start_time": "2024-04-03T19:58:49.930Z"
   },
   {
    "duration": 28,
    "start_time": "2024-04-03T19:58:50.098Z"
   },
   {
    "duration": 20,
    "start_time": "2024-04-03T19:58:50.127Z"
   },
   {
    "duration": 181,
    "start_time": "2024-04-03T19:58:50.148Z"
   },
   {
    "duration": 173,
    "start_time": "2024-04-03T19:58:50.331Z"
   },
   {
    "duration": 18,
    "start_time": "2024-04-03T19:58:50.507Z"
   },
   {
    "duration": 167,
    "start_time": "2024-04-03T19:58:50.527Z"
   },
   {
    "duration": 161,
    "start_time": "2024-04-03T19:58:50.695Z"
   },
   {
    "duration": 107,
    "start_time": "2024-04-03T19:58:50.857Z"
   },
   {
    "duration": 74,
    "start_time": "2024-04-03T19:58:50.965Z"
   },
   {
    "duration": 19,
    "start_time": "2024-04-03T19:58:51.041Z"
   },
   {
    "duration": 5,
    "start_time": "2024-04-03T19:58:51.061Z"
   },
   {
    "duration": 18,
    "start_time": "2024-04-03T19:58:51.067Z"
   },
   {
    "duration": 10,
    "start_time": "2024-04-03T19:58:51.086Z"
   },
   {
    "duration": 10,
    "start_time": "2024-04-03T19:58:51.098Z"
   },
   {
    "duration": 16,
    "start_time": "2024-04-03T19:58:51.109Z"
   },
   {
    "duration": 24,
    "start_time": "2024-04-03T19:58:51.126Z"
   },
   {
    "duration": 16,
    "start_time": "2024-04-03T19:58:51.151Z"
   },
   {
    "duration": 8,
    "start_time": "2024-04-03T19:58:51.182Z"
   },
   {
    "duration": 1249,
    "start_time": "2024-04-04T16:41:17.992Z"
   },
   {
    "duration": 214,
    "start_time": "2024-04-04T16:41:19.243Z"
   },
   {
    "duration": 12,
    "start_time": "2024-04-04T16:41:19.459Z"
   },
   {
    "duration": 28,
    "start_time": "2024-04-04T16:41:19.473Z"
   },
   {
    "duration": 12,
    "start_time": "2024-04-04T16:41:19.503Z"
   },
   {
    "duration": 30,
    "start_time": "2024-04-04T16:41:19.517Z"
   },
   {
    "duration": 12,
    "start_time": "2024-04-04T16:41:19.549Z"
   },
   {
    "duration": 25,
    "start_time": "2024-04-04T16:41:19.562Z"
   },
   {
    "duration": 23,
    "start_time": "2024-04-04T16:41:19.589Z"
   },
   {
    "duration": 28,
    "start_time": "2024-04-04T16:41:19.615Z"
   },
   {
    "duration": 20,
    "start_time": "2024-04-04T16:41:19.644Z"
   },
   {
    "duration": 26,
    "start_time": "2024-04-04T16:41:19.666Z"
   },
   {
    "duration": 21,
    "start_time": "2024-04-04T16:41:19.694Z"
   },
   {
    "duration": 10,
    "start_time": "2024-04-04T16:41:19.716Z"
   },
   {
    "duration": 24,
    "start_time": "2024-04-04T16:41:19.728Z"
   },
   {
    "duration": 33,
    "start_time": "2024-04-04T16:41:19.754Z"
   },
   {
    "duration": 8,
    "start_time": "2024-04-04T16:41:19.789Z"
   },
   {
    "duration": 6,
    "start_time": "2024-04-04T16:41:19.798Z"
   },
   {
    "duration": 143,
    "start_time": "2024-04-04T16:41:19.805Z"
   },
   {
    "duration": 78,
    "start_time": "2024-04-04T16:41:19.949Z"
   },
   {
    "duration": 184,
    "start_time": "2024-04-04T16:41:20.028Z"
   },
   {
    "duration": 154,
    "start_time": "2024-04-04T16:41:20.214Z"
   },
   {
    "duration": 155,
    "start_time": "2024-04-04T16:41:20.370Z"
   },
   {
    "duration": 28,
    "start_time": "2024-04-04T16:41:20.527Z"
   },
   {
    "duration": 37,
    "start_time": "2024-04-04T16:41:20.565Z"
   },
   {
    "duration": 188,
    "start_time": "2024-04-04T16:41:20.603Z"
   },
   {
    "duration": 165,
    "start_time": "2024-04-04T16:41:20.792Z"
   },
   {
    "duration": 16,
    "start_time": "2024-04-04T16:41:20.965Z"
   },
   {
    "duration": 192,
    "start_time": "2024-04-04T16:41:20.983Z"
   },
   {
    "duration": 176,
    "start_time": "2024-04-04T16:41:21.177Z"
   },
   {
    "duration": 111,
    "start_time": "2024-04-04T16:41:21.355Z"
   },
   {
    "duration": 67,
    "start_time": "2024-04-04T16:41:21.468Z"
   },
   {
    "duration": 30,
    "start_time": "2024-04-04T16:41:21.537Z"
   },
   {
    "duration": 8,
    "start_time": "2024-04-04T16:41:21.569Z"
   },
   {
    "duration": 67,
    "start_time": "2024-04-04T16:41:21.579Z"
   },
   {
    "duration": 36,
    "start_time": "2024-04-04T16:41:21.648Z"
   },
   {
    "duration": 37,
    "start_time": "2024-04-04T16:41:21.685Z"
   },
   {
    "duration": 51,
    "start_time": "2024-04-04T16:41:21.723Z"
   },
   {
    "duration": 49,
    "start_time": "2024-04-04T16:41:21.776Z"
   },
   {
    "duration": 35,
    "start_time": "2024-04-04T16:41:21.826Z"
   },
   {
    "duration": 45,
    "start_time": "2024-04-04T16:41:21.863Z"
   },
   {
    "duration": 31,
    "start_time": "2024-04-04T17:10:27.672Z"
   },
   {
    "duration": 21,
    "start_time": "2024-04-04T17:11:37.777Z"
   },
   {
    "duration": 18,
    "start_time": "2024-04-04T17:11:44.807Z"
   },
   {
    "duration": 56,
    "start_time": "2024-04-04T17:12:32.203Z"
   },
   {
    "duration": 7,
    "start_time": "2024-04-04T17:15:50.275Z"
   },
   {
    "duration": 106,
    "start_time": "2024-04-04T17:24:50.829Z"
   },
   {
    "duration": 22,
    "start_time": "2024-04-04T17:25:11.596Z"
   },
   {
    "duration": 24,
    "start_time": "2024-04-04T17:25:57.001Z"
   },
   {
    "duration": 9,
    "start_time": "2024-04-04T17:27:49.998Z"
   },
   {
    "duration": 19,
    "start_time": "2024-04-04T17:28:32.928Z"
   },
   {
    "duration": 22,
    "start_time": "2024-04-04T17:28:47.296Z"
   },
   {
    "duration": 6,
    "start_time": "2024-04-04T17:29:35.609Z"
   },
   {
    "duration": 7,
    "start_time": "2024-04-04T17:54:23.484Z"
   },
   {
    "duration": 7,
    "start_time": "2024-04-04T17:54:28.673Z"
   },
   {
    "duration": 1061,
    "start_time": "2024-04-04T18:07:22.165Z"
   },
   {
    "duration": 71,
    "start_time": "2024-04-04T18:07:23.227Z"
   },
   {
    "duration": 12,
    "start_time": "2024-04-04T18:07:23.300Z"
   },
   {
    "duration": 26,
    "start_time": "2024-04-04T18:07:23.314Z"
   },
   {
    "duration": 24,
    "start_time": "2024-04-04T18:07:23.341Z"
   },
   {
    "duration": 15,
    "start_time": "2024-04-04T18:07:23.367Z"
   },
   {
    "duration": 9,
    "start_time": "2024-04-04T18:07:23.384Z"
   },
   {
    "duration": 20,
    "start_time": "2024-04-04T18:07:23.394Z"
   },
   {
    "duration": 26,
    "start_time": "2024-04-04T18:07:23.416Z"
   },
   {
    "duration": 38,
    "start_time": "2024-04-04T18:07:23.445Z"
   },
   {
    "duration": 22,
    "start_time": "2024-04-04T18:07:23.485Z"
   },
   {
    "duration": 23,
    "start_time": "2024-04-04T18:07:23.508Z"
   },
   {
    "duration": 13,
    "start_time": "2024-04-04T18:07:23.533Z"
   },
   {
    "duration": 9,
    "start_time": "2024-04-04T18:07:23.548Z"
   },
   {
    "duration": 19,
    "start_time": "2024-04-04T18:07:23.560Z"
   },
   {
    "duration": 19,
    "start_time": "2024-04-04T18:07:23.580Z"
   },
   {
    "duration": 9,
    "start_time": "2024-04-04T18:07:23.600Z"
   },
   {
    "duration": 6,
    "start_time": "2024-04-04T18:07:23.610Z"
   },
   {
    "duration": 140,
    "start_time": "2024-04-04T18:07:23.618Z"
   },
   {
    "duration": 76,
    "start_time": "2024-04-04T18:07:23.759Z"
   },
   {
    "duration": 180,
    "start_time": "2024-04-04T18:07:23.837Z"
   },
   {
    "duration": 157,
    "start_time": "2024-04-04T18:07:24.019Z"
   },
   {
    "duration": 158,
    "start_time": "2024-04-04T18:07:24.178Z"
   },
   {
    "duration": 40,
    "start_time": "2024-04-04T18:07:24.337Z"
   },
   {
    "duration": 21,
    "start_time": "2024-04-04T18:07:24.378Z"
   },
   {
    "duration": 170,
    "start_time": "2024-04-04T18:07:24.400Z"
   },
   {
    "duration": 161,
    "start_time": "2024-04-04T18:07:24.572Z"
   },
   {
    "duration": 19,
    "start_time": "2024-04-04T18:07:24.736Z"
   },
   {
    "duration": 153,
    "start_time": "2024-04-04T18:07:24.765Z"
   },
   {
    "duration": 159,
    "start_time": "2024-04-04T18:07:24.920Z"
   },
   {
    "duration": 103,
    "start_time": "2024-04-04T18:07:25.081Z"
   },
   {
    "duration": 65,
    "start_time": "2024-04-04T18:07:25.185Z"
   },
   {
    "duration": 30,
    "start_time": "2024-04-04T18:07:25.252Z"
   },
   {
    "duration": 5,
    "start_time": "2024-04-04T18:07:25.284Z"
   },
   {
    "duration": 19,
    "start_time": "2024-04-04T18:07:25.290Z"
   },
   {
    "duration": 9,
    "start_time": "2024-04-04T18:07:25.311Z"
   },
   {
    "duration": 6,
    "start_time": "2024-04-04T18:07:25.321Z"
   },
   {
    "duration": 10,
    "start_time": "2024-04-04T18:07:25.328Z"
   },
   {
    "duration": 46,
    "start_time": "2024-04-04T18:07:25.340Z"
   },
   {
    "duration": 19,
    "start_time": "2024-04-04T18:07:25.387Z"
   },
   {
    "duration": 7,
    "start_time": "2024-04-04T18:07:25.407Z"
   },
   {
    "duration": 91,
    "start_time": "2024-04-04T18:31:03.776Z"
   },
   {
    "duration": 1083,
    "start_time": "2024-04-04T18:31:36.747Z"
   },
   {
    "duration": 71,
    "start_time": "2024-04-04T18:31:37.834Z"
   },
   {
    "duration": 11,
    "start_time": "2024-04-04T18:31:37.907Z"
   },
   {
    "duration": 10,
    "start_time": "2024-04-04T18:31:37.920Z"
   },
   {
    "duration": 11,
    "start_time": "2024-04-04T18:31:37.931Z"
   },
   {
    "duration": 15,
    "start_time": "2024-04-04T18:31:37.944Z"
   },
   {
    "duration": 7,
    "start_time": "2024-04-04T18:31:37.961Z"
   },
   {
    "duration": 23,
    "start_time": "2024-04-04T18:31:37.969Z"
   },
   {
    "duration": 8,
    "start_time": "2024-04-04T18:31:37.994Z"
   },
   {
    "duration": 6,
    "start_time": "2024-04-04T18:31:38.003Z"
   },
   {
    "duration": 5,
    "start_time": "2024-04-04T18:31:38.010Z"
   },
   {
    "duration": 5,
    "start_time": "2024-04-04T18:31:38.016Z"
   },
   {
    "duration": 6,
    "start_time": "2024-04-04T18:31:38.024Z"
   },
   {
    "duration": 11,
    "start_time": "2024-04-04T18:31:38.031Z"
   },
   {
    "duration": 26,
    "start_time": "2024-04-04T18:31:38.044Z"
   },
   {
    "duration": 19,
    "start_time": "2024-04-04T18:31:38.072Z"
   },
   {
    "duration": 8,
    "start_time": "2024-04-04T18:31:38.093Z"
   },
   {
    "duration": 4,
    "start_time": "2024-04-04T18:31:38.103Z"
   },
   {
    "duration": 162,
    "start_time": "2024-04-04T18:31:38.109Z"
   },
   {
    "duration": 70,
    "start_time": "2024-04-04T18:31:38.273Z"
   },
   {
    "duration": 183,
    "start_time": "2024-04-04T18:31:38.345Z"
   },
   {
    "duration": 193,
    "start_time": "2024-04-04T18:31:38.529Z"
   },
   {
    "duration": 160,
    "start_time": "2024-04-04T18:31:38.724Z"
   },
   {
    "duration": 31,
    "start_time": "2024-04-04T18:31:38.885Z"
   },
   {
    "duration": 24,
    "start_time": "2024-04-04T18:31:38.917Z"
   },
   {
    "duration": 186,
    "start_time": "2024-04-04T18:31:38.942Z"
   },
   {
    "duration": 163,
    "start_time": "2024-04-04T18:31:39.129Z"
   },
   {
    "duration": 20,
    "start_time": "2024-04-04T18:31:39.294Z"
   },
   {
    "duration": 163,
    "start_time": "2024-04-04T18:31:39.316Z"
   },
   {
    "duration": 161,
    "start_time": "2024-04-04T18:31:39.481Z"
   },
   {
    "duration": 114,
    "start_time": "2024-04-04T18:31:39.644Z"
   },
   {
    "duration": 68,
    "start_time": "2024-04-04T18:31:39.765Z"
   },
   {
    "duration": 31,
    "start_time": "2024-04-04T18:31:39.835Z"
   },
   {
    "duration": 6,
    "start_time": "2024-04-04T18:31:39.868Z"
   },
   {
    "duration": 19,
    "start_time": "2024-04-04T18:31:39.875Z"
   },
   {
    "duration": 11,
    "start_time": "2024-04-04T18:31:39.895Z"
   },
   {
    "duration": 34,
    "start_time": "2024-04-04T18:31:39.907Z"
   },
   {
    "duration": 12,
    "start_time": "2024-04-04T18:31:39.942Z"
   },
   {
    "duration": 28,
    "start_time": "2024-04-04T18:31:39.955Z"
   },
   {
    "duration": 22,
    "start_time": "2024-04-04T18:31:39.986Z"
   },
   {
    "duration": 25,
    "start_time": "2024-04-04T18:31:40.009Z"
   },
   {
    "duration": 283,
    "start_time": "2024-04-04T18:31:40.036Z"
   },
   {
    "duration": 8,
    "start_time": "2024-04-04T18:49:25.328Z"
   },
   {
    "duration": 1116,
    "start_time": "2024-04-04T19:19:40.467Z"
   },
   {
    "duration": 71,
    "start_time": "2024-04-04T19:19:41.585Z"
   },
   {
    "duration": 11,
    "start_time": "2024-04-04T19:19:41.659Z"
   },
   {
    "duration": 11,
    "start_time": "2024-04-04T19:19:41.672Z"
   },
   {
    "duration": 9,
    "start_time": "2024-04-04T19:19:41.684Z"
   },
   {
    "duration": 15,
    "start_time": "2024-04-04T19:19:41.694Z"
   },
   {
    "duration": 6,
    "start_time": "2024-04-04T19:19:41.711Z"
   },
   {
    "duration": 9,
    "start_time": "2024-04-04T19:19:41.718Z"
   },
   {
    "duration": 9,
    "start_time": "2024-04-04T19:19:41.729Z"
   },
   {
    "duration": 33,
    "start_time": "2024-04-04T19:19:41.739Z"
   },
   {
    "duration": 5,
    "start_time": "2024-04-04T19:19:41.774Z"
   },
   {
    "duration": 20,
    "start_time": "2024-04-04T19:19:41.780Z"
   },
   {
    "duration": 10,
    "start_time": "2024-04-04T19:19:41.802Z"
   },
   {
    "duration": 7,
    "start_time": "2024-04-04T19:19:41.813Z"
   },
   {
    "duration": 22,
    "start_time": "2024-04-04T19:19:41.824Z"
   },
   {
    "duration": 8,
    "start_time": "2024-04-04T19:19:41.848Z"
   },
   {
    "duration": 4,
    "start_time": "2024-04-04T19:19:41.865Z"
   },
   {
    "duration": 135,
    "start_time": "2024-04-04T19:19:41.870Z"
   },
   {
    "duration": 78,
    "start_time": "2024-04-04T19:19:42.006Z"
   },
   {
    "duration": 160,
    "start_time": "2024-04-04T19:19:42.085Z"
   },
   {
    "duration": 162,
    "start_time": "2024-04-04T19:19:42.246Z"
   },
   {
    "duration": 171,
    "start_time": "2024-04-04T19:19:42.409Z"
   },
   {
    "duration": 31,
    "start_time": "2024-04-04T19:19:42.582Z"
   },
   {
    "duration": 20,
    "start_time": "2024-04-04T19:19:42.615Z"
   },
   {
    "duration": 185,
    "start_time": "2024-04-04T19:19:42.637Z"
   },
   {
    "duration": 159,
    "start_time": "2024-04-04T19:19:42.823Z"
   },
   {
    "duration": 19,
    "start_time": "2024-04-04T19:19:42.983Z"
   },
   {
    "duration": 163,
    "start_time": "2024-04-04T19:19:43.004Z"
   },
   {
    "duration": 153,
    "start_time": "2024-04-04T19:19:43.168Z"
   },
   {
    "duration": 106,
    "start_time": "2024-04-04T19:19:43.322Z"
   },
   {
    "duration": 72,
    "start_time": "2024-04-04T19:19:43.430Z"
   },
   {
    "duration": 19,
    "start_time": "2024-04-04T19:19:43.504Z"
   },
   {
    "duration": 5,
    "start_time": "2024-04-04T19:19:43.524Z"
   },
   {
    "duration": 9,
    "start_time": "2024-04-04T19:19:43.530Z"
   },
   {
    "duration": 26,
    "start_time": "2024-04-04T19:19:43.540Z"
   },
   {
    "duration": 6,
    "start_time": "2024-04-04T19:19:43.567Z"
   },
   {
    "duration": 10,
    "start_time": "2024-04-04T19:19:43.574Z"
   },
   {
    "duration": 23,
    "start_time": "2024-04-04T19:19:43.586Z"
   },
   {
    "duration": 16,
    "start_time": "2024-04-04T19:19:43.610Z"
   },
   {
    "duration": 8,
    "start_time": "2024-04-04T19:19:43.629Z"
   },
   {
    "duration": 1045,
    "start_time": "2024-04-04T19:23:37.986Z"
   },
   {
    "duration": 76,
    "start_time": "2024-04-04T19:23:39.033Z"
   },
   {
    "duration": 15,
    "start_time": "2024-04-04T19:23:39.110Z"
   },
   {
    "duration": 29,
    "start_time": "2024-04-04T19:23:39.126Z"
   },
   {
    "duration": 29,
    "start_time": "2024-04-04T19:23:39.157Z"
   },
   {
    "duration": 12,
    "start_time": "2024-04-04T19:23:39.193Z"
   },
   {
    "duration": 11,
    "start_time": "2024-04-04T19:23:39.206Z"
   },
   {
    "duration": 12,
    "start_time": "2024-04-04T19:23:39.218Z"
   },
   {
    "duration": 11,
    "start_time": "2024-04-04T19:23:39.232Z"
   },
   {
    "duration": 10,
    "start_time": "2024-04-04T19:23:39.244Z"
   },
   {
    "duration": 16,
    "start_time": "2024-04-04T19:23:39.256Z"
   },
   {
    "duration": 12,
    "start_time": "2024-04-04T19:23:39.274Z"
   },
   {
    "duration": 20,
    "start_time": "2024-04-04T19:23:39.287Z"
   },
   {
    "duration": 28,
    "start_time": "2024-04-04T19:23:39.310Z"
   },
   {
    "duration": 19,
    "start_time": "2024-04-04T19:23:39.339Z"
   },
   {
    "duration": 18,
    "start_time": "2024-04-04T19:23:39.359Z"
   },
   {
    "duration": 8,
    "start_time": "2024-04-04T19:23:39.380Z"
   },
   {
    "duration": 157,
    "start_time": "2024-04-04T19:23:39.389Z"
   },
   {
    "duration": 81,
    "start_time": "2024-04-04T19:23:39.547Z"
   },
   {
    "duration": 177,
    "start_time": "2024-04-04T19:23:39.630Z"
   },
   {
    "duration": 173,
    "start_time": "2024-04-04T19:23:39.808Z"
   },
   {
    "duration": 154,
    "start_time": "2024-04-04T19:23:39.983Z"
   },
   {
    "duration": 44,
    "start_time": "2024-04-04T19:23:40.138Z"
   },
   {
    "duration": 20,
    "start_time": "2024-04-04T19:23:40.183Z"
   },
   {
    "duration": 184,
    "start_time": "2024-04-04T19:23:40.205Z"
   },
   {
    "duration": 170,
    "start_time": "2024-04-04T19:23:40.391Z"
   },
   {
    "duration": 28,
    "start_time": "2024-04-04T19:23:40.565Z"
   },
   {
    "duration": 208,
    "start_time": "2024-04-04T19:23:40.594Z"
   },
   {
    "duration": 177,
    "start_time": "2024-04-04T19:23:40.808Z"
   },
   {
    "duration": 109,
    "start_time": "2024-04-04T19:23:40.986Z"
   },
   {
    "duration": 62,
    "start_time": "2024-04-04T19:23:41.097Z"
   },
   {
    "duration": 33,
    "start_time": "2024-04-04T19:23:41.161Z"
   },
   {
    "duration": 7,
    "start_time": "2024-04-04T19:23:41.196Z"
   },
   {
    "duration": 26,
    "start_time": "2024-04-04T19:23:41.205Z"
   },
   {
    "duration": 30,
    "start_time": "2024-04-04T19:23:41.233Z"
   },
   {
    "duration": 18,
    "start_time": "2024-04-04T19:23:41.265Z"
   },
   {
    "duration": 41,
    "start_time": "2024-04-04T19:23:41.284Z"
   },
   {
    "duration": 56,
    "start_time": "2024-04-04T19:23:41.326Z"
   },
   {
    "duration": 15,
    "start_time": "2024-04-04T19:23:41.384Z"
   },
   {
    "duration": 17,
    "start_time": "2024-04-04T19:23:41.401Z"
   },
   {
    "duration": 1043,
    "start_time": "2024-04-04T19:48:14.993Z"
   },
   {
    "duration": 213,
    "start_time": "2024-04-04T19:48:16.038Z"
   },
   {
    "duration": 12,
    "start_time": "2024-04-04T19:48:16.252Z"
   },
   {
    "duration": 22,
    "start_time": "2024-04-04T19:48:16.265Z"
   },
   {
    "duration": 23,
    "start_time": "2024-04-04T19:48:16.289Z"
   },
   {
    "duration": 34,
    "start_time": "2024-04-04T19:48:16.314Z"
   },
   {
    "duration": 17,
    "start_time": "2024-04-04T19:48:16.350Z"
   },
   {
    "duration": 26,
    "start_time": "2024-04-04T19:48:16.368Z"
   },
   {
    "duration": 26,
    "start_time": "2024-04-04T19:48:16.396Z"
   },
   {
    "duration": 15,
    "start_time": "2024-04-04T19:48:16.423Z"
   },
   {
    "duration": 8,
    "start_time": "2024-04-04T19:48:16.439Z"
   },
   {
    "duration": 13,
    "start_time": "2024-04-04T19:48:16.448Z"
   },
   {
    "duration": 12,
    "start_time": "2024-04-04T19:48:16.463Z"
   },
   {
    "duration": 6,
    "start_time": "2024-04-04T19:48:16.478Z"
   },
   {
    "duration": 17,
    "start_time": "2024-04-04T19:48:16.485Z"
   },
   {
    "duration": 12,
    "start_time": "2024-04-04T19:48:16.504Z"
   },
   {
    "duration": 30,
    "start_time": "2024-04-04T19:48:16.518Z"
   },
   {
    "duration": 133,
    "start_time": "2024-04-04T19:48:16.549Z"
   },
   {
    "duration": 84,
    "start_time": "2024-04-04T19:48:16.683Z"
   },
   {
    "duration": 153,
    "start_time": "2024-04-04T19:48:16.768Z"
   },
   {
    "duration": 165,
    "start_time": "2024-04-04T19:48:16.922Z"
   },
   {
    "duration": 154,
    "start_time": "2024-04-04T19:48:17.089Z"
   },
   {
    "duration": 37,
    "start_time": "2024-04-04T19:48:17.244Z"
   },
   {
    "duration": 20,
    "start_time": "2024-04-04T19:48:17.283Z"
   },
   {
    "duration": 161,
    "start_time": "2024-04-04T19:48:17.304Z"
   },
   {
    "duration": 177,
    "start_time": "2024-04-04T19:48:17.467Z"
   },
   {
    "duration": 27,
    "start_time": "2024-04-04T19:48:17.645Z"
   },
   {
    "duration": 157,
    "start_time": "2024-04-04T19:48:17.673Z"
   },
   {
    "duration": 163,
    "start_time": "2024-04-04T19:48:17.831Z"
   },
   {
    "duration": 99,
    "start_time": "2024-04-04T19:48:17.996Z"
   },
   {
    "duration": 69,
    "start_time": "2024-04-04T19:48:18.096Z"
   },
   {
    "duration": 19,
    "start_time": "2024-04-04T19:48:18.167Z"
   },
   {
    "duration": 9,
    "start_time": "2024-04-04T19:48:18.187Z"
   },
   {
    "duration": 12,
    "start_time": "2024-04-04T19:48:18.198Z"
   },
   {
    "duration": 27,
    "start_time": "2024-04-04T19:48:18.211Z"
   },
   {
    "duration": 9,
    "start_time": "2024-04-04T19:48:18.240Z"
   },
   {
    "duration": 8,
    "start_time": "2024-04-04T19:48:18.251Z"
   },
   {
    "duration": 25,
    "start_time": "2024-04-04T19:48:18.260Z"
   },
   {
    "duration": 15,
    "start_time": "2024-04-04T19:48:18.286Z"
   },
   {
    "duration": 6,
    "start_time": "2024-04-04T19:48:18.303Z"
   },
   {
    "duration": 6,
    "start_time": "2024-04-04T20:06:19.083Z"
   },
   {
    "duration": 3,
    "start_time": "2024-04-04T20:06:49.269Z"
   },
   {
    "duration": 82,
    "start_time": "2024-04-04T20:06:49.274Z"
   },
   {
    "duration": 9,
    "start_time": "2024-04-04T20:06:49.358Z"
   },
   {
    "duration": 14,
    "start_time": "2024-04-04T20:06:49.368Z"
   },
   {
    "duration": 11,
    "start_time": "2024-04-04T20:06:49.383Z"
   },
   {
    "duration": 11,
    "start_time": "2024-04-04T20:06:49.396Z"
   },
   {
    "duration": 7,
    "start_time": "2024-04-04T20:06:49.409Z"
   },
   {
    "duration": 11,
    "start_time": "2024-04-04T20:06:49.417Z"
   },
   {
    "duration": 35,
    "start_time": "2024-04-04T20:06:49.430Z"
   },
   {
    "duration": 7,
    "start_time": "2024-04-04T20:06:49.467Z"
   },
   {
    "duration": 15,
    "start_time": "2024-04-04T20:06:49.476Z"
   },
   {
    "duration": 19,
    "start_time": "2024-04-04T20:06:49.492Z"
   },
   {
    "duration": 16,
    "start_time": "2024-04-04T20:06:49.512Z"
   },
   {
    "duration": 9,
    "start_time": "2024-04-04T20:06:49.530Z"
   },
   {
    "duration": 16,
    "start_time": "2024-04-04T20:06:49.541Z"
   },
   {
    "duration": 6,
    "start_time": "2024-04-04T20:06:49.565Z"
   },
   {
    "duration": 21,
    "start_time": "2024-04-04T20:06:49.573Z"
   },
   {
    "duration": 13,
    "start_time": "2024-04-04T20:06:49.596Z"
   },
   {
    "duration": 126,
    "start_time": "2024-04-04T20:06:49.611Z"
   },
   {
    "duration": 80,
    "start_time": "2024-04-04T20:06:49.739Z"
   },
   {
    "duration": 173,
    "start_time": "2024-04-04T20:06:49.821Z"
   },
   {
    "duration": 169,
    "start_time": "2024-04-04T20:06:49.995Z"
   },
   {
    "duration": 201,
    "start_time": "2024-04-04T20:06:50.166Z"
   },
   {
    "duration": 31,
    "start_time": "2024-04-04T20:06:50.369Z"
   },
   {
    "duration": 22,
    "start_time": "2024-04-04T20:06:50.402Z"
   },
   {
    "duration": 185,
    "start_time": "2024-04-04T20:06:50.425Z"
   },
   {
    "duration": 220,
    "start_time": "2024-04-04T20:06:50.612Z"
   },
   {
    "duration": 19,
    "start_time": "2024-04-04T20:06:50.833Z"
   },
   {
    "duration": 156,
    "start_time": "2024-04-04T20:06:50.866Z"
   },
   {
    "duration": 158,
    "start_time": "2024-04-04T20:06:51.024Z"
   },
   {
    "duration": 33,
    "start_time": "2024-04-04T20:06:51.184Z"
   },
   {
    "duration": 78,
    "start_time": "2024-04-04T20:06:51.218Z"
   },
   {
    "duration": 19,
    "start_time": "2024-04-04T20:06:51.297Z"
   },
   {
    "duration": 5,
    "start_time": "2024-04-04T20:06:51.318Z"
   },
   {
    "duration": 14,
    "start_time": "2024-04-04T20:06:51.325Z"
   },
   {
    "duration": 24,
    "start_time": "2024-04-04T20:06:51.341Z"
   },
   {
    "duration": 5,
    "start_time": "2024-04-04T20:06:51.367Z"
   },
   {
    "duration": 11,
    "start_time": "2024-04-04T20:06:51.374Z"
   },
   {
    "duration": 18,
    "start_time": "2024-04-04T20:06:51.387Z"
   },
   {
    "duration": 14,
    "start_time": "2024-04-04T20:06:51.407Z"
   },
   {
    "duration": 7,
    "start_time": "2024-04-04T20:06:51.426Z"
   },
   {
    "duration": 7,
    "start_time": "2024-04-04T20:09:28.552Z"
   },
   {
    "duration": 54,
    "start_time": "2024-04-05T14:12:21.415Z"
   },
   {
    "duration": 1373,
    "start_time": "2024-04-05T14:12:30.218Z"
   },
   {
    "duration": 205,
    "start_time": "2024-04-05T14:12:31.595Z"
   },
   {
    "duration": 13,
    "start_time": "2024-04-05T14:12:31.802Z"
   },
   {
    "duration": 21,
    "start_time": "2024-04-05T14:12:31.816Z"
   },
   {
    "duration": 61,
    "start_time": "2024-04-05T14:12:31.840Z"
   },
   {
    "duration": 32,
    "start_time": "2024-04-05T14:12:31.903Z"
   },
   {
    "duration": 27,
    "start_time": "2024-04-05T14:12:31.937Z"
   },
   {
    "duration": 42,
    "start_time": "2024-04-05T14:12:31.965Z"
   },
   {
    "duration": 28,
    "start_time": "2024-04-05T14:12:32.009Z"
   },
   {
    "duration": 30,
    "start_time": "2024-04-05T14:12:32.038Z"
   },
   {
    "duration": 20,
    "start_time": "2024-04-05T14:12:32.069Z"
   },
   {
    "duration": 34,
    "start_time": "2024-04-05T14:12:32.091Z"
   },
   {
    "duration": 18,
    "start_time": "2024-04-05T14:12:32.127Z"
   },
   {
    "duration": 23,
    "start_time": "2024-04-05T14:12:32.149Z"
   },
   {
    "duration": 30,
    "start_time": "2024-04-05T14:12:32.174Z"
   },
   {
    "duration": 9,
    "start_time": "2024-04-05T14:12:32.206Z"
   },
   {
    "duration": 13,
    "start_time": "2024-04-05T14:12:32.216Z"
   },
   {
    "duration": 174,
    "start_time": "2024-04-05T14:12:32.230Z"
   },
   {
    "duration": 100,
    "start_time": "2024-04-05T14:12:32.406Z"
   },
   {
    "duration": 219,
    "start_time": "2024-04-05T14:12:32.508Z"
   },
   {
    "duration": 192,
    "start_time": "2024-04-05T14:12:32.728Z"
   },
   {
    "duration": 183,
    "start_time": "2024-04-05T14:12:32.922Z"
   },
   {
    "duration": 33,
    "start_time": "2024-04-05T14:12:33.107Z"
   },
   {
    "duration": 53,
    "start_time": "2024-04-05T14:12:33.141Z"
   },
   {
    "duration": 177,
    "start_time": "2024-04-05T14:12:33.196Z"
   },
   {
    "duration": 180,
    "start_time": "2024-04-05T14:12:33.374Z"
   },
   {
    "duration": 20,
    "start_time": "2024-04-05T14:12:33.556Z"
   },
   {
    "duration": 181,
    "start_time": "2024-04-05T14:12:33.577Z"
   },
   {
    "duration": 278,
    "start_time": "2024-04-05T14:12:33.760Z"
   },
   {
    "duration": 43,
    "start_time": "2024-04-05T14:12:34.039Z"
   },
   {
    "duration": 76,
    "start_time": "2024-04-05T14:12:34.085Z"
   },
   {
    "duration": 56,
    "start_time": "2024-04-05T14:12:34.163Z"
   },
   {
    "duration": 6,
    "start_time": "2024-04-05T14:12:34.222Z"
   },
   {
    "duration": 7,
    "start_time": "2024-04-05T14:12:34.230Z"
   },
   {
    "duration": 7,
    "start_time": "2024-04-05T14:12:34.238Z"
   },
   {
    "duration": 10,
    "start_time": "2024-04-05T14:12:34.247Z"
   },
   {
    "duration": 26,
    "start_time": "2024-04-05T14:12:34.258Z"
   },
   {
    "duration": 34,
    "start_time": "2024-04-05T14:12:34.286Z"
   },
   {
    "duration": 17,
    "start_time": "2024-04-05T14:12:34.321Z"
   },
   {
    "duration": 10,
    "start_time": "2024-04-05T14:12:34.340Z"
   },
   {
    "duration": 63,
    "start_time": "2024-04-05T14:14:26.917Z"
   },
   {
    "duration": 9,
    "start_time": "2024-04-05T14:14:31.058Z"
   },
   {
    "duration": 1186,
    "start_time": "2024-04-05T14:14:44.582Z"
   },
   {
    "duration": 77,
    "start_time": "2024-04-05T14:14:45.770Z"
   },
   {
    "duration": 15,
    "start_time": "2024-04-05T14:14:45.849Z"
   },
   {
    "duration": 32,
    "start_time": "2024-04-05T14:14:45.866Z"
   },
   {
    "duration": 16,
    "start_time": "2024-04-05T14:14:45.901Z"
   },
   {
    "duration": 22,
    "start_time": "2024-04-05T14:14:45.918Z"
   },
   {
    "duration": 7,
    "start_time": "2024-04-05T14:14:45.942Z"
   },
   {
    "duration": 28,
    "start_time": "2024-04-05T14:14:45.950Z"
   },
   {
    "duration": 20,
    "start_time": "2024-04-05T14:14:45.980Z"
   },
   {
    "duration": 22,
    "start_time": "2024-04-05T14:14:46.001Z"
   },
   {
    "duration": 10,
    "start_time": "2024-04-05T14:14:46.025Z"
   },
   {
    "duration": 16,
    "start_time": "2024-04-05T14:14:46.036Z"
   },
   {
    "duration": 8,
    "start_time": "2024-04-05T14:14:46.054Z"
   },
   {
    "duration": 6,
    "start_time": "2024-04-05T14:14:46.066Z"
   },
   {
    "duration": 36,
    "start_time": "2024-04-05T14:14:46.074Z"
   },
   {
    "duration": 9,
    "start_time": "2024-04-05T14:14:46.112Z"
   },
   {
    "duration": 6,
    "start_time": "2024-04-05T14:14:46.123Z"
   },
   {
    "duration": 177,
    "start_time": "2024-04-05T14:14:46.130Z"
   },
   {
    "duration": 88,
    "start_time": "2024-04-05T14:14:46.309Z"
   },
   {
    "duration": 175,
    "start_time": "2024-04-05T14:14:46.400Z"
   },
   {
    "duration": 200,
    "start_time": "2024-04-05T14:14:46.577Z"
   },
   {
    "duration": 198,
    "start_time": "2024-04-05T14:14:46.779Z"
   },
   {
    "duration": 43,
    "start_time": "2024-04-05T14:14:46.979Z"
   },
   {
    "duration": 22,
    "start_time": "2024-04-05T14:14:47.024Z"
   },
   {
    "duration": 200,
    "start_time": "2024-04-05T14:14:47.047Z"
   },
   {
    "duration": 190,
    "start_time": "2024-04-05T14:14:47.249Z"
   },
   {
    "duration": 20,
    "start_time": "2024-04-05T14:14:47.441Z"
   },
   {
    "duration": 201,
    "start_time": "2024-04-05T14:14:47.463Z"
   },
   {
    "duration": 180,
    "start_time": "2024-04-05T14:14:47.666Z"
   },
   {
    "duration": 117,
    "start_time": "2024-04-05T14:14:47.848Z"
   },
   {
    "duration": 87,
    "start_time": "2024-04-05T14:14:47.967Z"
   },
   {
    "duration": 27,
    "start_time": "2024-04-05T14:14:48.056Z"
   },
   {
    "duration": 12,
    "start_time": "2024-04-05T14:14:48.088Z"
   },
   {
    "duration": 11,
    "start_time": "2024-04-05T14:14:48.103Z"
   },
   {
    "duration": 7,
    "start_time": "2024-04-05T14:14:48.116Z"
   },
   {
    "duration": 8,
    "start_time": "2024-04-05T14:14:48.124Z"
   },
   {
    "duration": 6,
    "start_time": "2024-04-05T14:14:48.134Z"
   },
   {
    "duration": 63,
    "start_time": "2024-04-05T14:14:48.142Z"
   },
   {
    "duration": 17,
    "start_time": "2024-04-05T14:14:48.207Z"
   },
   {
    "duration": 8,
    "start_time": "2024-04-05T14:14:48.226Z"
   },
   {
    "duration": 1239,
    "start_time": "2024-04-05T14:15:19.356Z"
   },
   {
    "duration": 72,
    "start_time": "2024-04-05T14:15:20.597Z"
   },
   {
    "duration": 11,
    "start_time": "2024-04-05T14:15:20.671Z"
   },
   {
    "duration": 11,
    "start_time": "2024-04-05T14:15:20.684Z"
   },
   {
    "duration": 20,
    "start_time": "2024-04-05T14:15:20.696Z"
   },
   {
    "duration": 11,
    "start_time": "2024-04-05T14:15:20.717Z"
   },
   {
    "duration": 7,
    "start_time": "2024-04-05T14:15:20.729Z"
   },
   {
    "duration": 11,
    "start_time": "2024-04-05T14:15:20.737Z"
   },
   {
    "duration": 51,
    "start_time": "2024-04-05T14:15:20.749Z"
   },
   {
    "duration": 9,
    "start_time": "2024-04-05T14:15:20.804Z"
   },
   {
    "duration": 8,
    "start_time": "2024-04-05T14:15:20.816Z"
   },
   {
    "duration": 72,
    "start_time": "2024-04-05T14:15:20.826Z"
   },
   {
    "duration": 7,
    "start_time": "2024-04-05T14:15:20.900Z"
   },
   {
    "duration": 16,
    "start_time": "2024-04-05T14:15:20.908Z"
   },
   {
    "duration": 71,
    "start_time": "2024-04-05T14:15:20.926Z"
   },
   {
    "duration": 9,
    "start_time": "2024-04-05T14:15:21.000Z"
   },
   {
    "duration": 14,
    "start_time": "2024-04-05T14:15:21.010Z"
   },
   {
    "duration": 276,
    "start_time": "2024-04-05T14:15:21.025Z"
   },
   {
    "duration": 97,
    "start_time": "2024-04-05T14:15:21.303Z"
   },
   {
    "duration": 179,
    "start_time": "2024-04-05T14:15:21.402Z"
   },
   {
    "duration": 176,
    "start_time": "2024-04-05T14:15:21.593Z"
   },
   {
    "duration": 192,
    "start_time": "2024-04-05T14:15:21.771Z"
   },
   {
    "duration": 44,
    "start_time": "2024-04-05T14:15:21.964Z"
   },
   {
    "duration": 21,
    "start_time": "2024-04-05T14:15:22.010Z"
   },
   {
    "duration": 187,
    "start_time": "2024-04-05T14:15:22.033Z"
   },
   {
    "duration": 189,
    "start_time": "2024-04-05T14:15:22.222Z"
   },
   {
    "duration": 20,
    "start_time": "2024-04-05T14:15:22.413Z"
   },
   {
    "duration": 233,
    "start_time": "2024-04-05T14:15:22.436Z"
   },
   {
    "duration": 254,
    "start_time": "2024-04-05T14:15:22.671Z"
   },
   {
    "duration": 34,
    "start_time": "2024-04-05T14:15:22.926Z"
   },
   {
    "duration": 89,
    "start_time": "2024-04-05T14:15:22.962Z"
   },
   {
    "duration": 33,
    "start_time": "2024-04-05T14:15:23.052Z"
   },
   {
    "duration": 13,
    "start_time": "2024-04-05T14:15:23.088Z"
   },
   {
    "duration": 5,
    "start_time": "2024-04-05T14:15:23.103Z"
   },
   {
    "duration": 6,
    "start_time": "2024-04-05T14:15:23.110Z"
   },
   {
    "duration": 4,
    "start_time": "2024-04-05T14:15:23.118Z"
   },
   {
    "duration": 12,
    "start_time": "2024-04-05T14:15:23.123Z"
   },
   {
    "duration": 54,
    "start_time": "2024-04-05T14:15:23.137Z"
   },
   {
    "duration": 21,
    "start_time": "2024-04-05T14:15:23.194Z"
   },
   {
    "duration": 8,
    "start_time": "2024-04-05T14:15:23.216Z"
   },
   {
    "duration": 1261,
    "start_time": "2024-04-05T14:17:00.079Z"
   },
   {
    "duration": 85,
    "start_time": "2024-04-05T14:17:01.342Z"
   },
   {
    "duration": 12,
    "start_time": "2024-04-05T14:17:01.429Z"
   },
   {
    "duration": 131,
    "start_time": "2024-04-05T14:17:01.443Z"
   },
   {
    "duration": 43,
    "start_time": "2024-04-05T14:17:01.576Z"
   },
   {
    "duration": 49,
    "start_time": "2024-04-05T14:17:01.620Z"
   },
   {
    "duration": 56,
    "start_time": "2024-04-05T14:17:01.670Z"
   },
   {
    "duration": 79,
    "start_time": "2024-04-05T14:17:01.728Z"
   },
   {
    "duration": 164,
    "start_time": "2024-04-05T14:17:01.809Z"
   },
   {
    "duration": 39,
    "start_time": "2024-04-05T14:17:01.975Z"
   },
   {
    "duration": 41,
    "start_time": "2024-04-05T14:17:02.016Z"
   },
   {
    "duration": 29,
    "start_time": "2024-04-05T14:17:02.059Z"
   },
   {
    "duration": 11,
    "start_time": "2024-04-05T14:17:02.091Z"
   },
   {
    "duration": 11,
    "start_time": "2024-04-05T14:17:02.105Z"
   },
   {
    "duration": 37,
    "start_time": "2024-04-05T14:17:02.117Z"
   },
   {
    "duration": 8,
    "start_time": "2024-04-05T14:17:02.156Z"
   },
   {
    "duration": 7,
    "start_time": "2024-04-05T14:17:02.165Z"
   },
   {
    "duration": 176,
    "start_time": "2024-04-05T14:17:02.181Z"
   },
   {
    "duration": 106,
    "start_time": "2024-04-05T14:17:02.359Z"
   },
   {
    "duration": 197,
    "start_time": "2024-04-05T14:17:02.467Z"
   },
   {
    "duration": 187,
    "start_time": "2024-04-05T14:17:02.665Z"
   },
   {
    "duration": 184,
    "start_time": "2024-04-05T14:17:02.854Z"
   },
   {
    "duration": 36,
    "start_time": "2024-04-05T14:17:03.040Z"
   },
   {
    "duration": 34,
    "start_time": "2024-04-05T14:17:03.078Z"
   },
   {
    "duration": 193,
    "start_time": "2024-04-05T14:17:03.113Z"
   },
   {
    "duration": 192,
    "start_time": "2024-04-05T14:17:03.308Z"
   },
   {
    "duration": 21,
    "start_time": "2024-04-05T14:17:03.502Z"
   },
   {
    "duration": 190,
    "start_time": "2024-04-05T14:17:03.524Z"
   },
   {
    "duration": 254,
    "start_time": "2024-04-05T14:17:03.717Z"
   },
   {
    "duration": 52,
    "start_time": "2024-04-05T14:17:03.973Z"
   },
   {
    "duration": 87,
    "start_time": "2024-04-05T14:17:04.026Z"
   },
   {
    "duration": 19,
    "start_time": "2024-04-05T14:17:04.115Z"
   },
   {
    "duration": 5,
    "start_time": "2024-04-05T14:17:04.136Z"
   },
   {
    "duration": 14,
    "start_time": "2024-04-05T14:17:04.143Z"
   },
   {
    "duration": 34,
    "start_time": "2024-04-05T14:17:04.160Z"
   },
   {
    "duration": 7,
    "start_time": "2024-04-05T14:17:04.196Z"
   },
   {
    "duration": 8,
    "start_time": "2024-04-05T14:17:04.205Z"
   },
   {
    "duration": 25,
    "start_time": "2024-04-05T14:17:04.216Z"
   },
   {
    "duration": 45,
    "start_time": "2024-04-05T14:17:04.242Z"
   },
   {
    "duration": 8,
    "start_time": "2024-04-05T14:17:04.289Z"
   },
   {
    "duration": 1215,
    "start_time": "2024-04-05T14:19:40.669Z"
   },
   {
    "duration": 75,
    "start_time": "2024-04-05T14:19:41.892Z"
   },
   {
    "duration": 12,
    "start_time": "2024-04-05T14:19:41.968Z"
   },
   {
    "duration": 23,
    "start_time": "2024-04-05T14:19:41.985Z"
   },
   {
    "duration": 18,
    "start_time": "2024-04-05T14:19:42.010Z"
   },
   {
    "duration": 20,
    "start_time": "2024-04-05T14:19:42.030Z"
   },
   {
    "duration": 16,
    "start_time": "2024-04-05T14:19:42.052Z"
   },
   {
    "duration": 40,
    "start_time": "2024-04-05T14:19:42.070Z"
   },
   {
    "duration": 15,
    "start_time": "2024-04-05T14:19:42.112Z"
   },
   {
    "duration": 31,
    "start_time": "2024-04-05T14:19:42.131Z"
   },
   {
    "duration": 36,
    "start_time": "2024-04-05T14:19:42.164Z"
   },
   {
    "duration": 16,
    "start_time": "2024-04-05T14:19:42.202Z"
   },
   {
    "duration": 20,
    "start_time": "2024-04-05T14:19:42.220Z"
   },
   {
    "duration": 27,
    "start_time": "2024-04-05T14:19:42.241Z"
   },
   {
    "duration": 25,
    "start_time": "2024-04-05T14:19:42.269Z"
   },
   {
    "duration": 26,
    "start_time": "2024-04-05T14:19:42.298Z"
   },
   {
    "duration": 18,
    "start_time": "2024-04-05T14:19:42.325Z"
   },
   {
    "duration": 199,
    "start_time": "2024-04-05T14:19:42.345Z"
   },
   {
    "duration": 100,
    "start_time": "2024-04-05T14:19:42.546Z"
   },
   {
    "duration": 196,
    "start_time": "2024-04-05T14:19:42.647Z"
   },
   {
    "duration": 184,
    "start_time": "2024-04-05T14:19:42.844Z"
   },
   {
    "duration": 188,
    "start_time": "2024-04-05T14:19:43.029Z"
   },
   {
    "duration": 33,
    "start_time": "2024-04-05T14:19:43.219Z"
   },
   {
    "duration": 40,
    "start_time": "2024-04-05T14:19:43.254Z"
   },
   {
    "duration": 190,
    "start_time": "2024-04-05T14:19:43.296Z"
   },
   {
    "duration": 188,
    "start_time": "2024-04-05T14:19:43.489Z"
   },
   {
    "duration": 31,
    "start_time": "2024-04-05T14:19:43.679Z"
   },
   {
    "duration": 212,
    "start_time": "2024-04-05T14:19:43.714Z"
   },
   {
    "duration": 194,
    "start_time": "2024-04-05T14:19:43.928Z"
   },
   {
    "duration": 35,
    "start_time": "2024-04-05T14:19:44.124Z"
   },
   {
    "duration": 88,
    "start_time": "2024-04-05T14:19:44.161Z"
   },
   {
    "duration": 99,
    "start_time": "2024-04-05T14:19:44.251Z"
   },
   {
    "duration": 6,
    "start_time": "2024-04-05T14:19:44.352Z"
   },
   {
    "duration": 9,
    "start_time": "2024-04-05T14:19:44.359Z"
   },
   {
    "duration": 8,
    "start_time": "2024-04-05T14:19:44.381Z"
   },
   {
    "duration": 5,
    "start_time": "2024-04-05T14:19:44.391Z"
   },
   {
    "duration": 8,
    "start_time": "2024-04-05T14:19:44.398Z"
   },
   {
    "duration": 26,
    "start_time": "2024-04-05T14:19:44.408Z"
   },
   {
    "duration": 51,
    "start_time": "2024-04-05T14:19:44.436Z"
   },
   {
    "duration": 12,
    "start_time": "2024-04-05T14:19:44.489Z"
   },
   {
    "duration": 28,
    "start_time": "2024-04-05T14:21:06.468Z"
   },
   {
    "duration": 216,
    "start_time": "2024-04-05T14:26:51.483Z"
   },
   {
    "duration": 156,
    "start_time": "2024-04-05T14:27:02.266Z"
   },
   {
    "duration": 145,
    "start_time": "2024-04-05T14:28:37.661Z"
   },
   {
    "duration": 101,
    "start_time": "2024-04-05T14:29:22.207Z"
   },
   {
    "duration": 197,
    "start_time": "2024-04-05T14:31:02.253Z"
   },
   {
    "duration": 192,
    "start_time": "2024-04-05T14:31:31.995Z"
   },
   {
    "duration": 185,
    "start_time": "2024-04-05T14:32:01.036Z"
   },
   {
    "duration": 197,
    "start_time": "2024-04-05T14:33:00.876Z"
   },
   {
    "duration": 185,
    "start_time": "2024-04-05T14:33:17.517Z"
   },
   {
    "duration": 190,
    "start_time": "2024-04-05T14:33:47.549Z"
   },
   {
    "duration": 174,
    "start_time": "2024-04-05T14:34:04.802Z"
   },
   {
    "duration": 62,
    "start_time": "2024-04-05T14:41:23.737Z"
   },
   {
    "duration": 1227,
    "start_time": "2024-04-05T14:41:30.944Z"
   },
   {
    "duration": 77,
    "start_time": "2024-04-05T14:41:32.172Z"
   },
   {
    "duration": 12,
    "start_time": "2024-04-05T14:41:32.250Z"
   },
   {
    "duration": 12,
    "start_time": "2024-04-05T14:41:32.264Z"
   },
   {
    "duration": 23,
    "start_time": "2024-04-05T14:41:32.278Z"
   },
   {
    "duration": 11,
    "start_time": "2024-04-05T14:41:32.303Z"
   },
   {
    "duration": 6,
    "start_time": "2024-04-05T14:41:32.316Z"
   },
   {
    "duration": 25,
    "start_time": "2024-04-05T14:41:32.323Z"
   },
   {
    "duration": 24,
    "start_time": "2024-04-05T14:41:32.349Z"
   },
   {
    "duration": 16,
    "start_time": "2024-04-05T14:41:32.375Z"
   },
   {
    "duration": 6,
    "start_time": "2024-04-05T14:41:32.393Z"
   },
   {
    "duration": 8,
    "start_time": "2024-04-05T14:41:32.401Z"
   },
   {
    "duration": 11,
    "start_time": "2024-04-05T14:41:32.410Z"
   },
   {
    "duration": 11,
    "start_time": "2024-04-05T14:41:32.423Z"
   },
   {
    "duration": 17,
    "start_time": "2024-04-05T14:41:32.436Z"
   },
   {
    "duration": 8,
    "start_time": "2024-04-05T14:41:32.455Z"
   },
   {
    "duration": 10,
    "start_time": "2024-04-05T14:41:32.483Z"
   },
   {
    "duration": 185,
    "start_time": "2024-04-05T14:41:32.496Z"
   },
   {
    "duration": 112,
    "start_time": "2024-04-05T14:41:32.685Z"
   },
   {
    "duration": 201,
    "start_time": "2024-04-05T14:41:32.799Z"
   },
   {
    "duration": 191,
    "start_time": "2024-04-05T14:41:33.001Z"
   },
   {
    "duration": 196,
    "start_time": "2024-04-05T14:41:33.194Z"
   },
   {
    "duration": 37,
    "start_time": "2024-04-05T14:41:33.395Z"
   },
   {
    "duration": 22,
    "start_time": "2024-04-05T14:41:33.433Z"
   },
   {
    "duration": 214,
    "start_time": "2024-04-05T14:41:33.456Z"
   },
   {
    "duration": 199,
    "start_time": "2024-04-05T14:41:33.671Z"
   },
   {
    "duration": 39,
    "start_time": "2024-04-05T14:41:33.872Z"
   },
   {
    "duration": 188,
    "start_time": "2024-04-05T14:41:33.914Z"
   },
   {
    "duration": 208,
    "start_time": "2024-04-05T14:41:34.103Z"
   },
   {
    "duration": 33,
    "start_time": "2024-04-05T14:41:34.313Z"
   },
   {
    "duration": 94,
    "start_time": "2024-04-05T14:41:34.348Z"
   },
   {
    "duration": 110,
    "start_time": "2024-04-05T14:41:34.443Z"
   },
   {
    "duration": 6,
    "start_time": "2024-04-05T14:41:34.554Z"
   },
   {
    "duration": 33,
    "start_time": "2024-04-05T14:41:34.562Z"
   },
   {
    "duration": 8,
    "start_time": "2024-04-05T14:41:34.598Z"
   },
   {
    "duration": 5,
    "start_time": "2024-04-05T14:41:34.608Z"
   },
   {
    "duration": 9,
    "start_time": "2024-04-05T14:41:34.614Z"
   },
   {
    "duration": 33,
    "start_time": "2024-04-05T14:41:34.625Z"
   },
   {
    "duration": 43,
    "start_time": "2024-04-05T14:41:34.660Z"
   },
   {
    "duration": 12,
    "start_time": "2024-04-05T14:41:34.705Z"
   },
   {
    "duration": 8,
    "start_time": "2024-04-05T15:25:46.053Z"
   },
   {
    "duration": 7,
    "start_time": "2024-04-05T15:26:00.834Z"
   },
   {
    "duration": 6,
    "start_time": "2024-04-05T15:31:45.031Z"
   },
   {
    "duration": 11,
    "start_time": "2024-04-05T15:35:22.092Z"
   },
   {
    "duration": 77,
    "start_time": "2024-04-05T16:05:13.336Z"
   },
   {
    "duration": 22,
    "start_time": "2024-04-05T16:05:15.808Z"
   },
   {
    "duration": 48,
    "start_time": "2024-04-05T16:05:30.521Z"
   },
   {
    "duration": 30,
    "start_time": "2024-04-05T16:05:34.397Z"
   },
   {
    "duration": 26,
    "start_time": "2024-04-05T16:07:42.280Z"
   },
   {
    "duration": 1240,
    "start_time": "2024-04-06T08:35:06.814Z"
   },
   {
    "duration": 340,
    "start_time": "2024-04-06T08:35:08.056Z"
   },
   {
    "duration": 11,
    "start_time": "2024-04-06T08:35:08.397Z"
   },
   {
    "duration": 15,
    "start_time": "2024-04-06T08:35:08.409Z"
   },
   {
    "duration": 17,
    "start_time": "2024-04-06T08:35:08.425Z"
   },
   {
    "duration": 27,
    "start_time": "2024-04-06T08:35:08.443Z"
   },
   {
    "duration": 10,
    "start_time": "2024-04-06T08:35:08.472Z"
   },
   {
    "duration": 25,
    "start_time": "2024-04-06T08:35:08.483Z"
   },
   {
    "duration": 27,
    "start_time": "2024-04-06T08:35:08.510Z"
   },
   {
    "duration": 22,
    "start_time": "2024-04-06T08:35:08.539Z"
   },
   {
    "duration": 23,
    "start_time": "2024-04-06T08:35:08.563Z"
   },
   {
    "duration": 39,
    "start_time": "2024-04-06T08:35:08.587Z"
   },
   {
    "duration": 22,
    "start_time": "2024-04-06T08:35:08.628Z"
   },
   {
    "duration": 18,
    "start_time": "2024-04-06T08:35:08.651Z"
   },
   {
    "duration": 26,
    "start_time": "2024-04-06T08:35:08.670Z"
   },
   {
    "duration": 7,
    "start_time": "2024-04-06T08:35:08.697Z"
   },
   {
    "duration": 21,
    "start_time": "2024-04-06T08:35:08.705Z"
   },
   {
    "duration": 157,
    "start_time": "2024-04-06T08:35:08.727Z"
   },
   {
    "duration": 84,
    "start_time": "2024-04-06T08:35:08.886Z"
   },
   {
    "duration": 169,
    "start_time": "2024-04-06T08:35:08.972Z"
   },
   {
    "duration": 166,
    "start_time": "2024-04-06T08:35:09.143Z"
   },
   {
    "duration": 155,
    "start_time": "2024-04-06T08:35:09.310Z"
   },
   {
    "duration": 47,
    "start_time": "2024-04-06T08:35:09.466Z"
   },
   {
    "duration": 24,
    "start_time": "2024-04-06T08:35:09.515Z"
   },
   {
    "duration": 182,
    "start_time": "2024-04-06T08:35:09.541Z"
   },
   {
    "duration": 165,
    "start_time": "2024-04-06T08:35:09.724Z"
   },
   {
    "duration": 19,
    "start_time": "2024-04-06T08:35:09.893Z"
   },
   {
    "duration": 160,
    "start_time": "2024-04-06T08:35:09.915Z"
   },
   {
    "duration": 161,
    "start_time": "2024-04-06T08:35:10.076Z"
   },
   {
    "duration": 31,
    "start_time": "2024-04-06T08:35:10.238Z"
   },
   {
    "duration": 84,
    "start_time": "2024-04-06T08:35:10.270Z"
   },
   {
    "duration": 85,
    "start_time": "2024-04-06T08:35:10.355Z"
   },
   {
    "duration": 18,
    "start_time": "2024-04-06T08:35:10.442Z"
   },
   {
    "duration": 5,
    "start_time": "2024-04-06T08:35:10.461Z"
   },
   {
    "duration": 20,
    "start_time": "2024-04-06T08:35:10.468Z"
   },
   {
    "duration": 18,
    "start_time": "2024-04-06T08:35:10.494Z"
   },
   {
    "duration": 68,
    "start_time": "2024-04-06T08:35:10.513Z"
   },
   {
    "duration": 15,
    "start_time": "2024-04-06T08:35:10.582Z"
   },
   {
    "duration": 37,
    "start_time": "2024-04-06T08:35:10.598Z"
   },
   {
    "duration": 18,
    "start_time": "2024-04-06T08:35:10.637Z"
   },
   {
    "duration": 7,
    "start_time": "2024-04-06T08:35:10.656Z"
   },
   {
    "duration": 1076,
    "start_time": "2024-04-06T08:57:00.168Z"
   },
   {
    "duration": 74,
    "start_time": "2024-04-06T08:57:01.246Z"
   },
   {
    "duration": 12,
    "start_time": "2024-04-06T08:57:01.321Z"
   },
   {
    "duration": 98,
    "start_time": "2024-04-06T08:57:01.335Z"
   },
   {
    "duration": 121,
    "start_time": "2024-04-06T08:57:01.435Z"
   },
   {
    "duration": 102,
    "start_time": "2024-04-06T08:57:01.558Z"
   },
   {
    "duration": 64,
    "start_time": "2024-04-06T08:57:01.662Z"
   },
   {
    "duration": 57,
    "start_time": "2024-04-06T08:57:01.728Z"
   },
   {
    "duration": 109,
    "start_time": "2024-04-06T08:57:01.787Z"
   },
   {
    "duration": 110,
    "start_time": "2024-04-06T08:57:01.899Z"
   },
   {
    "duration": 52,
    "start_time": "2024-04-06T08:57:02.010Z"
   },
   {
    "duration": 81,
    "start_time": "2024-04-06T08:57:02.064Z"
   },
   {
    "duration": 95,
    "start_time": "2024-04-06T08:57:02.146Z"
   },
   {
    "duration": 82,
    "start_time": "2024-04-06T08:57:02.242Z"
   },
   {
    "duration": 164,
    "start_time": "2024-04-06T08:57:02.326Z"
   },
   {
    "duration": 70,
    "start_time": "2024-04-06T08:57:02.492Z"
   },
   {
    "duration": 14,
    "start_time": "2024-04-06T08:57:02.563Z"
   },
   {
    "duration": 149,
    "start_time": "2024-04-06T08:57:02.578Z"
   },
   {
    "duration": 85,
    "start_time": "2024-04-06T08:57:02.729Z"
   },
   {
    "duration": 159,
    "start_time": "2024-04-06T08:57:02.816Z"
   },
   {
    "duration": 157,
    "start_time": "2024-04-06T08:57:02.977Z"
   },
   {
    "duration": 165,
    "start_time": "2024-04-06T08:57:03.136Z"
   },
   {
    "duration": 32,
    "start_time": "2024-04-06T08:57:03.302Z"
   },
   {
    "duration": 20,
    "start_time": "2024-04-06T08:57:03.335Z"
   },
   {
    "duration": 181,
    "start_time": "2024-04-06T08:57:03.356Z"
   },
   {
    "duration": 163,
    "start_time": "2024-04-06T08:57:03.538Z"
   },
   {
    "duration": 18,
    "start_time": "2024-04-06T08:57:03.702Z"
   },
   {
    "duration": 184,
    "start_time": "2024-04-06T08:57:03.722Z"
   },
   {
    "duration": 154,
    "start_time": "2024-04-06T08:57:03.907Z"
   },
   {
    "duration": 36,
    "start_time": "2024-04-06T08:57:04.063Z"
   },
   {
    "duration": 67,
    "start_time": "2024-04-06T08:57:04.100Z"
   },
   {
    "duration": 94,
    "start_time": "2024-04-06T08:57:04.168Z"
   },
   {
    "duration": 17,
    "start_time": "2024-04-06T08:57:04.263Z"
   },
   {
    "duration": 22,
    "start_time": "2024-04-06T08:57:04.281Z"
   },
   {
    "duration": 59,
    "start_time": "2024-04-06T08:57:04.305Z"
   },
   {
    "duration": 67,
    "start_time": "2024-04-06T08:57:04.366Z"
   },
   {
    "duration": 19,
    "start_time": "2024-04-06T08:57:04.434Z"
   },
   {
    "duration": 39,
    "start_time": "2024-04-06T08:57:04.455Z"
   },
   {
    "duration": 28,
    "start_time": "2024-04-06T08:57:04.496Z"
   },
   {
    "duration": 14,
    "start_time": "2024-04-06T08:57:04.525Z"
   },
   {
    "duration": 7,
    "start_time": "2024-04-06T08:57:04.540Z"
   },
   {
    "duration": 1155,
    "start_time": "2024-04-06T19:33:00.867Z"
   },
   {
    "duration": 212,
    "start_time": "2024-04-06T19:33:02.025Z"
   },
   {
    "duration": 10,
    "start_time": "2024-04-06T19:33:02.238Z"
   },
   {
    "duration": 19,
    "start_time": "2024-04-06T19:33:02.250Z"
   },
   {
    "duration": 23,
    "start_time": "2024-04-06T19:33:02.270Z"
   },
   {
    "duration": 15,
    "start_time": "2024-04-06T19:33:02.294Z"
   },
   {
    "duration": 13,
    "start_time": "2024-04-06T19:33:02.310Z"
   },
   {
    "duration": 14,
    "start_time": "2024-04-06T19:33:02.325Z"
   },
   {
    "duration": 2,
    "start_time": "2024-04-06T19:33:02.340Z"
   },
   {
    "duration": 21,
    "start_time": "2024-04-06T19:33:02.344Z"
   },
   {
    "duration": 26,
    "start_time": "2024-04-06T19:33:02.367Z"
   },
   {
    "duration": 14,
    "start_time": "2024-04-06T19:33:02.394Z"
   },
   {
    "duration": 9,
    "start_time": "2024-04-06T19:33:02.409Z"
   },
   {
    "duration": 28,
    "start_time": "2024-04-06T19:33:02.420Z"
   },
   {
    "duration": 18,
    "start_time": "2024-04-06T19:33:02.449Z"
   },
   {
    "duration": 24,
    "start_time": "2024-04-06T19:33:02.468Z"
   },
   {
    "duration": 13,
    "start_time": "2024-04-06T19:33:02.494Z"
   },
   {
    "duration": 119,
    "start_time": "2024-04-06T19:33:02.508Z"
   },
   {
    "duration": 73,
    "start_time": "2024-04-06T19:33:02.629Z"
   },
   {
    "duration": 137,
    "start_time": "2024-04-06T19:33:02.704Z"
   },
   {
    "duration": 152,
    "start_time": "2024-04-06T19:33:02.842Z"
   },
   {
    "duration": 137,
    "start_time": "2024-04-06T19:33:02.996Z"
   },
   {
    "duration": 31,
    "start_time": "2024-04-06T19:33:03.135Z"
   },
   {
    "duration": 38,
    "start_time": "2024-04-06T19:33:03.168Z"
   },
   {
    "duration": 137,
    "start_time": "2024-04-06T19:33:03.207Z"
   },
   {
    "duration": 135,
    "start_time": "2024-04-06T19:33:03.346Z"
   },
   {
    "duration": 22,
    "start_time": "2024-04-06T19:33:03.482Z"
   },
   {
    "duration": 131,
    "start_time": "2024-04-06T19:33:03.507Z"
   },
   {
    "duration": 130,
    "start_time": "2024-04-06T19:33:03.639Z"
   },
   {
    "duration": 32,
    "start_time": "2024-04-06T19:33:03.770Z"
   },
   {
    "duration": 64,
    "start_time": "2024-04-06T19:33:03.803Z"
   },
   {
    "duration": 81,
    "start_time": "2024-04-06T19:33:03.868Z"
   },
   {
    "duration": 15,
    "start_time": "2024-04-06T19:33:03.951Z"
   },
   {
    "duration": 5,
    "start_time": "2024-04-06T19:33:03.967Z"
   },
   {
    "duration": 19,
    "start_time": "2024-04-06T19:33:03.973Z"
   },
   {
    "duration": 11,
    "start_time": "2024-04-06T19:33:03.993Z"
   },
   {
    "duration": 7,
    "start_time": "2024-04-06T19:33:04.006Z"
   },
   {
    "duration": 8,
    "start_time": "2024-04-06T19:33:04.014Z"
   },
   {
    "duration": 20,
    "start_time": "2024-04-06T19:33:04.023Z"
   },
   {
    "duration": 13,
    "start_time": "2024-04-06T19:33:04.044Z"
   },
   {
    "duration": 13,
    "start_time": "2024-04-06T19:33:04.058Z"
   },
   {
    "duration": 13,
    "start_time": "2024-04-06T19:34:06.828Z"
   },
   {
    "duration": 6,
    "start_time": "2024-04-06T19:34:18.761Z"
   },
   {
    "duration": 6,
    "start_time": "2024-04-06T19:35:11.383Z"
   },
   {
    "duration": 15,
    "start_time": "2024-04-06T19:36:11.913Z"
   },
   {
    "duration": 973,
    "start_time": "2024-04-06T19:49:16.022Z"
   },
   {
    "duration": 67,
    "start_time": "2024-04-06T19:49:16.997Z"
   },
   {
    "duration": 9,
    "start_time": "2024-04-06T19:49:17.067Z"
   },
   {
    "duration": 8,
    "start_time": "2024-04-06T19:49:17.077Z"
   },
   {
    "duration": 8,
    "start_time": "2024-04-06T19:49:17.086Z"
   },
   {
    "duration": 7,
    "start_time": "2024-04-06T19:49:17.095Z"
   },
   {
    "duration": 5,
    "start_time": "2024-04-06T19:49:17.103Z"
   },
   {
    "duration": 16,
    "start_time": "2024-04-06T19:49:17.109Z"
   },
   {
    "duration": 1,
    "start_time": "2024-04-06T19:49:17.127Z"
   },
   {
    "duration": 7,
    "start_time": "2024-04-06T19:49:17.129Z"
   },
   {
    "duration": 4,
    "start_time": "2024-04-06T19:49:17.137Z"
   },
   {
    "duration": 7,
    "start_time": "2024-04-06T19:49:17.142Z"
   },
   {
    "duration": 4,
    "start_time": "2024-04-06T19:49:17.150Z"
   },
   {
    "duration": 7,
    "start_time": "2024-04-06T19:49:17.155Z"
   },
   {
    "duration": 12,
    "start_time": "2024-04-06T19:49:17.163Z"
   },
   {
    "duration": 26,
    "start_time": "2024-04-06T19:49:17.176Z"
   },
   {
    "duration": 4,
    "start_time": "2024-04-06T19:49:17.203Z"
   },
   {
    "duration": 128,
    "start_time": "2024-04-06T19:49:17.208Z"
   },
   {
    "duration": 73,
    "start_time": "2024-04-06T19:49:17.337Z"
   },
   {
    "duration": 134,
    "start_time": "2024-04-06T19:49:17.412Z"
   },
   {
    "duration": 138,
    "start_time": "2024-04-06T19:49:17.548Z"
   },
   {
    "duration": 132,
    "start_time": "2024-04-06T19:49:17.687Z"
   },
   {
    "duration": 26,
    "start_time": "2024-04-06T19:49:17.820Z"
   },
   {
    "duration": 17,
    "start_time": "2024-04-06T19:49:17.847Z"
   },
   {
    "duration": 145,
    "start_time": "2024-04-06T19:49:17.865Z"
   },
   {
    "duration": 142,
    "start_time": "2024-04-06T19:49:18.011Z"
   },
   {
    "duration": 15,
    "start_time": "2024-04-06T19:49:18.156Z"
   },
   {
    "duration": 144,
    "start_time": "2024-04-06T19:49:18.173Z"
   },
   {
    "duration": 136,
    "start_time": "2024-04-06T19:49:18.318Z"
   },
   {
    "duration": 26,
    "start_time": "2024-04-06T19:49:18.456Z"
   },
   {
    "duration": 74,
    "start_time": "2024-04-06T19:49:18.483Z"
   },
   {
    "duration": 72,
    "start_time": "2024-04-06T19:49:18.558Z"
   },
   {
    "duration": 14,
    "start_time": "2024-04-06T19:49:18.631Z"
   },
   {
    "duration": 11,
    "start_time": "2024-04-06T19:49:18.646Z"
   },
   {
    "duration": 4,
    "start_time": "2024-04-06T19:49:18.658Z"
   },
   {
    "duration": 11,
    "start_time": "2024-04-06T19:49:18.663Z"
   },
   {
    "duration": 13,
    "start_time": "2024-04-06T19:49:18.675Z"
   },
   {
    "duration": 13,
    "start_time": "2024-04-06T19:49:18.689Z"
   },
   {
    "duration": 10,
    "start_time": "2024-04-06T19:49:18.703Z"
   },
   {
    "duration": 21,
    "start_time": "2024-04-06T19:49:18.714Z"
   },
   {
    "duration": 11,
    "start_time": "2024-04-06T19:49:18.736Z"
   },
   {
    "duration": 6,
    "start_time": "2024-04-06T19:49:18.748Z"
   },
   {
    "duration": 14,
    "start_time": "2024-04-06T19:52:54.949Z"
   },
   {
    "duration": 42,
    "start_time": "2024-04-06T20:26:30.927Z"
   },
   {
    "duration": 1136,
    "start_time": "2024-04-06T20:26:37.812Z"
   },
   {
    "duration": 295,
    "start_time": "2024-04-06T20:26:38.949Z"
   },
   {
    "duration": 9,
    "start_time": "2024-04-06T20:26:39.246Z"
   },
   {
    "duration": 36,
    "start_time": "2024-04-06T20:26:39.259Z"
   },
   {
    "duration": 37,
    "start_time": "2024-04-06T20:26:39.297Z"
   },
   {
    "duration": 31,
    "start_time": "2024-04-06T20:26:39.336Z"
   },
   {
    "duration": 14,
    "start_time": "2024-04-06T20:26:39.368Z"
   },
   {
    "duration": 28,
    "start_time": "2024-04-06T20:26:39.383Z"
   },
   {
    "duration": 17,
    "start_time": "2024-04-06T20:26:39.412Z"
   },
   {
    "duration": 33,
    "start_time": "2024-04-06T20:26:39.432Z"
   },
   {
    "duration": 12,
    "start_time": "2024-04-06T20:26:39.467Z"
   },
   {
    "duration": 21,
    "start_time": "2024-04-06T20:26:39.481Z"
   },
   {
    "duration": 15,
    "start_time": "2024-04-06T20:26:39.504Z"
   },
   {
    "duration": 28,
    "start_time": "2024-04-06T20:26:39.520Z"
   },
   {
    "duration": 31,
    "start_time": "2024-04-06T20:26:39.550Z"
   },
   {
    "duration": 25,
    "start_time": "2024-04-06T20:26:39.582Z"
   },
   {
    "duration": 12,
    "start_time": "2024-04-06T20:26:39.608Z"
   },
   {
    "duration": 134,
    "start_time": "2024-04-06T20:26:39.621Z"
   },
   {
    "duration": 79,
    "start_time": "2024-04-06T20:26:39.757Z"
   },
   {
    "duration": 151,
    "start_time": "2024-04-06T20:26:39.838Z"
   },
   {
    "duration": 146,
    "start_time": "2024-04-06T20:26:39.990Z"
   },
   {
    "duration": 162,
    "start_time": "2024-04-06T20:26:40.138Z"
   },
   {
    "duration": 30,
    "start_time": "2024-04-06T20:26:40.301Z"
   },
   {
    "duration": 20,
    "start_time": "2024-04-06T20:26:40.335Z"
   },
   {
    "duration": 166,
    "start_time": "2024-04-06T20:26:40.357Z"
   },
   {
    "duration": 157,
    "start_time": "2024-04-06T20:26:40.525Z"
   },
   {
    "duration": 23,
    "start_time": "2024-04-06T20:26:40.683Z"
   },
   {
    "duration": 141,
    "start_time": "2024-04-06T20:26:40.709Z"
   },
   {
    "duration": 148,
    "start_time": "2024-04-06T20:26:40.851Z"
   },
   {
    "duration": 28,
    "start_time": "2024-04-06T20:26:41.001Z"
   },
   {
    "duration": 78,
    "start_time": "2024-04-06T20:26:41.030Z"
   },
   {
    "duration": 70,
    "start_time": "2024-04-06T20:26:41.110Z"
   },
   {
    "duration": 24,
    "start_time": "2024-04-06T20:26:41.181Z"
   },
   {
    "duration": 12,
    "start_time": "2024-04-06T20:26:41.207Z"
   },
   {
    "duration": 8,
    "start_time": "2024-04-06T20:26:41.220Z"
   },
   {
    "duration": 15,
    "start_time": "2024-04-06T20:26:41.229Z"
   },
   {
    "duration": 9,
    "start_time": "2024-04-06T20:26:41.245Z"
   },
   {
    "duration": 16,
    "start_time": "2024-04-06T20:26:41.256Z"
   },
   {
    "duration": 13,
    "start_time": "2024-04-06T20:26:41.273Z"
   },
   {
    "duration": 30,
    "start_time": "2024-04-06T20:26:41.287Z"
   },
   {
    "duration": 14,
    "start_time": "2024-04-06T20:26:41.318Z"
   },
   {
    "duration": 7,
    "start_time": "2024-04-06T20:26:41.334Z"
   },
   {
    "duration": 16,
    "start_time": "2024-04-06T20:38:42.719Z"
   },
   {
    "duration": 1416,
    "start_time": "2024-04-06T20:39:05.900Z"
   },
   {
    "duration": 16,
    "start_time": "2024-04-06T20:39:41.262Z"
   },
   {
    "duration": 1021,
    "start_time": "2024-04-06T20:40:02.112Z"
   },
   {
    "duration": 83,
    "start_time": "2024-04-06T20:40:03.134Z"
   },
   {
    "duration": 15,
    "start_time": "2024-04-06T20:40:03.219Z"
   },
   {
    "duration": 70,
    "start_time": "2024-04-06T20:40:03.235Z"
   },
   {
    "duration": 92,
    "start_time": "2024-04-06T20:40:03.306Z"
   },
   {
    "duration": 141,
    "start_time": "2024-04-06T20:40:03.400Z"
   },
   {
    "duration": 40,
    "start_time": "2024-04-06T20:40:03.543Z"
   },
   {
    "duration": 30,
    "start_time": "2024-04-06T20:40:03.585Z"
   },
   {
    "duration": 188,
    "start_time": "2024-04-06T20:40:03.616Z"
   },
   {
    "duration": 112,
    "start_time": "2024-04-06T20:40:03.807Z"
   },
   {
    "duration": 52,
    "start_time": "2024-04-06T20:40:03.920Z"
   },
   {
    "duration": 19,
    "start_time": "2024-04-06T20:40:03.974Z"
   },
   {
    "duration": 25,
    "start_time": "2024-04-06T20:40:03.994Z"
   },
   {
    "duration": 37,
    "start_time": "2024-04-06T20:40:04.020Z"
   },
   {
    "duration": 25,
    "start_time": "2024-04-06T20:40:04.058Z"
   },
   {
    "duration": 35,
    "start_time": "2024-04-06T20:40:04.085Z"
   },
   {
    "duration": 26,
    "start_time": "2024-04-06T20:40:04.122Z"
   },
   {
    "duration": 168,
    "start_time": "2024-04-06T20:40:04.150Z"
   },
   {
    "duration": 89,
    "start_time": "2024-04-06T20:40:04.319Z"
   },
   {
    "duration": 187,
    "start_time": "2024-04-06T20:40:04.410Z"
   },
   {
    "duration": 151,
    "start_time": "2024-04-06T20:40:04.599Z"
   },
   {
    "duration": 147,
    "start_time": "2024-04-06T20:40:04.752Z"
   },
   {
    "duration": 31,
    "start_time": "2024-04-06T20:40:04.900Z"
   },
   {
    "duration": 41,
    "start_time": "2024-04-06T20:40:04.932Z"
   },
   {
    "duration": 158,
    "start_time": "2024-04-06T20:40:04.975Z"
   },
   {
    "duration": 153,
    "start_time": "2024-04-06T20:40:05.134Z"
   },
   {
    "duration": 19,
    "start_time": "2024-04-06T20:40:05.288Z"
   },
   {
    "duration": 158,
    "start_time": "2024-04-06T20:40:05.310Z"
   },
   {
    "duration": 145,
    "start_time": "2024-04-06T20:40:05.469Z"
   },
   {
    "duration": 28,
    "start_time": "2024-04-06T20:40:05.615Z"
   },
   {
    "duration": 26,
    "start_time": "2024-04-06T20:40:05.644Z"
   },
   {
    "duration": 2,
    "start_time": "2024-04-06T20:40:05.671Z"
   },
   {
    "duration": 85,
    "start_time": "2024-04-06T20:40:05.674Z"
   },
   {
    "duration": 93,
    "start_time": "2024-04-06T20:40:05.760Z"
   },
   {
    "duration": 0,
    "start_time": "2024-04-06T20:40:05.854Z"
   },
   {
    "duration": 0,
    "start_time": "2024-04-06T20:40:05.855Z"
   },
   {
    "duration": 0,
    "start_time": "2024-04-06T20:40:05.856Z"
   },
   {
    "duration": 0,
    "start_time": "2024-04-06T20:40:05.857Z"
   },
   {
    "duration": 0,
    "start_time": "2024-04-06T20:40:05.858Z"
   },
   {
    "duration": 0,
    "start_time": "2024-04-06T20:40:05.859Z"
   },
   {
    "duration": 0,
    "start_time": "2024-04-06T20:40:05.860Z"
   },
   {
    "duration": 0,
    "start_time": "2024-04-06T20:40:05.861Z"
   },
   {
    "duration": 1,
    "start_time": "2024-04-06T20:40:05.861Z"
   },
   {
    "duration": 1045,
    "start_time": "2024-04-06T20:41:02.482Z"
   },
   {
    "duration": 70,
    "start_time": "2024-04-06T20:41:03.528Z"
   },
   {
    "duration": 10,
    "start_time": "2024-04-06T20:41:03.599Z"
   },
   {
    "duration": 59,
    "start_time": "2024-04-06T20:41:03.611Z"
   },
   {
    "duration": 45,
    "start_time": "2024-04-06T20:41:03.671Z"
   },
   {
    "duration": 44,
    "start_time": "2024-04-06T20:41:03.718Z"
   },
   {
    "duration": 61,
    "start_time": "2024-04-06T20:41:03.764Z"
   },
   {
    "duration": 87,
    "start_time": "2024-04-06T20:41:03.827Z"
   },
   {
    "duration": 25,
    "start_time": "2024-04-06T20:41:03.917Z"
   },
   {
    "duration": 38,
    "start_time": "2024-04-06T20:41:03.945Z"
   },
   {
    "duration": 40,
    "start_time": "2024-04-06T20:41:03.984Z"
   },
   {
    "duration": 72,
    "start_time": "2024-04-06T20:41:04.026Z"
   },
   {
    "duration": 42,
    "start_time": "2024-04-06T20:41:04.100Z"
   },
   {
    "duration": 41,
    "start_time": "2024-04-06T20:41:04.144Z"
   },
   {
    "duration": 35,
    "start_time": "2024-04-06T20:41:04.187Z"
   },
   {
    "duration": 34,
    "start_time": "2024-04-06T20:41:04.224Z"
   },
   {
    "duration": 50,
    "start_time": "2024-04-06T20:41:04.259Z"
   },
   {
    "duration": 203,
    "start_time": "2024-04-06T20:41:04.311Z"
   },
   {
    "duration": 79,
    "start_time": "2024-04-06T20:41:04.516Z"
   },
   {
    "duration": 153,
    "start_time": "2024-04-06T20:41:04.597Z"
   },
   {
    "duration": 150,
    "start_time": "2024-04-06T20:41:04.752Z"
   },
   {
    "duration": 172,
    "start_time": "2024-04-06T20:41:04.904Z"
   },
   {
    "duration": 36,
    "start_time": "2024-04-06T20:41:05.078Z"
   },
   {
    "duration": 154,
    "start_time": "2024-04-06T20:41:05.115Z"
   },
   {
    "duration": 171,
    "start_time": "2024-04-06T20:41:05.270Z"
   },
   {
    "duration": 166,
    "start_time": "2024-04-06T20:41:05.442Z"
   },
   {
    "duration": 18,
    "start_time": "2024-04-06T20:41:05.610Z"
   },
   {
    "duration": 156,
    "start_time": "2024-04-06T20:41:05.631Z"
   },
   {
    "duration": 160,
    "start_time": "2024-04-06T20:41:05.788Z"
   },
   {
    "duration": 29,
    "start_time": "2024-04-06T20:41:05.950Z"
   },
   {
    "duration": 46,
    "start_time": "2024-04-06T20:41:05.980Z"
   },
   {
    "duration": 21,
    "start_time": "2024-04-06T20:41:06.027Z"
   },
   {
    "duration": 130,
    "start_time": "2024-04-06T20:41:06.050Z"
   },
   {
    "duration": 84,
    "start_time": "2024-04-06T20:41:06.181Z"
   },
   {
    "duration": 0,
    "start_time": "2024-04-06T20:41:06.267Z"
   },
   {
    "duration": 0,
    "start_time": "2024-04-06T20:41:06.269Z"
   },
   {
    "duration": 0,
    "start_time": "2024-04-06T20:41:06.270Z"
   },
   {
    "duration": 0,
    "start_time": "2024-04-06T20:41:06.271Z"
   },
   {
    "duration": 0,
    "start_time": "2024-04-06T20:41:06.273Z"
   },
   {
    "duration": 0,
    "start_time": "2024-04-06T20:41:06.274Z"
   },
   {
    "duration": 0,
    "start_time": "2024-04-06T20:41:06.275Z"
   },
   {
    "duration": 0,
    "start_time": "2024-04-06T20:41:06.276Z"
   },
   {
    "duration": 0,
    "start_time": "2024-04-06T20:41:06.278Z"
   },
   {
    "duration": 2,
    "start_time": "2024-04-06T20:41:33.934Z"
   },
   {
    "duration": 991,
    "start_time": "2024-04-06T20:47:39.627Z"
   },
   {
    "duration": 67,
    "start_time": "2024-04-06T20:47:40.619Z"
   },
   {
    "duration": 10,
    "start_time": "2024-04-06T20:47:40.688Z"
   },
   {
    "duration": 37,
    "start_time": "2024-04-06T20:47:40.699Z"
   },
   {
    "duration": 38,
    "start_time": "2024-04-06T20:47:40.737Z"
   },
   {
    "duration": 26,
    "start_time": "2024-04-06T20:47:40.776Z"
   },
   {
    "duration": 23,
    "start_time": "2024-04-06T20:47:40.803Z"
   },
   {
    "duration": 35,
    "start_time": "2024-04-06T20:47:40.827Z"
   },
   {
    "duration": 27,
    "start_time": "2024-04-06T20:47:40.863Z"
   },
   {
    "duration": 31,
    "start_time": "2024-04-06T20:47:40.892Z"
   },
   {
    "duration": 34,
    "start_time": "2024-04-06T20:47:40.925Z"
   },
   {
    "duration": 16,
    "start_time": "2024-04-06T20:47:40.961Z"
   },
   {
    "duration": 23,
    "start_time": "2024-04-06T20:47:40.978Z"
   },
   {
    "duration": 16,
    "start_time": "2024-04-06T20:47:41.003Z"
   },
   {
    "duration": 39,
    "start_time": "2024-04-06T20:47:41.020Z"
   },
   {
    "duration": 40,
    "start_time": "2024-04-06T20:47:41.060Z"
   },
   {
    "duration": 14,
    "start_time": "2024-04-06T20:47:41.102Z"
   },
   {
    "duration": 144,
    "start_time": "2024-04-06T20:47:41.118Z"
   },
   {
    "duration": 92,
    "start_time": "2024-04-06T20:47:41.263Z"
   },
   {
    "duration": 162,
    "start_time": "2024-04-06T20:47:41.357Z"
   },
   {
    "duration": 143,
    "start_time": "2024-04-06T20:47:41.521Z"
   },
   {
    "duration": 142,
    "start_time": "2024-04-06T20:47:41.666Z"
   },
   {
    "duration": 28,
    "start_time": "2024-04-06T20:47:41.809Z"
   },
   {
    "duration": 38,
    "start_time": "2024-04-06T20:47:41.838Z"
   },
   {
    "duration": 162,
    "start_time": "2024-04-06T20:47:41.877Z"
   },
   {
    "duration": 144,
    "start_time": "2024-04-06T20:47:42.040Z"
   },
   {
    "duration": 17,
    "start_time": "2024-04-06T20:47:42.193Z"
   },
   {
    "duration": 154,
    "start_time": "2024-04-06T20:47:42.213Z"
   },
   {
    "duration": 143,
    "start_time": "2024-04-06T20:47:42.368Z"
   },
   {
    "duration": 28,
    "start_time": "2024-04-06T20:47:42.512Z"
   },
   {
    "duration": 24,
    "start_time": "2024-04-06T20:47:42.541Z"
   },
   {
    "duration": 3,
    "start_time": "2024-04-06T20:47:42.566Z"
   },
   {
    "duration": 124,
    "start_time": "2024-04-06T20:47:42.570Z"
   },
   {
    "duration": 2,
    "start_time": "2024-04-06T20:47:42.696Z"
   },
   {
    "duration": 30,
    "start_time": "2024-04-06T20:47:42.699Z"
   },
   {
    "duration": 26,
    "start_time": "2024-04-06T20:47:42.730Z"
   },
   {
    "duration": 26,
    "start_time": "2024-04-06T20:47:42.757Z"
   },
   {
    "duration": 56,
    "start_time": "2024-04-06T20:47:42.784Z"
   },
   {
    "duration": 24,
    "start_time": "2024-04-06T20:47:42.841Z"
   },
   {
    "duration": 1471,
    "start_time": "2024-04-06T20:47:42.866Z"
   },
   {
    "duration": 0,
    "start_time": "2024-04-06T20:47:44.338Z"
   },
   {
    "duration": 0,
    "start_time": "2024-04-06T20:47:44.339Z"
   },
   {
    "duration": 18,
    "start_time": "2024-04-06T20:49:43.549Z"
   },
   {
    "duration": 1009,
    "start_time": "2024-04-06T20:49:57.811Z"
   },
   {
    "duration": 67,
    "start_time": "2024-04-06T20:49:58.821Z"
   },
   {
    "duration": 10,
    "start_time": "2024-04-06T20:49:58.889Z"
   },
   {
    "duration": 21,
    "start_time": "2024-04-06T20:49:58.901Z"
   },
   {
    "duration": 12,
    "start_time": "2024-04-06T20:49:58.923Z"
   },
   {
    "duration": 21,
    "start_time": "2024-04-06T20:49:58.936Z"
   },
   {
    "duration": 13,
    "start_time": "2024-04-06T20:49:58.958Z"
   },
   {
    "duration": 10,
    "start_time": "2024-04-06T20:49:58.973Z"
   },
   {
    "duration": 11,
    "start_time": "2024-04-06T20:49:58.985Z"
   },
   {
    "duration": 12,
    "start_time": "2024-04-06T20:49:58.999Z"
   },
   {
    "duration": 10,
    "start_time": "2024-04-06T20:49:59.012Z"
   },
   {
    "duration": 7,
    "start_time": "2024-04-06T20:49:59.023Z"
   },
   {
    "duration": 9,
    "start_time": "2024-04-06T20:49:59.031Z"
   },
   {
    "duration": 31,
    "start_time": "2024-04-06T20:49:59.041Z"
   },
   {
    "duration": 18,
    "start_time": "2024-04-06T20:49:59.074Z"
   },
   {
    "duration": 11,
    "start_time": "2024-04-06T20:49:59.093Z"
   },
   {
    "duration": 18,
    "start_time": "2024-04-06T20:49:59.105Z"
   },
   {
    "duration": 131,
    "start_time": "2024-04-06T20:49:59.125Z"
   },
   {
    "duration": 84,
    "start_time": "2024-04-06T20:49:59.257Z"
   },
   {
    "duration": 157,
    "start_time": "2024-04-06T20:49:59.343Z"
   },
   {
    "duration": 143,
    "start_time": "2024-04-06T20:49:59.501Z"
   },
   {
    "duration": 153,
    "start_time": "2024-04-06T20:49:59.645Z"
   },
   {
    "duration": 30,
    "start_time": "2024-04-06T20:49:59.799Z"
   },
   {
    "duration": 68,
    "start_time": "2024-04-06T20:49:59.830Z"
   },
   {
    "duration": 175,
    "start_time": "2024-04-06T20:49:59.899Z"
   },
   {
    "duration": 146,
    "start_time": "2024-04-06T20:50:00.075Z"
   },
   {
    "duration": 333,
    "start_time": "2024-04-06T20:50:00.223Z"
   },
   {
    "duration": 419,
    "start_time": "2024-04-06T20:50:00.559Z"
   },
   {
    "duration": 141,
    "start_time": "2024-04-06T20:50:00.980Z"
   },
   {
    "duration": 28,
    "start_time": "2024-04-06T20:50:01.123Z"
   },
   {
    "duration": 319,
    "start_time": "2024-04-06T20:50:01.153Z"
   },
   {
    "duration": 2,
    "start_time": "2024-04-06T20:50:01.473Z"
   },
   {
    "duration": 76,
    "start_time": "2024-04-06T20:50:01.477Z"
   },
   {
    "duration": 36,
    "start_time": "2024-04-06T20:50:01.555Z"
   },
   {
    "duration": 41,
    "start_time": "2024-04-06T20:50:01.592Z"
   },
   {
    "duration": 106,
    "start_time": "2024-04-06T20:50:01.635Z"
   },
   {
    "duration": 106,
    "start_time": "2024-04-06T20:50:01.742Z"
   },
   {
    "duration": 78,
    "start_time": "2024-04-06T20:50:01.849Z"
   },
   {
    "duration": 52,
    "start_time": "2024-04-06T20:50:01.929Z"
   },
   {
    "duration": 57,
    "start_time": "2024-04-06T20:50:01.982Z"
   },
   {
    "duration": 1658,
    "start_time": "2024-04-06T20:50:02.041Z"
   },
   {
    "duration": 0,
    "start_time": "2024-04-06T20:50:03.700Z"
   },
   {
    "duration": 8,
    "start_time": "2024-04-06T20:50:44.297Z"
   },
   {
    "duration": 7,
    "start_time": "2024-04-06T20:50:48.322Z"
   },
   {
    "duration": 1073,
    "start_time": "2024-04-06T20:51:03.967Z"
   },
   {
    "duration": 67,
    "start_time": "2024-04-06T20:51:05.042Z"
   },
   {
    "duration": 10,
    "start_time": "2024-04-06T20:51:05.111Z"
   },
   {
    "duration": 51,
    "start_time": "2024-04-06T20:51:05.123Z"
   },
   {
    "duration": 47,
    "start_time": "2024-04-06T20:51:05.175Z"
   },
   {
    "duration": 68,
    "start_time": "2024-04-06T20:51:05.223Z"
   },
   {
    "duration": 29,
    "start_time": "2024-04-06T20:51:05.292Z"
   },
   {
    "duration": 36,
    "start_time": "2024-04-06T20:51:05.322Z"
   },
   {
    "duration": 34,
    "start_time": "2024-04-06T20:51:05.360Z"
   },
   {
    "duration": 29,
    "start_time": "2024-04-06T20:51:05.397Z"
   },
   {
    "duration": 47,
    "start_time": "2024-04-06T20:51:05.427Z"
   },
   {
    "duration": 43,
    "start_time": "2024-04-06T20:51:05.476Z"
   },
   {
    "duration": 22,
    "start_time": "2024-04-06T20:51:05.520Z"
   },
   {
    "duration": 31,
    "start_time": "2024-04-06T20:51:05.544Z"
   },
   {
    "duration": 60,
    "start_time": "2024-04-06T20:51:05.577Z"
   },
   {
    "duration": 36,
    "start_time": "2024-04-06T20:51:05.639Z"
   },
   {
    "duration": 23,
    "start_time": "2024-04-06T20:51:05.677Z"
   },
   {
    "duration": 131,
    "start_time": "2024-04-06T20:51:05.701Z"
   },
   {
    "duration": 83,
    "start_time": "2024-04-06T20:51:05.833Z"
   },
   {
    "duration": 162,
    "start_time": "2024-04-06T20:51:05.918Z"
   },
   {
    "duration": 159,
    "start_time": "2024-04-06T20:51:06.082Z"
   },
   {
    "duration": 146,
    "start_time": "2024-04-06T20:51:06.243Z"
   },
   {
    "duration": 28,
    "start_time": "2024-04-06T20:51:06.393Z"
   },
   {
    "duration": 21,
    "start_time": "2024-04-06T20:51:06.423Z"
   },
   {
    "duration": 167,
    "start_time": "2024-04-06T20:51:06.446Z"
   },
   {
    "duration": 162,
    "start_time": "2024-04-06T20:51:06.615Z"
   },
   {
    "duration": 25,
    "start_time": "2024-04-06T20:51:06.779Z"
   },
   {
    "duration": 144,
    "start_time": "2024-04-06T20:51:06.807Z"
   },
   {
    "duration": 149,
    "start_time": "2024-04-06T20:51:06.952Z"
   },
   {
    "duration": 29,
    "start_time": "2024-04-06T20:51:07.102Z"
   },
   {
    "duration": 86,
    "start_time": "2024-04-06T20:51:07.132Z"
   },
   {
    "duration": 3,
    "start_time": "2024-04-06T20:51:07.219Z"
   },
   {
    "duration": 35,
    "start_time": "2024-04-06T20:51:07.223Z"
   },
   {
    "duration": 2,
    "start_time": "2024-04-06T20:51:07.260Z"
   },
   {
    "duration": 9,
    "start_time": "2024-04-06T20:51:07.263Z"
   },
   {
    "duration": 8,
    "start_time": "2024-04-06T20:51:07.273Z"
   },
   {
    "duration": 18,
    "start_time": "2024-04-06T20:51:07.282Z"
   },
   {
    "duration": 24,
    "start_time": "2024-04-06T20:51:07.301Z"
   },
   {
    "duration": 29,
    "start_time": "2024-04-06T20:51:07.326Z"
   },
   {
    "duration": 34,
    "start_time": "2024-04-06T20:51:07.356Z"
   },
   {
    "duration": 23,
    "start_time": "2024-04-06T20:51:07.392Z"
   },
   {
    "duration": 33,
    "start_time": "2024-04-06T20:51:07.416Z"
   },
   {
    "duration": 1067,
    "start_time": "2024-04-06T20:57:17.463Z"
   },
   {
    "duration": 68,
    "start_time": "2024-04-06T20:57:18.533Z"
   },
   {
    "duration": 10,
    "start_time": "2024-04-06T20:57:18.602Z"
   },
   {
    "duration": 28,
    "start_time": "2024-04-06T20:57:18.613Z"
   },
   {
    "duration": 31,
    "start_time": "2024-04-06T20:57:18.642Z"
   },
   {
    "duration": 25,
    "start_time": "2024-04-06T20:57:18.675Z"
   },
   {
    "duration": 19,
    "start_time": "2024-04-06T20:57:18.702Z"
   },
   {
    "duration": 23,
    "start_time": "2024-04-06T20:57:18.723Z"
   },
   {
    "duration": 17,
    "start_time": "2024-04-06T20:57:18.748Z"
   },
   {
    "duration": 9,
    "start_time": "2024-04-06T20:57:18.767Z"
   },
   {
    "duration": 4,
    "start_time": "2024-04-06T20:57:18.778Z"
   },
   {
    "duration": 22,
    "start_time": "2024-04-06T20:57:18.783Z"
   },
   {
    "duration": 4,
    "start_time": "2024-04-06T20:57:18.806Z"
   },
   {
    "duration": 7,
    "start_time": "2024-04-06T20:57:18.811Z"
   },
   {
    "duration": 13,
    "start_time": "2024-04-06T20:57:18.819Z"
   },
   {
    "duration": 7,
    "start_time": "2024-04-06T20:57:18.833Z"
   },
   {
    "duration": 4,
    "start_time": "2024-04-06T20:57:18.841Z"
   },
   {
    "duration": 149,
    "start_time": "2024-04-06T20:57:18.846Z"
   },
   {
    "duration": 81,
    "start_time": "2024-04-06T20:57:18.997Z"
   },
   {
    "duration": 159,
    "start_time": "2024-04-06T20:57:19.079Z"
   },
   {
    "duration": 157,
    "start_time": "2024-04-06T20:57:19.239Z"
   },
   {
    "duration": 154,
    "start_time": "2024-04-06T20:57:19.398Z"
   },
   {
    "duration": 41,
    "start_time": "2024-04-06T20:57:19.553Z"
   },
   {
    "duration": 19,
    "start_time": "2024-04-06T20:57:19.596Z"
   },
   {
    "duration": 160,
    "start_time": "2024-04-06T20:57:19.616Z"
   },
   {
    "duration": 157,
    "start_time": "2024-04-06T20:57:19.777Z"
   },
   {
    "duration": 19,
    "start_time": "2024-04-06T20:57:19.936Z"
   },
   {
    "duration": 161,
    "start_time": "2024-04-06T20:57:19.959Z"
   },
   {
    "duration": 156,
    "start_time": "2024-04-06T20:57:20.122Z"
   },
   {
    "duration": 40,
    "start_time": "2024-04-06T20:57:20.279Z"
   },
   {
    "duration": 85,
    "start_time": "2024-04-06T20:57:20.320Z"
   },
   {
    "duration": 2,
    "start_time": "2024-04-06T20:57:20.406Z"
   },
   {
    "duration": 27,
    "start_time": "2024-04-06T20:57:20.409Z"
   },
   {
    "duration": 2,
    "start_time": "2024-04-06T20:57:20.437Z"
   },
   {
    "duration": 7,
    "start_time": "2024-04-06T20:57:20.440Z"
   },
   {
    "duration": 9,
    "start_time": "2024-04-06T20:57:20.448Z"
   },
   {
    "duration": 8,
    "start_time": "2024-04-06T20:57:20.459Z"
   },
   {
    "duration": 11,
    "start_time": "2024-04-06T20:57:20.468Z"
   },
   {
    "duration": 16,
    "start_time": "2024-04-06T20:57:20.481Z"
   },
   {
    "duration": 16,
    "start_time": "2024-04-06T20:57:20.498Z"
   },
   {
    "duration": 7,
    "start_time": "2024-04-06T20:57:20.515Z"
   },
   {
    "duration": 7,
    "start_time": "2024-04-06T20:57:20.523Z"
   },
   {
    "duration": 2477,
    "start_time": "2024-04-07T16:56:03.202Z"
   },
   {
    "duration": 180,
    "start_time": "2024-04-07T16:56:05.681Z"
   },
   {
    "duration": 86,
    "start_time": "2024-04-07T16:56:05.873Z"
   },
   {
    "duration": 19,
    "start_time": "2024-04-07T16:56:05.961Z"
   },
   {
    "duration": 91,
    "start_time": "2024-04-07T16:56:05.982Z"
   },
   {
    "duration": 85,
    "start_time": "2024-04-07T16:56:06.076Z"
   },
   {
    "duration": 11,
    "start_time": "2024-04-07T16:56:06.167Z"
   },
   {
    "duration": 89,
    "start_time": "2024-04-07T16:56:06.180Z"
   },
   {
    "duration": 6,
    "start_time": "2024-04-07T16:56:06.270Z"
   },
   {
    "duration": 95,
    "start_time": "2024-04-07T16:56:06.278Z"
   },
   {
    "duration": 6,
    "start_time": "2024-04-07T16:56:06.375Z"
   },
   {
    "duration": 15,
    "start_time": "2024-04-07T16:56:06.459Z"
   },
   {
    "duration": 88,
    "start_time": "2024-04-07T16:56:06.476Z"
   },
   {
    "duration": 10,
    "start_time": "2024-04-07T16:56:06.569Z"
   },
   {
    "duration": 84,
    "start_time": "2024-04-07T16:56:06.582Z"
   },
   {
    "duration": 13,
    "start_time": "2024-04-07T16:56:06.668Z"
   },
   {
    "duration": 5,
    "start_time": "2024-04-07T16:56:06.683Z"
   },
   {
    "duration": 495,
    "start_time": "2024-04-07T16:56:06.690Z"
   },
   {
    "duration": 583,
    "start_time": "2024-04-07T16:56:07.187Z"
   },
   {
    "duration": 701,
    "start_time": "2024-04-07T16:56:07.773Z"
   },
   {
    "duration": 786,
    "start_time": "2024-04-07T16:56:08.476Z"
   },
   {
    "duration": 816,
    "start_time": "2024-04-07T16:56:09.264Z"
   },
   {
    "duration": 181,
    "start_time": "2024-04-07T16:56:10.082Z"
   },
   {
    "duration": 108,
    "start_time": "2024-04-07T16:56:10.264Z"
   },
   {
    "duration": 605,
    "start_time": "2024-04-07T16:56:10.376Z"
   },
   {
    "duration": 604,
    "start_time": "2024-04-07T16:56:11.056Z"
   },
   {
    "duration": 113,
    "start_time": "2024-04-07T16:56:11.667Z"
   },
   {
    "duration": 701,
    "start_time": "2024-04-07T16:56:11.782Z"
   },
   {
    "duration": 695,
    "start_time": "2024-04-07T16:56:12.484Z"
   },
   {
    "duration": 194,
    "start_time": "2024-04-07T16:56:13.181Z"
   },
   {
    "duration": 212,
    "start_time": "2024-04-07T16:56:13.377Z"
   },
   {
    "duration": 7,
    "start_time": "2024-04-07T16:56:13.591Z"
   },
   {
    "duration": 29,
    "start_time": "2024-04-07T16:56:13.659Z"
   },
   {
    "duration": 7,
    "start_time": "2024-04-07T16:56:13.690Z"
   },
   {
    "duration": 82,
    "start_time": "2024-04-07T16:56:13.699Z"
   },
   {
    "duration": 79,
    "start_time": "2024-04-07T16:56:13.782Z"
   },
   {
    "duration": 10,
    "start_time": "2024-04-07T16:56:13.863Z"
   },
   {
    "duration": 9,
    "start_time": "2024-04-07T16:56:13.875Z"
   },
   {
    "duration": 19,
    "start_time": "2024-04-07T16:56:13.955Z"
   },
   {
    "duration": 89,
    "start_time": "2024-04-07T16:56:13.976Z"
   },
   {
    "duration": 12,
    "start_time": "2024-04-07T16:56:14.070Z"
   },
   {
    "duration": 79,
    "start_time": "2024-04-07T16:56:14.087Z"
   },
   {
    "duration": 18,
    "start_time": "2024-04-07T17:01:40.682Z"
   },
   {
    "duration": 8,
    "start_time": "2024-04-07T17:01:48.773Z"
   },
   {
    "duration": 19,
    "start_time": "2024-04-07T17:02:04.932Z"
   },
   {
    "duration": 1340,
    "start_time": "2024-04-07T18:09:03.588Z"
   },
   {
    "duration": 313,
    "start_time": "2024-04-07T18:09:04.930Z"
   },
   {
    "duration": 14,
    "start_time": "2024-04-07T18:09:05.245Z"
   },
   {
    "duration": 24,
    "start_time": "2024-04-07T18:09:05.262Z"
   },
   {
    "duration": 18,
    "start_time": "2024-04-07T18:09:05.288Z"
   },
   {
    "duration": 49,
    "start_time": "2024-04-07T18:09:05.307Z"
   },
   {
    "duration": 21,
    "start_time": "2024-04-07T18:09:05.358Z"
   },
   {
    "duration": 58,
    "start_time": "2024-04-07T18:09:05.380Z"
   },
   {
    "duration": 29,
    "start_time": "2024-04-07T18:09:05.440Z"
   },
   {
    "duration": 49,
    "start_time": "2024-04-07T18:09:05.472Z"
   },
   {
    "duration": 20,
    "start_time": "2024-04-07T18:09:05.523Z"
   },
   {
    "duration": 25,
    "start_time": "2024-04-07T18:09:05.544Z"
   },
   {
    "duration": 6,
    "start_time": "2024-04-07T18:09:05.571Z"
   },
   {
    "duration": 12,
    "start_time": "2024-04-07T18:09:05.578Z"
   },
   {
    "duration": 32,
    "start_time": "2024-04-07T18:09:05.592Z"
   },
   {
    "duration": 19,
    "start_time": "2024-04-07T18:09:05.626Z"
   },
   {
    "duration": 24,
    "start_time": "2024-04-07T18:09:05.646Z"
   },
   {
    "duration": 155,
    "start_time": "2024-04-07T18:09:05.672Z"
   },
   {
    "duration": 89,
    "start_time": "2024-04-07T18:09:05.829Z"
   },
   {
    "duration": 195,
    "start_time": "2024-04-07T18:09:05.920Z"
   },
   {
    "duration": 184,
    "start_time": "2024-04-07T18:09:06.117Z"
   },
   {
    "duration": 177,
    "start_time": "2024-04-07T18:09:06.303Z"
   },
   {
    "duration": 33,
    "start_time": "2024-04-07T18:09:06.481Z"
   },
   {
    "duration": 21,
    "start_time": "2024-04-07T18:09:06.515Z"
   },
   {
    "duration": 194,
    "start_time": "2024-04-07T18:09:06.538Z"
   },
   {
    "duration": 179,
    "start_time": "2024-04-07T18:09:06.733Z"
   },
   {
    "duration": 21,
    "start_time": "2024-04-07T18:09:06.913Z"
   },
   {
    "duration": 172,
    "start_time": "2024-04-07T18:09:06.937Z"
   },
   {
    "duration": 259,
    "start_time": "2024-04-07T18:09:07.111Z"
   },
   {
    "duration": 33,
    "start_time": "2024-04-07T18:09:07.371Z"
   },
   {
    "duration": 19,
    "start_time": "2024-04-07T18:09:07.406Z"
   },
   {
    "duration": 2,
    "start_time": "2024-04-07T18:09:07.426Z"
   },
   {
    "duration": 44,
    "start_time": "2024-04-07T18:09:07.430Z"
   },
   {
    "duration": 2,
    "start_time": "2024-04-07T18:09:07.475Z"
   },
   {
    "duration": 8,
    "start_time": "2024-04-07T18:09:07.478Z"
   },
   {
    "duration": 11,
    "start_time": "2024-04-07T18:09:07.488Z"
   },
   {
    "duration": 8,
    "start_time": "2024-04-07T18:09:07.500Z"
   },
   {
    "duration": 5,
    "start_time": "2024-04-07T18:09:07.509Z"
   },
   {
    "duration": 34,
    "start_time": "2024-04-07T18:09:07.515Z"
   },
   {
    "duration": 15,
    "start_time": "2024-04-07T18:09:07.551Z"
   },
   {
    "duration": 12,
    "start_time": "2024-04-07T18:09:07.567Z"
   },
   {
    "duration": 9,
    "start_time": "2024-04-07T18:09:07.580Z"
   },
   {
    "duration": 108,
    "start_time": "2024-04-07T18:18:30.859Z"
   },
   {
    "duration": 404,
    "start_time": "2024-04-07T18:22:38.302Z"
   },
   {
    "duration": 32,
    "start_time": "2024-04-07T18:26:16.940Z"
   },
   {
    "duration": 33,
    "start_time": "2024-04-07T18:26:39.749Z"
   },
   {
    "duration": 56,
    "start_time": "2024-04-07T18:27:18.228Z"
   },
   {
    "duration": 19,
    "start_time": "2024-04-07T18:29:27.104Z"
   },
   {
    "duration": 1096,
    "start_time": "2024-04-07T18:29:51.968Z"
   },
   {
    "duration": 73,
    "start_time": "2024-04-07T18:29:53.066Z"
   },
   {
    "duration": 13,
    "start_time": "2024-04-07T18:29:53.141Z"
   },
   {
    "duration": 17,
    "start_time": "2024-04-07T18:29:53.157Z"
   },
   {
    "duration": 22,
    "start_time": "2024-04-07T18:29:53.176Z"
   },
   {
    "duration": 20,
    "start_time": "2024-04-07T18:29:53.200Z"
   },
   {
    "duration": 11,
    "start_time": "2024-04-07T18:29:53.222Z"
   },
   {
    "duration": 11,
    "start_time": "2024-04-07T18:29:53.234Z"
   },
   {
    "duration": 10,
    "start_time": "2024-04-07T18:29:53.247Z"
   },
   {
    "duration": 23,
    "start_time": "2024-04-07T18:29:53.259Z"
   },
   {
    "duration": 7,
    "start_time": "2024-04-07T18:29:53.283Z"
   },
   {
    "duration": 18,
    "start_time": "2024-04-07T18:29:53.292Z"
   },
   {
    "duration": 15,
    "start_time": "2024-04-07T18:29:53.312Z"
   },
   {
    "duration": 45,
    "start_time": "2024-04-07T18:29:53.328Z"
   },
   {
    "duration": 34,
    "start_time": "2024-04-07T18:29:53.375Z"
   },
   {
    "duration": 11,
    "start_time": "2024-04-07T18:29:53.411Z"
   },
   {
    "duration": 29,
    "start_time": "2024-04-07T18:29:53.424Z"
   },
   {
    "duration": 159,
    "start_time": "2024-04-07T18:29:53.454Z"
   },
   {
    "duration": 86,
    "start_time": "2024-04-07T18:29:53.615Z"
   },
   {
    "duration": 175,
    "start_time": "2024-04-07T18:29:53.703Z"
   },
   {
    "duration": 184,
    "start_time": "2024-04-07T18:29:53.880Z"
   },
   {
    "duration": 173,
    "start_time": "2024-04-07T18:29:54.066Z"
   },
   {
    "duration": 43,
    "start_time": "2024-04-07T18:29:54.241Z"
   },
   {
    "duration": 22,
    "start_time": "2024-04-07T18:29:54.285Z"
   },
   {
    "duration": 226,
    "start_time": "2024-04-07T18:29:54.310Z"
   },
   {
    "duration": 186,
    "start_time": "2024-04-07T18:29:54.538Z"
   },
   {
    "duration": 31,
    "start_time": "2024-04-07T18:29:54.726Z"
   },
   {
    "duration": 173,
    "start_time": "2024-04-07T18:29:54.761Z"
   },
   {
    "duration": 180,
    "start_time": "2024-04-07T18:29:54.936Z"
   },
   {
    "duration": 135,
    "start_time": "2024-04-07T18:29:55.118Z"
   },
   {
    "duration": 3,
    "start_time": "2024-04-07T18:29:55.256Z"
   },
   {
    "duration": 14,
    "start_time": "2024-04-07T18:29:55.261Z"
   },
   {
    "duration": 115,
    "start_time": "2024-04-07T18:29:55.276Z"
   },
   {
    "duration": 0,
    "start_time": "2024-04-07T18:29:55.392Z"
   },
   {
    "duration": 0,
    "start_time": "2024-04-07T18:29:55.394Z"
   },
   {
    "duration": 0,
    "start_time": "2024-04-07T18:29:55.395Z"
   },
   {
    "duration": 0,
    "start_time": "2024-04-07T18:29:55.396Z"
   },
   {
    "duration": 0,
    "start_time": "2024-04-07T18:29:55.397Z"
   },
   {
    "duration": 0,
    "start_time": "2024-04-07T18:29:55.398Z"
   },
   {
    "duration": 0,
    "start_time": "2024-04-07T18:29:55.399Z"
   },
   {
    "duration": 0,
    "start_time": "2024-04-07T18:29:55.400Z"
   },
   {
    "duration": 0,
    "start_time": "2024-04-07T18:29:55.401Z"
   },
   {
    "duration": 58,
    "start_time": "2024-04-07T18:32:14.914Z"
   },
   {
    "duration": 55,
    "start_time": "2024-04-07T18:33:10.076Z"
   },
   {
    "duration": 20,
    "start_time": "2024-04-07T18:33:20.668Z"
   },
   {
    "duration": 1154,
    "start_time": "2024-04-07T18:33:54.082Z"
   },
   {
    "duration": 72,
    "start_time": "2024-04-07T18:33:55.238Z"
   },
   {
    "duration": 12,
    "start_time": "2024-04-07T18:33:55.312Z"
   },
   {
    "duration": 11,
    "start_time": "2024-04-07T18:33:55.326Z"
   },
   {
    "duration": 10,
    "start_time": "2024-04-07T18:33:55.339Z"
   },
   {
    "duration": 11,
    "start_time": "2024-04-07T18:33:55.351Z"
   },
   {
    "duration": 7,
    "start_time": "2024-04-07T18:33:55.363Z"
   },
   {
    "duration": 11,
    "start_time": "2024-04-07T18:33:55.372Z"
   },
   {
    "duration": 4,
    "start_time": "2024-04-07T18:33:55.384Z"
   },
   {
    "duration": 9,
    "start_time": "2024-04-07T18:33:55.391Z"
   },
   {
    "duration": 6,
    "start_time": "2024-04-07T18:33:55.401Z"
   },
   {
    "duration": 5,
    "start_time": "2024-04-07T18:33:55.409Z"
   },
   {
    "duration": 42,
    "start_time": "2024-04-07T18:33:55.415Z"
   },
   {
    "duration": 6,
    "start_time": "2024-04-07T18:33:55.458Z"
   },
   {
    "duration": 15,
    "start_time": "2024-04-07T18:33:55.465Z"
   },
   {
    "duration": 7,
    "start_time": "2024-04-07T18:33:55.482Z"
   },
   {
    "duration": 5,
    "start_time": "2024-04-07T18:33:55.490Z"
   },
   {
    "duration": 181,
    "start_time": "2024-04-07T18:33:55.496Z"
   },
   {
    "duration": 90,
    "start_time": "2024-04-07T18:33:55.678Z"
   },
   {
    "duration": 173,
    "start_time": "2024-04-07T18:33:55.769Z"
   },
   {
    "duration": 180,
    "start_time": "2024-04-07T18:33:55.944Z"
   },
   {
    "duration": 167,
    "start_time": "2024-04-07T18:33:56.125Z"
   },
   {
    "duration": 33,
    "start_time": "2024-04-07T18:33:56.294Z"
   },
   {
    "duration": 38,
    "start_time": "2024-04-07T18:33:56.329Z"
   },
   {
    "duration": 178,
    "start_time": "2024-04-07T18:33:56.369Z"
   },
   {
    "duration": 185,
    "start_time": "2024-04-07T18:33:56.549Z"
   },
   {
    "duration": 24,
    "start_time": "2024-04-07T18:33:56.736Z"
   },
   {
    "duration": 162,
    "start_time": "2024-04-07T18:33:56.763Z"
   },
   {
    "duration": 191,
    "start_time": "2024-04-07T18:33:56.926Z"
   },
   {
    "duration": 126,
    "start_time": "2024-04-07T18:33:57.118Z"
   },
   {
    "duration": 11,
    "start_time": "2024-04-07T18:33:57.245Z"
   },
   {
    "duration": 4,
    "start_time": "2024-04-07T18:33:57.258Z"
   },
   {
    "duration": 25,
    "start_time": "2024-04-07T18:33:57.264Z"
   },
   {
    "duration": 2,
    "start_time": "2024-04-07T18:33:57.291Z"
   },
   {
    "duration": 15,
    "start_time": "2024-04-07T18:33:57.295Z"
   },
   {
    "duration": 7,
    "start_time": "2024-04-07T18:33:57.311Z"
   },
   {
    "duration": 8,
    "start_time": "2024-04-07T18:33:57.319Z"
   },
   {
    "duration": 29,
    "start_time": "2024-04-07T18:33:57.328Z"
   },
   {
    "duration": 6,
    "start_time": "2024-04-07T18:33:57.358Z"
   },
   {
    "duration": 8,
    "start_time": "2024-04-07T18:33:57.365Z"
   },
   {
    "duration": 8,
    "start_time": "2024-04-07T18:33:57.374Z"
   },
   {
    "duration": 5,
    "start_time": "2024-04-07T18:33:57.384Z"
   },
   {
    "duration": 1275,
    "start_time": "2024-04-07T18:59:23.105Z"
   },
   {
    "duration": 76,
    "start_time": "2024-04-07T18:59:24.383Z"
   },
   {
    "duration": 12,
    "start_time": "2024-04-07T18:59:24.460Z"
   },
   {
    "duration": 10,
    "start_time": "2024-04-07T18:59:24.474Z"
   },
   {
    "duration": 10,
    "start_time": "2024-04-07T18:59:24.485Z"
   },
   {
    "duration": 12,
    "start_time": "2024-04-07T18:59:24.496Z"
   },
   {
    "duration": 6,
    "start_time": "2024-04-07T18:59:24.509Z"
   },
   {
    "duration": 9,
    "start_time": "2024-04-07T18:59:24.517Z"
   },
   {
    "duration": 29,
    "start_time": "2024-04-07T18:59:24.528Z"
   },
   {
    "duration": 8,
    "start_time": "2024-04-07T18:59:24.559Z"
   },
   {
    "duration": 5,
    "start_time": "2024-04-07T18:59:24.569Z"
   },
   {
    "duration": 6,
    "start_time": "2024-04-07T18:59:24.575Z"
   },
   {
    "duration": 5,
    "start_time": "2024-04-07T18:59:24.582Z"
   },
   {
    "duration": 6,
    "start_time": "2024-04-07T18:59:24.588Z"
   },
   {
    "duration": 14,
    "start_time": "2024-04-07T18:59:24.595Z"
   },
   {
    "duration": 46,
    "start_time": "2024-04-07T18:59:24.611Z"
   },
   {
    "duration": 5,
    "start_time": "2024-04-07T18:59:24.658Z"
   },
   {
    "duration": 168,
    "start_time": "2024-04-07T18:59:24.664Z"
   },
   {
    "duration": 82,
    "start_time": "2024-04-07T18:59:24.833Z"
   },
   {
    "duration": 180,
    "start_time": "2024-04-07T18:59:24.917Z"
   },
   {
    "duration": 197,
    "start_time": "2024-04-07T18:59:25.099Z"
   },
   {
    "duration": 181,
    "start_time": "2024-04-07T18:59:25.297Z"
   },
   {
    "duration": 32,
    "start_time": "2024-04-07T18:59:25.479Z"
   },
   {
    "duration": 21,
    "start_time": "2024-04-07T18:59:25.512Z"
   },
   {
    "duration": 184,
    "start_time": "2024-04-07T18:59:25.534Z"
   },
   {
    "duration": 175,
    "start_time": "2024-04-07T18:59:25.719Z"
   },
   {
    "duration": 21,
    "start_time": "2024-04-07T18:59:25.896Z"
   },
   {
    "duration": 175,
    "start_time": "2024-04-07T18:59:25.920Z"
   },
   {
    "duration": 169,
    "start_time": "2024-04-07T18:59:26.096Z"
   },
   {
    "duration": 133,
    "start_time": "2024-04-07T18:59:26.267Z"
   },
   {
    "duration": 2,
    "start_time": "2024-04-07T18:59:26.402Z"
   },
   {
    "duration": 3,
    "start_time": "2024-04-07T18:59:26.405Z"
   },
   {
    "duration": 20,
    "start_time": "2024-04-07T18:59:26.410Z"
   },
   {
    "duration": 3,
    "start_time": "2024-04-07T18:59:26.458Z"
   },
   {
    "duration": 7,
    "start_time": "2024-04-07T18:59:26.463Z"
   },
   {
    "duration": 11,
    "start_time": "2024-04-07T18:59:26.472Z"
   },
   {
    "duration": 8,
    "start_time": "2024-04-07T18:59:26.485Z"
   },
   {
    "duration": 5,
    "start_time": "2024-04-07T18:59:26.494Z"
   },
   {
    "duration": 6,
    "start_time": "2024-04-07T18:59:26.501Z"
   },
   {
    "duration": 9,
    "start_time": "2024-04-07T18:59:26.508Z"
   },
   {
    "duration": 48,
    "start_time": "2024-04-07T18:59:26.519Z"
   },
   {
    "duration": 7,
    "start_time": "2024-04-07T18:59:26.569Z"
   },
   {
    "duration": 1144,
    "start_time": "2024-04-07T19:05:57.690Z"
   },
   {
    "duration": 73,
    "start_time": "2024-04-07T19:05:58.836Z"
   },
   {
    "duration": 11,
    "start_time": "2024-04-07T19:05:58.911Z"
   },
   {
    "duration": 10,
    "start_time": "2024-04-07T19:05:58.924Z"
   },
   {
    "duration": 11,
    "start_time": "2024-04-07T19:05:58.936Z"
   },
   {
    "duration": 10,
    "start_time": "2024-04-07T19:05:58.949Z"
   },
   {
    "duration": 6,
    "start_time": "2024-04-07T19:05:58.960Z"
   },
   {
    "duration": 9,
    "start_time": "2024-04-07T19:05:58.967Z"
   },
   {
    "duration": 2,
    "start_time": "2024-04-07T19:05:58.977Z"
   },
   {
    "duration": 10,
    "start_time": "2024-04-07T19:05:58.981Z"
   },
   {
    "duration": 6,
    "start_time": "2024-04-07T19:05:58.993Z"
   },
   {
    "duration": 10,
    "start_time": "2024-04-07T19:05:59.001Z"
   },
   {
    "duration": 6,
    "start_time": "2024-04-07T19:05:59.012Z"
   },
   {
    "duration": 39,
    "start_time": "2024-04-07T19:05:59.022Z"
   },
   {
    "duration": 15,
    "start_time": "2024-04-07T19:05:59.063Z"
   },
   {
    "duration": 8,
    "start_time": "2024-04-07T19:05:59.080Z"
   },
   {
    "duration": 5,
    "start_time": "2024-04-07T19:05:59.089Z"
   },
   {
    "duration": 178,
    "start_time": "2024-04-07T19:05:59.095Z"
   },
   {
    "duration": 91,
    "start_time": "2024-04-07T19:05:59.275Z"
   },
   {
    "duration": 169,
    "start_time": "2024-04-07T19:05:59.368Z"
   },
   {
    "duration": 174,
    "start_time": "2024-04-07T19:05:59.538Z"
   },
   {
    "duration": 176,
    "start_time": "2024-04-07T19:05:59.713Z"
   },
   {
    "duration": 32,
    "start_time": "2024-04-07T19:05:59.891Z"
   },
   {
    "duration": 38,
    "start_time": "2024-04-07T19:05:59.924Z"
   },
   {
    "duration": 194,
    "start_time": "2024-04-07T19:05:59.964Z"
   },
   {
    "duration": 180,
    "start_time": "2024-04-07T19:06:00.159Z"
   },
   {
    "duration": 28,
    "start_time": "2024-04-07T19:06:00.340Z"
   },
   {
    "duration": 206,
    "start_time": "2024-04-07T19:06:00.369Z"
   },
   {
    "duration": 171,
    "start_time": "2024-04-07T19:06:00.576Z"
   },
   {
    "duration": 132,
    "start_time": "2024-04-07T19:06:00.749Z"
   },
   {
    "duration": 2,
    "start_time": "2024-04-07T19:06:00.883Z"
   },
   {
    "duration": 43,
    "start_time": "2024-04-07T19:06:00.887Z"
   },
   {
    "duration": 39,
    "start_time": "2024-04-07T19:06:00.932Z"
   },
   {
    "duration": 18,
    "start_time": "2024-04-07T19:06:00.972Z"
   },
   {
    "duration": 39,
    "start_time": "2024-04-07T19:06:00.992Z"
   },
   {
    "duration": 32,
    "start_time": "2024-04-07T19:06:01.033Z"
   },
   {
    "duration": 43,
    "start_time": "2024-04-07T19:06:01.066Z"
   },
   {
    "duration": 35,
    "start_time": "2024-04-07T19:06:01.110Z"
   },
   {
    "duration": 30,
    "start_time": "2024-04-07T19:06:01.147Z"
   },
   {
    "duration": 50,
    "start_time": "2024-04-07T19:06:01.179Z"
   },
   {
    "duration": 31,
    "start_time": "2024-04-07T19:06:01.234Z"
   },
   {
    "duration": 54,
    "start_time": "2024-04-07T19:06:01.266Z"
   },
   {
    "duration": 9,
    "start_time": "2024-04-07T19:24:37.209Z"
   },
   {
    "duration": 10,
    "start_time": "2024-04-07T19:24:40.620Z"
   },
   {
    "duration": 9,
    "start_time": "2024-04-07T19:25:04.306Z"
   },
   {
    "duration": 1113,
    "start_time": "2024-04-07T19:29:52.710Z"
   },
   {
    "duration": 76,
    "start_time": "2024-04-07T19:29:53.825Z"
   },
   {
    "duration": 12,
    "start_time": "2024-04-07T19:29:53.902Z"
   },
   {
    "duration": 45,
    "start_time": "2024-04-07T19:29:53.916Z"
   },
   {
    "duration": 14,
    "start_time": "2024-04-07T19:29:53.963Z"
   },
   {
    "duration": 23,
    "start_time": "2024-04-07T19:29:53.978Z"
   },
   {
    "duration": 10,
    "start_time": "2024-04-07T19:29:54.003Z"
   },
   {
    "duration": 21,
    "start_time": "2024-04-07T19:29:54.014Z"
   },
   {
    "duration": 8,
    "start_time": "2024-04-07T19:29:54.037Z"
   },
   {
    "duration": 10,
    "start_time": "2024-04-07T19:29:54.047Z"
   },
   {
    "duration": 6,
    "start_time": "2024-04-07T19:29:54.058Z"
   },
   {
    "duration": 15,
    "start_time": "2024-04-07T19:29:54.066Z"
   },
   {
    "duration": 23,
    "start_time": "2024-04-07T19:29:54.082Z"
   },
   {
    "duration": 6,
    "start_time": "2024-04-07T19:29:54.107Z"
   },
   {
    "duration": 23,
    "start_time": "2024-04-07T19:29:54.114Z"
   },
   {
    "duration": 22,
    "start_time": "2024-04-07T19:29:54.138Z"
   },
   {
    "duration": 5,
    "start_time": "2024-04-07T19:29:54.161Z"
   },
   {
    "duration": 174,
    "start_time": "2024-04-07T19:29:54.168Z"
   },
   {
    "duration": 130,
    "start_time": "2024-04-07T19:29:54.344Z"
   },
   {
    "duration": 175,
    "start_time": "2024-04-07T19:29:54.476Z"
   },
   {
    "duration": 181,
    "start_time": "2024-04-07T19:29:54.656Z"
   },
   {
    "duration": 182,
    "start_time": "2024-04-07T19:29:54.838Z"
   },
   {
    "duration": 42,
    "start_time": "2024-04-07T19:29:55.021Z"
   },
   {
    "duration": 22,
    "start_time": "2024-04-07T19:29:55.065Z"
   },
   {
    "duration": 196,
    "start_time": "2024-04-07T19:29:55.088Z"
   },
   {
    "duration": 194,
    "start_time": "2024-04-07T19:29:55.285Z"
   },
   {
    "duration": 24,
    "start_time": "2024-04-07T19:29:55.480Z"
   },
   {
    "duration": 185,
    "start_time": "2024-04-07T19:29:55.508Z"
   },
   {
    "duration": 174,
    "start_time": "2024-04-07T19:29:55.695Z"
   },
   {
    "duration": 133,
    "start_time": "2024-04-07T19:29:55.871Z"
   },
   {
    "duration": 3,
    "start_time": "2024-04-07T19:29:56.005Z"
   },
   {
    "duration": 6,
    "start_time": "2024-04-07T19:29:56.009Z"
   },
   {
    "duration": 21,
    "start_time": "2024-04-07T19:29:56.017Z"
   },
   {
    "duration": 2,
    "start_time": "2024-04-07T19:29:56.040Z"
   },
   {
    "duration": 7,
    "start_time": "2024-04-07T19:29:56.056Z"
   },
   {
    "duration": 16,
    "start_time": "2024-04-07T19:29:56.064Z"
   },
   {
    "duration": 20,
    "start_time": "2024-04-07T19:29:56.082Z"
   },
   {
    "duration": 6,
    "start_time": "2024-04-07T19:29:56.104Z"
   },
   {
    "duration": 6,
    "start_time": "2024-04-07T19:29:56.112Z"
   },
   {
    "duration": 10,
    "start_time": "2024-04-07T19:29:56.120Z"
   },
   {
    "duration": 30,
    "start_time": "2024-04-07T19:29:56.132Z"
   },
   {
    "duration": 7,
    "start_time": "2024-04-07T19:29:56.164Z"
   },
   {
    "duration": 1338,
    "start_time": "2024-04-08T05:37:34.450Z"
   },
   {
    "duration": 332,
    "start_time": "2024-04-08T05:37:35.790Z"
   },
   {
    "duration": 12,
    "start_time": "2024-04-08T05:37:36.124Z"
   },
   {
    "duration": 11,
    "start_time": "2024-04-08T05:37:36.138Z"
   },
   {
    "duration": 17,
    "start_time": "2024-04-08T05:37:36.151Z"
   },
   {
    "duration": 10,
    "start_time": "2024-04-08T05:37:36.170Z"
   },
   {
    "duration": 7,
    "start_time": "2024-04-08T05:37:36.182Z"
   },
   {
    "duration": 10,
    "start_time": "2024-04-08T05:37:36.191Z"
   },
   {
    "duration": 23,
    "start_time": "2024-04-08T05:37:36.202Z"
   },
   {
    "duration": 16,
    "start_time": "2024-04-08T05:37:36.229Z"
   },
   {
    "duration": 7,
    "start_time": "2024-04-08T05:37:36.247Z"
   },
   {
    "duration": 14,
    "start_time": "2024-04-08T05:37:36.255Z"
   },
   {
    "duration": 10,
    "start_time": "2024-04-08T05:37:36.271Z"
   },
   {
    "duration": 6,
    "start_time": "2024-04-08T05:37:36.282Z"
   },
   {
    "duration": 16,
    "start_time": "2024-04-08T05:37:36.289Z"
   },
   {
    "duration": 8,
    "start_time": "2024-04-08T05:37:36.306Z"
   },
   {
    "duration": 4,
    "start_time": "2024-04-08T05:37:36.316Z"
   },
   {
    "duration": 188,
    "start_time": "2024-04-08T05:37:36.322Z"
   },
   {
    "duration": 108,
    "start_time": "2024-04-08T05:37:36.511Z"
   },
   {
    "duration": 186,
    "start_time": "2024-04-08T05:37:36.620Z"
   },
   {
    "duration": 174,
    "start_time": "2024-04-08T05:37:36.807Z"
   },
   {
    "duration": 174,
    "start_time": "2024-04-08T05:37:36.983Z"
   },
   {
    "duration": 41,
    "start_time": "2024-04-08T05:37:37.159Z"
   },
   {
    "duration": 22,
    "start_time": "2024-04-08T05:37:37.202Z"
   },
   {
    "duration": 193,
    "start_time": "2024-04-08T05:37:37.226Z"
   },
   {
    "duration": 181,
    "start_time": "2024-04-08T05:37:37.421Z"
   },
   {
    "duration": 20,
    "start_time": "2024-04-08T05:37:37.603Z"
   },
   {
    "duration": 189,
    "start_time": "2024-04-08T05:37:37.626Z"
   },
   {
    "duration": 173,
    "start_time": "2024-04-08T05:37:37.817Z"
   },
   {
    "duration": 143,
    "start_time": "2024-04-08T05:37:37.991Z"
   },
   {
    "duration": 3,
    "start_time": "2024-04-08T05:37:38.135Z"
   },
   {
    "duration": 15,
    "start_time": "2024-04-08T05:37:38.139Z"
   },
   {
    "duration": 28,
    "start_time": "2024-04-08T05:37:38.156Z"
   },
   {
    "duration": 2,
    "start_time": "2024-04-08T05:37:38.185Z"
   },
   {
    "duration": 11,
    "start_time": "2024-04-08T05:37:38.189Z"
   },
   {
    "duration": 7,
    "start_time": "2024-04-08T05:37:38.202Z"
   },
   {
    "duration": 10,
    "start_time": "2024-04-08T05:37:38.211Z"
   },
   {
    "duration": 5,
    "start_time": "2024-04-08T05:37:38.222Z"
   },
   {
    "duration": 6,
    "start_time": "2024-04-08T05:37:38.229Z"
   },
   {
    "duration": 10,
    "start_time": "2024-04-08T05:37:38.236Z"
   },
   {
    "duration": 39,
    "start_time": "2024-04-08T05:37:38.247Z"
   },
   {
    "duration": 7,
    "start_time": "2024-04-08T05:37:38.287Z"
   },
   {
    "duration": 18,
    "start_time": "2024-04-08T05:38:20.065Z"
   },
   {
    "duration": 8,
    "start_time": "2024-04-08T05:38:26.795Z"
   },
   {
    "duration": 1040,
    "start_time": "2024-09-01T13:35:31.439Z"
   },
   {
    "duration": 392,
    "start_time": "2024-09-01T13:35:32.481Z"
   },
   {
    "duration": 11,
    "start_time": "2024-09-01T13:35:32.875Z"
   },
   {
    "duration": 11,
    "start_time": "2024-09-01T13:35:32.887Z"
   },
   {
    "duration": 20,
    "start_time": "2024-09-01T13:35:32.899Z"
   },
   {
    "duration": 90,
    "start_time": "2024-09-01T13:35:32.921Z"
   },
   {
    "duration": 6,
    "start_time": "2024-09-01T13:35:33.013Z"
   },
   {
    "duration": 10,
    "start_time": "2024-09-01T13:35:33.021Z"
   },
   {
    "duration": 3,
    "start_time": "2024-09-01T13:35:33.032Z"
   },
   {
    "duration": 17,
    "start_time": "2024-09-01T13:35:33.037Z"
   },
   {
    "duration": 6,
    "start_time": "2024-09-01T13:35:33.055Z"
   },
   {
    "duration": 5,
    "start_time": "2024-09-01T13:35:33.063Z"
   },
   {
    "duration": 4,
    "start_time": "2024-09-01T13:35:33.069Z"
   },
   {
    "duration": 6,
    "start_time": "2024-09-01T13:35:33.074Z"
   },
   {
    "duration": 14,
    "start_time": "2024-09-01T13:35:33.081Z"
   },
   {
    "duration": 31,
    "start_time": "2024-09-01T13:35:33.097Z"
   },
   {
    "duration": 5,
    "start_time": "2024-09-01T13:35:33.130Z"
   },
   {
    "duration": 140,
    "start_time": "2024-09-01T13:35:33.136Z"
   },
   {
    "duration": 81,
    "start_time": "2024-09-01T13:35:33.278Z"
   },
   {
    "duration": 159,
    "start_time": "2024-09-01T13:35:33.360Z"
   },
   {
    "duration": 158,
    "start_time": "2024-09-01T13:35:33.520Z"
   },
   {
    "duration": 149,
    "start_time": "2024-09-01T13:35:33.679Z"
   },
   {
    "duration": 29,
    "start_time": "2024-09-01T13:35:33.830Z"
   },
   {
    "duration": 14,
    "start_time": "2024-09-01T13:35:33.860Z"
   },
   {
    "duration": 169,
    "start_time": "2024-09-01T13:35:33.875Z"
   },
   {
    "duration": 151,
    "start_time": "2024-09-01T13:35:34.045Z"
   },
   {
    "duration": 13,
    "start_time": "2024-09-01T13:35:34.197Z"
   },
   {
    "duration": 147,
    "start_time": "2024-09-01T13:35:34.224Z"
   },
   {
    "duration": 153,
    "start_time": "2024-09-01T13:35:34.372Z"
   },
   {
    "duration": 110,
    "start_time": "2024-09-01T13:35:34.526Z"
   },
   {
    "duration": 2,
    "start_time": "2024-09-01T13:35:34.638Z"
   },
   {
    "duration": 23,
    "start_time": "2024-09-01T13:35:34.641Z"
   },
   {
    "duration": 49,
    "start_time": "2024-09-01T13:35:34.665Z"
   },
   {
    "duration": 5,
    "start_time": "2024-09-01T13:35:34.715Z"
   },
   {
    "duration": 14,
    "start_time": "2024-09-01T13:35:34.722Z"
   },
   {
    "duration": 6,
    "start_time": "2024-09-01T13:35:34.738Z"
   },
   {
    "duration": 8,
    "start_time": "2024-09-01T13:35:34.745Z"
   },
   {
    "duration": 8,
    "start_time": "2024-09-01T13:35:34.755Z"
   },
   {
    "duration": 9,
    "start_time": "2024-09-01T13:35:34.765Z"
   },
   {
    "duration": 8,
    "start_time": "2024-09-01T13:35:34.775Z"
   },
   {
    "duration": 7,
    "start_time": "2024-09-01T13:35:34.784Z"
   },
   {
    "duration": 15,
    "start_time": "2024-09-01T13:35:34.792Z"
   }
  ],
  "kernelspec": {
   "display_name": "Python 3 (ipykernel)",
   "language": "python",
   "name": "python3"
  },
  "language_info": {
   "codemirror_mode": {
    "name": "ipython",
    "version": 3
   },
   "file_extension": ".py",
   "mimetype": "text/x-python",
   "name": "python",
   "nbconvert_exporter": "python",
   "pygments_lexer": "ipython3",
   "version": "3.11.5"
  },
  "toc": {
   "base_numbering": 1,
   "nav_menu": {},
   "number_sections": true,
   "sideBar": true,
   "skip_h1_title": true,
   "title_cell": "Table of Contents",
   "title_sidebar": "Contents",
   "toc_cell": false,
   "toc_position": {},
   "toc_section_display": true,
   "toc_window_display": false
  }
 },
 "nbformat": 4,
 "nbformat_minor": 5
}
